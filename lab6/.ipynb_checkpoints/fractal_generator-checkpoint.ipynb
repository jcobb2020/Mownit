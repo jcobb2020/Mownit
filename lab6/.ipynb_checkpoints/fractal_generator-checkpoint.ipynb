{
 "cells": [
  {
   "cell_type": "code",
   "execution_count": 1,
   "metadata": {},
   "outputs": [
    {
     "name": "stdout",
     "output_type": "stream",
     "text": [
      "\u001b[32m\u001b[1m  Updating\u001b[22m\u001b[39m registry at `~/.julia/registries/General`\n",
      "\u001b[32m\u001b[1m  Updating\u001b[22m\u001b[39m git-repo `https://github.com/JuliaRegistries/General.git`\n",
      "\u001b[2K\u001b[?25h[1mFetching:\u001b[22m\u001b[39m [========================================>]  100.0 %.0 %==========>                              ]  24.3 %]  48.4 % [==============================>          ]  72.7 % ]  96.8 %\u001b[32m\u001b[1m Resolving\u001b[22m\u001b[39m package versions...\n",
      "\u001b[32m\u001b[1m  Updating\u001b[22m\u001b[39m `~/.julia/environments/v1.1/Project.toml`\n",
      "\u001b[90m [no changes]\u001b[39m\n",
      "\u001b[32m\u001b[1m  Updating\u001b[22m\u001b[39m `~/.julia/environments/v1.1/Manifest.toml`\n",
      "\u001b[90m [no changes]\u001b[39m\n"
     ]
    }
   ],
   "source": [
    "using Pkg\n",
    "Pkg.add(\"Images\")"
   ]
  },
  {
   "cell_type": "code",
   "execution_count": 2,
   "metadata": {},
   "outputs": [],
   "source": [
    "using Images\n",
    "using Roots\n",
    "using ForwardDiff"
   ]
  },
  {
   "cell_type": "code",
   "execution_count": 101,
   "metadata": {},
   "outputs": [
    {
     "data": {
      "text/plain": [
       "2000"
      ]
     },
     "execution_count": 101,
     "metadata": {},
     "output_type": "execute_result"
    }
   ],
   "source": [
    "z(x) = x^3 - 1\n",
    "dz(x) = 3*x^2\n",
    "scale = 1000\n",
    "height_ratio = 2\n",
    "width_ratio = 2\n",
    "h = height_ratio * scale\n",
    "w = width_ratio * scale"
   ]
  },
  {
   "cell_type": "code",
   "execution_count": 102,
   "metadata": {},
   "outputs": [
    {
     "data": {
      "text/plain": [
       "3-element Array{Complex{Float64},1}:\n",
       "  1.0 + 0.0im               \n",
       " -0.5 + 0.8660254037844386im\n",
       " -0.5 - 0.8660254037844386im"
      ]
     },
     "execution_count": 102,
     "metadata": {},
     "output_type": "execute_result"
    }
   ],
   "source": [
    "tolerance = 0.00001\n",
    "roots=[complex(1,0), complex(-0.5, sqrt(3)/2), complex(-0.5, -sqrt(3)/2)]\n"
   ]
  },
  {
   "cell_type": "code",
   "execution_count": 103,
   "metadata": {
    "scrolled": false
   },
   "outputs": [
    {
     "data": {
      "text/plain": [
       "2000×2000 Array{Int64,2}:\n",
       "            109613040  -7854115490554998016  …  -7017170401906086740\n",
       "      140581756687472     41538452261634195     -7637937189407712512\n",
       "            109613040  -7595883074752047469        42951324753854614\n",
       "            105192816  -7637939397021231616     -6917353103096243301\n",
       " -8463951954668647798     42386175777177750     -6865252744603631456\n",
       " -8502643771156297216  -7595883074752047466  …  -7277645907798286336\n",
       "    38995281715003530  -7637939397021231616        42951324787540120\n",
       " -8463951954668647798     42951324787409046     -7595883074718492520\n",
       " -8502643771156297216  -7451204928099280744     -7637939397021231616\n",
       "    38995281715003530  -7493822001332054016        42386175777177750\n",
       " -8463951954668647798     42951324787540120  …  -7812055856865831274\n",
       " -8502643771156297216  -7234187708120130664     -7854115490554998016\n",
       "    38995281715003530  -7277645907798287616        41538452261634195\n",
       "                    ⋮                        ⋱                      \n",
       " -7998232886244175616  -8680969174647797881     -8174595661363114354\n",
       "    40973303251271825  -8718819864690063616     -8358524167853797888\n",
       " -7957578441383964271     38147558199459975  …     39560430725365900\n",
       " -7998232886244175616  -8680969174647797881     -8319273808015881076\n",
       "    41538452261503121  -8718819864690063616     -8358526375467119616\n",
       " -7812900294731197549     38147558199459975        39560430725365900\n",
       " -7854115490554998016  -8680969174647797881     -8319273808015881076\n",
       "    41538452261634195  -8718819864690063616  …  -8358526375467119616\n",
       " -7812900294731197549     38147558199459975        39560430725365900\n",
       " -7854115490554998016  -8680969174647797881     -8319273808015881076\n",
       "    41538452261634195  -8718819864690063616     -8358526375467119616\n",
       " -7812900294731197549     38147558199459975        39560430725365900"
      ]
     },
     "execution_count": 103,
     "metadata": {},
     "output_type": "execute_result"
    }
   ],
   "source": [
    "res = Array{Float64}(undef, h, w)\n",
    "colors = Array{Int64}(undef, h, w)"
   ]
  },
  {
   "cell_type": "code",
   "execution_count": 104,
   "metadata": {},
   "outputs": [],
   "source": [
    "for i = 1:h\n",
    "    for j = 1:w\n",
    "        res[i, j] = 0\n",
    "        c=complex((i-h/2)/scale,(j-w/2)/scale)\n",
    "        while res[i,j]<360 && abs(c-roots[1])>=tolerance && abs(c-roots[2])>=tolerance && abs(c-roots[3])>=tolerance\n",
    "           \n",
    "            res[i,j]+=1\n",
    "            c -= z(c)/dz(c)\n",
    "        end\n",
    "        if abs(c-roots[1])<tolerance\n",
    "            colors[i,j] = 1\n",
    "        elseif abs(c-roots[2])<tolerance\n",
    "            colors[i,j] = 2\n",
    "        elseif abs(c-roots[2])<tolerance\n",
    "            colors[i,j] = 3\n",
    "        else\n",
    "            colors[i,j]=4\n",
    "        end\n",
    "    end\n",
    "end"
   ]
  },
  {
   "cell_type": "code",
   "execution_count": 105,
   "metadata": {
    "scrolled": false
   },
   "outputs": [
    {
     "data": {
      "text/plain": [
       "2000×2000 Array{Int64,2}:\n",
       " 4  4  4  4  4  4  4  4  4  4  4  4  4  …  2  2  2  2  2  2  2  2  2  2  2  2\n",
       " 4  4  4  4  4  4  4  4  4  4  4  4  4     2  2  2  2  2  2  2  2  2  2  2  2\n",
       " 4  4  4  4  4  4  4  4  4  4  4  4  4     2  2  2  2  2  2  2  2  2  2  2  2\n",
       " 4  4  4  4  4  4  4  4  4  4  4  4  4     2  2  2  2  2  2  2  2  2  2  2  2\n",
       " 4  4  4  4  4  4  4  4  4  4  4  4  4     2  2  2  2  2  2  2  2  2  2  2  2\n",
       " 4  4  4  4  4  4  4  4  4  4  4  4  4  …  2  2  2  2  2  2  2  2  2  2  2  2\n",
       " 4  4  4  4  4  4  4  4  4  4  4  4  4     2  2  2  2  2  2  2  2  2  2  2  2\n",
       " 4  4  4  4  4  4  4  4  4  4  4  4  4     2  2  2  2  2  2  2  2  2  2  2  2\n",
       " 4  4  4  4  4  4  4  4  4  4  4  4  4     2  2  2  2  2  2  2  2  2  2  2  2\n",
       " 4  4  4  4  4  4  4  4  4  4  4  4  4     2  2  2  2  2  2  2  2  2  2  2  2\n",
       " 4  4  4  4  4  4  4  4  4  4  4  4  4  …  2  2  2  2  2  2  2  2  2  2  2  2\n",
       " 4  4  4  4  4  4  4  4  4  4  4  4  4     2  2  2  2  2  2  2  2  2  2  2  2\n",
       " 4  4  4  4  4  4  4  4  4  4  4  4  4     2  2  2  2  2  2  2  2  2  2  2  2\n",
       " ⋮              ⋮              ⋮        ⋱        ⋮              ⋮            \n",
       " 1  1  1  1  1  1  1  1  1  1  1  1  1     1  1  1  1  1  1  1  1  1  1  1  1\n",
       " 1  1  1  1  1  1  1  1  1  1  1  1  1     1  1  1  1  1  1  1  1  1  1  1  1\n",
       " 1  1  1  1  1  1  1  1  1  1  1  1  1  …  1  1  1  1  1  1  1  1  1  1  1  1\n",
       " 1  1  1  1  1  1  1  1  1  1  1  1  1     1  1  1  1  1  1  1  1  1  1  1  1\n",
       " 1  1  1  1  1  1  1  1  1  1  1  1  1     1  1  1  1  1  1  1  1  1  1  1  1\n",
       " 1  1  1  1  1  1  1  1  1  1  1  1  1     1  1  1  1  1  1  1  1  1  1  1  1\n",
       " 1  1  1  1  1  1  1  1  1  1  1  1  1     1  1  1  1  1  1  1  1  1  1  1  1\n",
       " 1  1  1  1  1  1  1  1  1  1  1  1  1  …  1  1  1  1  1  1  1  1  1  1  1  1\n",
       " 1  1  1  1  1  1  1  1  1  1  1  1  1     1  1  1  1  1  1  1  1  1  1  1  1\n",
       " 1  1  1  1  1  1  1  1  1  1  1  1  1     1  1  1  1  1  1  1  1  1  1  1  1\n",
       " 1  1  1  1  1  1  1  1  1  1  1  1  1     1  1  1  1  1  1  1  1  1  1  1  1\n",
       " 1  1  1  1  1  1  1  1  1  1  1  1  1     1  1  1  1  1  1  1  1  1  1  1  1"
      ]
     },
     "execution_count": 105,
     "metadata": {},
     "output_type": "execute_result"
    }
   ],
   "source": [
    "colors"
   ]
  },
  {
   "cell_type": "code",
   "execution_count": 106,
   "metadata": {
    "scrolled": true
   },
   "outputs": [
    {
     "data": {
      "image/png": "[encoded data removed]",
      "text/plain": [
       "2000×2000 Array{RGB{Float64},2} with eltype RGB{Float64}:\n",
       " RGB{Float64}(0.0,0.0,0.0)  …  RGB{Float64}(0.0,0.0,0.0)\n",
       " RGB{Float64}(0.0,0.0,0.0)     RGB{Float64}(0.0,0.0,0.0)\n",
       " RGB{Float64}(0.0,0.0,0.0)     RGB{Float64}(0.0,0.0,0.0)\n",
       " RGB{Float64}(0.0,0.0,0.0)     RGB{Float64}(0.0,0.0,0.0)\n",
       " RGB{Float64}(0.0,0.0,0.0)     RGB{Float64}(0.0,0.0,0.0)\n",
       " RGB{Float64}(0.0,0.0,0.0)  …  RGB{Float64}(0.0,0.0,0.0)\n",
       " RGB{Float64}(0.0,0.0,0.0)     RGB{Float64}(0.0,0.0,0.0)\n",
       " RGB{Float64}(0.0,0.0,0.0)     RGB{Float64}(0.0,0.0,0.0)\n",
       " RGB{Float64}(0.0,0.0,0.0)     RGB{Float64}(0.0,0.0,0.0)\n",
       " RGB{Float64}(0.0,0.0,0.0)     RGB{Float64}(0.0,0.0,0.0)\n",
       " RGB{Float64}(0.0,0.0,0.0)  …  RGB{Float64}(0.0,0.0,0.0)\n",
       " RGB{Float64}(0.0,0.0,0.0)     RGB{Float64}(0.0,0.0,0.0)\n",
       " RGB{Float64}(0.0,0.0,0.0)     RGB{Float64}(0.0,0.0,0.0)\n",
       " ⋮                          ⋱                           \n",
       " RGB{Float64}(0.0,0.0,0.0)     RGB{Float64}(0.0,0.0,0.0)\n",
       " RGB{Float64}(0.0,0.0,0.0)     RGB{Float64}(0.0,0.0,0.0)\n",
       " RGB{Float64}(0.0,0.0,0.0)  …  RGB{Float64}(0.0,0.0,0.0)\n",
       " RGB{Float64}(0.0,0.0,0.0)     RGB{Float64}(0.0,0.0,0.0)\n",
       " RGB{Float64}(0.0,0.0,0.0)     RGB{Float64}(0.0,0.0,0.0)\n",
       " RGB{Float64}(0.0,0.0,0.0)     RGB{Float64}(0.0,0.0,0.0)\n",
       " RGB{Float64}(0.0,0.0,0.0)     RGB{Float64}(0.0,0.0,0.0)\n",
       " RGB{Float64}(0.0,0.0,0.0)  …  RGB{Float64}(0.0,0.0,0.0)\n",
       " RGB{Float64}(0.0,0.0,0.0)     RGB{Float64}(0.0,0.0,0.0)\n",
       " RGB{Float64}(0.0,0.0,0.0)     RGB{Float64}(0.0,0.0,0.0)\n",
       " RGB{Float64}(0.0,0.0,0.0)     RGB{Float64}(0.0,0.0,0.0)\n",
       " RGB{Float64}(0.0,0.0,0.0)     RGB{Float64}(0.0,0.0,0.0)"
      ]
     },
     "execution_count": 106,
     "metadata": {},
     "output_type": "execute_result"
    }
   ],
   "source": [
    "img = Array{RGB{Float64}}(undef, h, w)"
   ]
  },
  {
   "cell_type": "code",
   "execution_count": 9,
   "metadata": {},
   "outputs": [
    {
     "name": "stdout",
     "output_type": "stream",
     "text": [
      "\u001b[32m\u001b[1m Resolving\u001b[22m\u001b[39m package versions...\n",
      "\u001b[32m\u001b[1m  Updating\u001b[22m\u001b[39m `~/.julia/environments/v1.1/Project.toml`\n",
      "\u001b[90m [no changes]\u001b[39m\n",
      "\u001b[32m\u001b[1m  Updating\u001b[22m\u001b[39m `~/.julia/environments/v1.1/Manifest.toml`\n",
      "\u001b[90m [no changes]\u001b[39m\n"
     ]
    }
   ],
   "source": [
    "Pkg.add(\"ImageMagick\")"
   ]
  },
  {
   "cell_type": "code",
   "execution_count": 10,
   "metadata": {},
   "outputs": [
    {
     "name": "stdout",
     "output_type": "stream",
     "text": [
      "\u001b[32m\u001b[1m Resolving\u001b[22m\u001b[39m package versions...\n",
      "\u001b[32m\u001b[1m  Updating\u001b[22m\u001b[39m `~/.julia/environments/v1.1/Project.toml`\n",
      "\u001b[90m [no changes]\u001b[39m\n",
      "\u001b[32m\u001b[1m  Updating\u001b[22m\u001b[39m `~/.julia/environments/v1.1/Manifest.toml`\n",
      "\u001b[90m [no changes]\u001b[39m\n"
     ]
    }
   ],
   "source": [
    "Pkg.add(\"FileIO\")\n",
    "using FileIO"
   ]
  },
  {
   "cell_type": "code",
   "execution_count": 107,
   "metadata": {},
   "outputs": [],
   "source": [
    "m = maximum(res)\n",
    "for i=1:h\n",
    "    for j=1:w\n",
    "        if colors[i, j] == 1\n",
    "        img[i, j]=RGB{Float64}(res[i,j]/(2*m) + 0.5, res[i,j]/(2*m) + 0.5, 0.0) \n",
    "        elseif colors[i, j] ==2 \n",
    "        img[i, j]=RGB{Float64}(0.0, res[i,j]/(2*m) + 0.5, res[i,j]/(2*m) + 0.5)\n",
    "        elseif colors[i, j] ==4 \n",
    "        img[i, j]=RGB{Float64}(res[i,j]/(2*m) + 0.5, 0.0, res[i,j]/(2*m) + 0.5)\n",
    "        else\n",
    "        img[i, j]=RGB{Float64}(0.0, 0.0, 0.0)\n",
    "        end\n",
    "    end\n",
    "end\n"
   ]
  },
  {
   "cell_type": "code",
   "execution_count": 108,
   "metadata": {},
   "outputs": [
    {
     "data": {
      "image/svg+xml": [
       "<?xml version=\"1.0\" encoding=\"UTF-8\"?>\n",
       "<!DOCTYPE svg PUBLIC \"-//W3C//DTD SVG 1.1//EN\"\n",
       " \"http://www.w3.org/Graphics/SVG/1.1/DTD/svg11.dtd\">\n",
       "<svg xmlns=\"http://www.w3.org/2000/svg\" version=\"1.1\"\n",
       "     width=\"25mm\" height=\"25mm\" viewBox=\"0 0 1 1\">\n",
       "     <rect width=\"1\" height=\"1\"\n",
       "           fill=\"#8A008A\" stroke=\"none\"/>\n",
       "</svg>\n"
      ],
      "text/plain": [
       "RGB{Float64}(0.5392156862745098,0.0,0.5392156862745098)"
      ]
     },
     "execution_count": 108,
     "metadata": {},
     "output_type": "execute_result"
    }
   ],
   "source": [
    "maximum(img[3])"
   ]
  },
  {
   "cell_type": "code",
   "execution_count": 109,
   "metadata": {},
   "outputs": [],
   "source": [
    "save(\"img/NFcolors2.bmp\", img)"
   ]
  }
 ],
 "metadata": {
  "kernelspec": {
   "display_name": "Julia 1.1.0",
   "language": "julia",
   "name": "julia-1.1"
  },
  "language_info": {
   "file_extension": ".jl",
   "mimetype": "application/julia",
   "name": "julia",
   "version": "1.1.0"
  }
 },
 "nbformat": 4,
 "nbformat_minor": 2
}
