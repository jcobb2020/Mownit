{
 "cells": [
  {
   "cell_type": "code",
   "execution_count": 1,
   "metadata": {},
   "outputs": [
    {
     "name": "stdout",
     "output_type": "stream",
     "text": [
      "\u001b[32m\u001b[1m  Updating\u001b[22m\u001b[39m registry at `~/.julia/registries/General`\n",
      "\u001b[32m\u001b[1m  Updating\u001b[22m\u001b[39m git-repo `https://github.com/JuliaRegistries/General.git`\n",
      "\u001b[2K\u001b[?25h[1mFetching:\u001b[22m\u001b[39m [========================================>]  100.0 %.0 %44.9 %>   ]  90.3 %\u001b[32m\u001b[1m Resolving\u001b[22m\u001b[39m package versions...\n",
      "\u001b[32m\u001b[1m Installed\u001b[22m\u001b[39m AbstractFFTs ─ v0.4.1\n",
      "\u001b[32m\u001b[1m  Updating\u001b[22m\u001b[39m `~/.julia/environments/v1.1/Project.toml`\n",
      "\u001b[90m [no changes]\u001b[39m\n",
      "\u001b[32m\u001b[1m  Updating\u001b[22m\u001b[39m `~/.julia/environments/v1.1/Manifest.toml`\n",
      " \u001b[90m [621f4979]\u001b[39m\u001b[93m ↑ AbstractFFTs v0.4.0 ⇒ v0.4.1\u001b[39m\n",
      "\u001b[32m\u001b[1m Resolving\u001b[22m\u001b[39m package versions...\n",
      "\u001b[32m\u001b[1m  Updating\u001b[22m\u001b[39m `~/.julia/environments/v1.1/Project.toml`\n",
      "\u001b[90m [no changes]\u001b[39m\n",
      "\u001b[32m\u001b[1m  Updating\u001b[22m\u001b[39m `~/.julia/environments/v1.1/Manifest.toml`\n",
      "\u001b[90m [no changes]\u001b[39m\n",
      "\u001b[32m\u001b[1m Resolving\u001b[22m\u001b[39m package versions...\n",
      "\u001b[32m\u001b[1m  Updating\u001b[22m\u001b[39m `~/.julia/environments/v1.1/Project.toml`\n",
      "\u001b[90m [no changes]\u001b[39m\n",
      "\u001b[32m\u001b[1m  Updating\u001b[22m\u001b[39m `~/.julia/environments/v1.1/Manifest.toml`\n",
      "\u001b[90m [no changes]\u001b[39m\n"
     ]
    }
   ],
   "source": [
    "import Pkg\n",
    "Pkg.add(\"Plots\")\n",
    "Pkg.add(\"Roots\")\n",
    "Pkg.add(\"ForwardDiff\")\n",
    "using Plots\n",
    "using Roots\n",
    "using ForwardDiff"
   ]
  },
  {
   "cell_type": "code",
   "execution_count": 13,
   "metadata": {},
   "outputs": [
    {
     "data": {
      "image/svg+xml": [
       "<?xml version=\"1.0\" encoding=\"utf-8\"?>\n",
       "<svg xmlns=\"http://www.w3.org/2000/svg\" xmlns:xlink=\"http://www.w3.org/1999/xlink\" width=\"600\" height=\"400\" viewBox=\"0 0 2400 1600\">\n",
       "<defs>\n",
       "  <clipPath id=\"clip6500\">\n",
       "    <rect x=\"0\" y=\"0\" width=\"2400\" height=\"1600\"/>\n",
       "  </clipPath>\n",
       "</defs>\n",
       "<polygon clip-path=\"url(#clip6500)\" points=\"\n",
       "0,1600 2400,1600 2400,0 0,0 \n",
       "  \" fill=\"#ffffff\" fill-rule=\"evenodd\" fill-opacity=\"1\"/>\n",
       "<defs>\n",
       "  <clipPath id=\"clip6501\">\n",
       "    <rect x=\"480\" y=\"0\" width=\"1681\" height=\"1600\"/>\n",
       "  </clipPath>\n",
       "</defs>\n",
       "<polygon clip-path=\"url(#clip6500)\" points=\"\n",
       "176.123,1503.47 2321.26,1503.47 2321.26,47.2441 176.123,47.2441 \n",
       "  \" fill=\"#ffffff\" fill-rule=\"evenodd\" fill-opacity=\"1\"/>\n",
       "<defs>\n",
       "  <clipPath id=\"clip6502\">\n",
       "    <rect x=\"176\" y=\"47\" width=\"2146\" height=\"1457\"/>\n",
       "  </clipPath>\n",
       "</defs>\n",
       "<polyline clip-path=\"url(#clip6502)\" style=\"stroke:#000000; stroke-width:2; stroke-opacity:0.1; fill:none\" points=\"\n",
       "  215.498,1503.47 215.498,47.2441 \n",
       "  \"/>\n",
       "<polyline clip-path=\"url(#clip6502)\" style=\"stroke:#000000; stroke-width:2; stroke-opacity:0.1; fill:none\" points=\"\n",
       "  733.275,1503.47 733.275,47.2441 \n",
       "  \"/>\n",
       "<polyline clip-path=\"url(#clip6502)\" style=\"stroke:#000000; stroke-width:2; stroke-opacity:0.1; fill:none\" points=\"\n",
       "  1251.05,1503.47 1251.05,47.2441 \n",
       "  \"/>\n",
       "<polyline clip-path=\"url(#clip6502)\" style=\"stroke:#000000; stroke-width:2; stroke-opacity:0.1; fill:none\" points=\"\n",
       "  1768.83,1503.47 1768.83,47.2441 \n",
       "  \"/>\n",
       "<polyline clip-path=\"url(#clip6502)\" style=\"stroke:#000000; stroke-width:2; stroke-opacity:0.1; fill:none\" points=\"\n",
       "  2286.61,1503.47 2286.61,47.2441 \n",
       "  \"/>\n",
       "<polyline clip-path=\"url(#clip6502)\" style=\"stroke:#000000; stroke-width:2; stroke-opacity:0.1; fill:none\" points=\"\n",
       "  176.123,1272.99 2321.26,1272.99 \n",
       "  \"/>\n",
       "<polyline clip-path=\"url(#clip6502)\" style=\"stroke:#000000; stroke-width:2; stroke-opacity:0.1; fill:none\" points=\"\n",
       "  176.123,986.434 2321.26,986.434 \n",
       "  \"/>\n",
       "<polyline clip-path=\"url(#clip6502)\" style=\"stroke:#000000; stroke-width:2; stroke-opacity:0.1; fill:none\" points=\"\n",
       "  176.123,699.879 2321.26,699.879 \n",
       "  \"/>\n",
       "<polyline clip-path=\"url(#clip6502)\" style=\"stroke:#000000; stroke-width:2; stroke-opacity:0.1; fill:none\" points=\"\n",
       "  176.123,413.325 2321.26,413.325 \n",
       "  \"/>\n",
       "<polyline clip-path=\"url(#clip6502)\" style=\"stroke:#000000; stroke-width:2; stroke-opacity:0.1; fill:none\" points=\"\n",
       "  176.123,126.771 2321.26,126.771 \n",
       "  \"/>\n",
       "<polyline clip-path=\"url(#clip6500)\" style=\"stroke:#000000; stroke-width:4; stroke-opacity:1; fill:none\" points=\"\n",
       "  176.123,1503.47 2321.26,1503.47 \n",
       "  \"/>\n",
       "<polyline clip-path=\"url(#clip6500)\" style=\"stroke:#000000; stroke-width:4; stroke-opacity:1; fill:none\" points=\"\n",
       "  176.123,1503.47 176.123,47.2441 \n",
       "  \"/>\n",
       "<polyline clip-path=\"url(#clip6500)\" style=\"stroke:#000000; stroke-width:4; stroke-opacity:1; fill:none\" points=\"\n",
       "  215.498,1503.47 215.498,1481.63 \n",
       "  \"/>\n",
       "<polyline clip-path=\"url(#clip6500)\" style=\"stroke:#000000; stroke-width:4; stroke-opacity:1; fill:none\" points=\"\n",
       "  733.275,1503.47 733.275,1481.63 \n",
       "  \"/>\n",
       "<polyline clip-path=\"url(#clip6500)\" style=\"stroke:#000000; stroke-width:4; stroke-opacity:1; fill:none\" points=\"\n",
       "  1251.05,1503.47 1251.05,1481.63 \n",
       "  \"/>\n",
       "<polyline clip-path=\"url(#clip6500)\" style=\"stroke:#000000; stroke-width:4; stroke-opacity:1; fill:none\" points=\"\n",
       "  1768.83,1503.47 1768.83,1481.63 \n",
       "  \"/>\n",
       "<polyline clip-path=\"url(#clip6500)\" style=\"stroke:#000000; stroke-width:4; stroke-opacity:1; fill:none\" points=\"\n",
       "  2286.61,1503.47 2286.61,1481.63 \n",
       "  \"/>\n",
       "<polyline clip-path=\"url(#clip6500)\" style=\"stroke:#000000; stroke-width:4; stroke-opacity:1; fill:none\" points=\"\n",
       "  176.123,1272.99 208.3,1272.99 \n",
       "  \"/>\n",
       "<polyline clip-path=\"url(#clip6500)\" style=\"stroke:#000000; stroke-width:4; stroke-opacity:1; fill:none\" points=\"\n",
       "  176.123,986.434 208.3,986.434 \n",
       "  \"/>\n",
       "<polyline clip-path=\"url(#clip6500)\" style=\"stroke:#000000; stroke-width:4; stroke-opacity:1; fill:none\" points=\"\n",
       "  176.123,699.879 208.3,699.879 \n",
       "  \"/>\n",
       "<polyline clip-path=\"url(#clip6500)\" style=\"stroke:#000000; stroke-width:4; stroke-opacity:1; fill:none\" points=\"\n",
       "  176.123,413.325 208.3,413.325 \n",
       "  \"/>\n",
       "<polyline clip-path=\"url(#clip6500)\" style=\"stroke:#000000; stroke-width:4; stroke-opacity:1; fill:none\" points=\"\n",
       "  176.123,126.771 208.3,126.771 \n",
       "  \"/>\n",
       "<g clip-path=\"url(#clip6500)\">\n",
       "<text style=\"fill:#000000; fill-opacity:1; font-family:Arial,Helvetica Neue,Helvetica,sans-serif; font-size:48px; text-anchor:middle;\" transform=\"rotate(0, 215.498, 1557.47)\" x=\"215.498\" y=\"1557.47\">0.00</text>\n",
       "</g>\n",
       "<g clip-path=\"url(#clip6500)\">\n",
       "<text style=\"fill:#000000; fill-opacity:1; font-family:Arial,Helvetica Neue,Helvetica,sans-serif; font-size:48px; text-anchor:middle;\" transform=\"rotate(0, 733.275, 1557.47)\" x=\"733.275\" y=\"1557.47\">0.25</text>\n",
       "</g>\n",
       "<g clip-path=\"url(#clip6500)\">\n",
       "<text style=\"fill:#000000; fill-opacity:1; font-family:Arial,Helvetica Neue,Helvetica,sans-serif; font-size:48px; text-anchor:middle;\" transform=\"rotate(0, 1251.05, 1557.47)\" x=\"1251.05\" y=\"1557.47\">0.50</text>\n",
       "</g>\n",
       "<g clip-path=\"url(#clip6500)\">\n",
       "<text style=\"fill:#000000; fill-opacity:1; font-family:Arial,Helvetica Neue,Helvetica,sans-serif; font-size:48px; text-anchor:middle;\" transform=\"rotate(0, 1768.83, 1557.47)\" x=\"1768.83\" y=\"1557.47\">0.75</text>\n",
       "</g>\n",
       "<g clip-path=\"url(#clip6500)\">\n",
       "<text style=\"fill:#000000; fill-opacity:1; font-family:Arial,Helvetica Neue,Helvetica,sans-serif; font-size:48px; text-anchor:middle;\" transform=\"rotate(0, 2286.61, 1557.47)\" x=\"2286.61\" y=\"1557.47\">1.00</text>\n",
       "</g>\n",
       "<g clip-path=\"url(#clip6500)\">\n",
       "<text style=\"fill:#000000; fill-opacity:1; font-family:Arial,Helvetica Neue,Helvetica,sans-serif; font-size:48px; text-anchor:end;\" transform=\"rotate(0, 152.123, 1290.49)\" x=\"152.123\" y=\"1290.49\">-80</text>\n",
       "</g>\n",
       "<g clip-path=\"url(#clip6500)\">\n",
       "<text style=\"fill:#000000; fill-opacity:1; font-family:Arial,Helvetica Neue,Helvetica,sans-serif; font-size:48px; text-anchor:end;\" transform=\"rotate(0, 152.123, 1003.93)\" x=\"152.123\" y=\"1003.93\">-60</text>\n",
       "</g>\n",
       "<g clip-path=\"url(#clip6500)\">\n",
       "<text style=\"fill:#000000; fill-opacity:1; font-family:Arial,Helvetica Neue,Helvetica,sans-serif; font-size:48px; text-anchor:end;\" transform=\"rotate(0, 152.123, 717.379)\" x=\"152.123\" y=\"717.379\">-40</text>\n",
       "</g>\n",
       "<g clip-path=\"url(#clip6500)\">\n",
       "<text style=\"fill:#000000; fill-opacity:1; font-family:Arial,Helvetica Neue,Helvetica,sans-serif; font-size:48px; text-anchor:end;\" transform=\"rotate(0, 152.123, 430.825)\" x=\"152.123\" y=\"430.825\">-20</text>\n",
       "</g>\n",
       "<g clip-path=\"url(#clip6500)\">\n",
       "<text style=\"fill:#000000; fill-opacity:1; font-family:Arial,Helvetica Neue,Helvetica,sans-serif; font-size:48px; text-anchor:end;\" transform=\"rotate(0, 152.123, 144.271)\" x=\"152.123\" y=\"144.271\">0</text>\n",
       "</g>\n",
       "<polyline clip-path=\"url(#clip6502)\" style=\"stroke:#009af9; stroke-width:4; stroke-opacity:1; fill:none\" points=\"\n",
       "  236.834,1462.26 237.46,1386.43 238.086,1316.81 238.712,1252.74 239.337,1193.65 239.963,1139.04 240.589,1088.46 241.215,1041.53 242.466,957.278 243.718,883.981 \n",
       "  244.969,819.822 246.221,763.341 247.472,713.36 248.724,668.919 249.975,629.228 251.226,593.634 252.478,561.591 253.729,532.642 254.981,506.401 256.232,482.54 \n",
       "  259.125,435.029 262.018,396.098 264.911,363.799 267.804,336.707 273.59,294.149 279.376,262.611 285.162,238.59 290.948,219.871 296.734,204.999 302.52,192.985 \n",
       "  314.092,174.969 325.663,162.3 337.235,153.046 348.807,146.074 371.951,136.427 395.094,130.199 418.238,125.922 441.382,122.837 497.015,118.112 552.649,115.317 \n",
       "  599.686,113.687 646.723,112.432 748.915,110.394 843.126,108.932 944.131,107.56 1061.16,106.078 1165.15,104.79 1256.35,103.655 1355.78,102.396 1455.8,101.094 \n",
       "  1566.38,99.6007 1671.6,98.1202 1781,96.5113 1873.09,95.0969 1985.53,93.2899 2091.22,91.5052 2260.55,88.4582 \n",
       "  \"/>\n",
       "<polygon clip-path=\"url(#clip6500)\" points=\"\n",
       "1958.43,251.724 2249.26,251.724 2249.26,130.764 1958.43,130.764 \n",
       "  \" fill=\"#ffffff\" fill-rule=\"evenodd\" fill-opacity=\"1\"/>\n",
       "<polyline clip-path=\"url(#clip6500)\" style=\"stroke:#000000; stroke-width:4; stroke-opacity:1; fill:none\" points=\"\n",
       "  1958.43,251.724 2249.26,251.724 2249.26,130.764 1958.43,130.764 1958.43,251.724 \n",
       "  \"/>\n",
       "<polyline clip-path=\"url(#clip6500)\" style=\"stroke:#009af9; stroke-width:4; stroke-opacity:1; fill:none\" points=\"\n",
       "  1982.43,191.244 2126.43,191.244 \n",
       "  \"/>\n",
       "<g clip-path=\"url(#clip6500)\">\n",
       "<text style=\"fill:#000000; fill-opacity:1; font-family:Arial,Helvetica Neue,Helvetica,sans-serif; font-size:48px; text-anchor:start;\" transform=\"rotate(0, 2150.43, 208.744)\" x=\"2150.43\" y=\"208.744\">y1</text>\n",
       "</g>\n",
       "</svg>\n"
      ]
     },
     "execution_count": 13,
     "metadata": {},
     "output_type": "execute_result"
    }
   ],
   "source": [
    "f(x) = exp(x) - 1/(10*x)^2\n",
    "plot(f, 0.01,1)"
   ]
  },
  {
   "cell_type": "code",
   "execution_count": 15,
   "metadata": {},
   "outputs": [
    {
     "name": "stdout",
     "output_type": "stream",
     "text": [
      "Results of univariate zero finding:\n",
      "\n",
      "* Converged to: 0.09534461720025876\n",
      "* Algorithm: FalsePosition{12}()\n",
      "* iterations: 7\n",
      "* function evaluations: 9\n",
      "* stopped as |f(x_n)| ≤ max(δ, max(1,|x|)⋅ϵ) using δ = atol, ϵ = rtol\n",
      "\n",
      "Trace:\n",
      "(a_0, b_0) = ( 0.0100000000000000,  0.2500000000000000)\n",
      "(a_1, b_1) = ( 0.0100000000000000,  0.2473054101654392)\n",
      "(a_2, b_2) = ( 0.2473054101654392,  0.0940851418147439)\n",
      "(a_3, b_3) = ( 0.0940851418147439,  0.0982266947564434)\n",
      "(a_4, b_4) = ( 0.0940851418147439,  0.0953991236621848)\n",
      "(a_5, b_5) = ( 0.0953991236621848,  0.0953446143266554)\n",
      "(a_6, b_6) = ( 0.0953446143266554,  0.0953446172026074)\n",
      "(a_7, b_7) = ( 0.0953446143266554,  0.0953446172002588)\n",
      "\n"
     ]
    },
    {
     "data": {
      "text/plain": [
       "0.09534461720025876"
      ]
     },
     "execution_count": 15,
     "metadata": {},
     "output_type": "execute_result"
    }
   ],
   "source": [
    "x1  = find_zero(f, (0.01,0.25), FalsePosition(12), verbose = true)"
   ]
  },
  {
   "cell_type": "code",
   "execution_count": 16,
   "metadata": {},
   "outputs": [
    {
     "name": "stdout",
     "output_type": "stream",
     "text": [
      "Results of univariate zero finding:\n",
      "\n",
      "* Converged to: 0.09534461720025876\n",
      "* Algorithm: Roots.Newton()\n",
      "* iterations: 11\n",
      "* function evaluations: 23\n",
      "* stopped as |f(x_n)| ≤ max(δ, max(1,|x|)⋅ϵ) using δ = atol, ϵ = rtol\n",
      "\n",
      "Trace:\n",
      "x_0 =  0.0100000000000000,\t fx_0 = -98.9899498329158121\n",
      "x_1 =  0.0149492475422304,\t fx_1 = -43.7316715257666999\n",
      "x_2 =  0.0222530740672639,\t fx_2 = -19.1713868691496145\n",
      "x_3 =  0.0328102794412650,\t fx_3 = -8.2558846279226561\n",
      "x_4 =  0.0473639174077402,\t fx_4 = -3.4091342120011836\n",
      "x_5 =  0.0653751936851251,\t fx_5 = -1.2722151136443944\n",
      "x_6 =  0.0828873721972711,\t fx_6 = -0.3691175850734159\n",
      "x_7 =  0.0930819464705058,\t fx_7 = -0.0566164824310533\n",
      "x_8 =  0.0952682047348350,\t fx_8 = -0.0018493919315890\n",
      "x_9 =  0.0953445296668319,\t fx_9 = -0.0000021161255142\n",
      "x_10 =  0.0953446172001439,\t fx_10 = -0.0000000000027771\n",
      "x_11 =  0.0953446172002588,\t fx_11 =  0.0000000000000004\n",
      "\n"
     ]
    },
    {
     "data": {
      "text/plain": [
       "0.09534461720025876"
      ]
     },
     "execution_count": 16,
     "metadata": {},
     "output_type": "execute_result"
    }
   ],
   "source": [
    "D(f) = x ->ForwardDiff.derivative(f, float(x))\n",
    "x2 = find_zero((f, D(f)), 0.01, Roots.Newton(), verbose=true)"
   ]
  },
  {
   "cell_type": "code",
   "execution_count": 17,
   "metadata": {},
   "outputs": [
    {
     "name": "stdout",
     "output_type": "stream",
     "text": [
      "Results of univariate zero finding:\n",
      "\n",
      "* Converged to: 0.09534461720025875\n",
      "* Algorithm: Order2()\n",
      "* iterations: 15\n",
      "* function evaluations: 20\n",
      "* stopped as |f(x_n)| ≤ max(δ, max(1,|x|)⋅ϵ) using δ = atol, ϵ = rtol\n",
      "\n",
      "Trace:\n",
      "x_0 =  0.0100000000000000,\t fx_0 = -98.9899498329158121\n",
      "x_1 =  0.0149537432595205,\t fx_1 = -43.7047655479820278\n",
      "x_2 =  0.0188698410448949,\t fx_2 = -27.0652453628947853\n",
      "x_3 =  0.0252396249237135,\t fx_3 = -14.6720734301327589\n",
      "x_4 =  0.0327807078128358,\t fx_4 = -8.2726824762408580\n",
      "x_5 =  0.0425292893135146,\t fx_5 = -4.4852626023452453\n",
      "x_6 =  0.0540740742823740,\t fx_6 = -2.3644034068922442\n",
      "x_7 =  0.0669445792978562,\t fx_7 = -1.1621213313845804\n",
      "x_8 =  0.0793851610289516,\t fx_8 = -0.5041756619772091\n",
      "x_9 =  0.0889182255680133,\t fx_9 = -0.1717987316842806\n",
      "x_10 =  0.0938456686231970,\t fx_10 = -0.0370689851444537\n",
      "x_11 =  0.0952013849227059,\t fx_11 = -0.0034700951118729\n",
      "x_12 =  0.0953414033727038,\t fx_12 = -0.0000776981038564\n",
      "x_13 =  0.0953446207897164,\t fx_13 =  0.0000000867752217\n",
      "x_14 =  0.0953446172002632,\t fx_14 =  0.0000000000001084\n",
      "x_15 =  0.0953446172002587,\t fx_15 =  0.0000000000000002\n",
      "\n"
     ]
    },
    {
     "data": {
      "text/plain": [
       "0.09534461720025875"
      ]
     },
     "execution_count": 17,
     "metadata": {},
     "output_type": "execute_result"
    }
   ],
   "source": [
    "x3 = find_zero(f, 0.01, Order2(), verbose=true)"
   ]
  },
  {
   "cell_type": "code",
   "execution_count": null,
   "metadata": {},
   "outputs": [],
   "source": []
  }
 ],
 "metadata": {
  "kernelspec": {
   "display_name": "Julia 1.1.0",
   "language": "julia",
   "name": "julia-1.1"
  },
  "language_info": {
   "file_extension": ".jl",
   "mimetype": "application/julia",
   "name": "julia",
   "version": "1.1.0"
  }
 },
 "nbformat": 4,
 "nbformat_minor": 2
}
