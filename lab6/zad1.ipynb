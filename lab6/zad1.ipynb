{
 "cells": [
  {
   "cell_type": "code",
   "execution_count": 5,
   "metadata": {
    "scrolled": false
   },
   "outputs": [
    {
     "name": "stdout",
     "output_type": "stream",
     "text": [
      "\u001b[32m\u001b[1m  Updating\u001b[22m\u001b[39m registry at `~/.julia/registries/General`\n",
      "\u001b[32m\u001b[1m  Updating\u001b[22m\u001b[39m git-repo `https://github.com/JuliaRegistries/General.git`\n",
      "\u001b[?25l\u001b[2K\u001b[?25h\u001b[32m\u001b[1m Resolving\u001b[22m\u001b[39m package versions...\n",
      "\u001b[32m\u001b[1m Installed\u001b[22m\u001b[39m Roots ─ v0.8.1\n",
      "\u001b[32m\u001b[1m  Updating\u001b[22m\u001b[39m `~/.julia/environments/v1.1/Project.toml`\n",
      " \u001b[90m [f2b01f46]\u001b[39m\u001b[92m + Roots v0.8.1\u001b[39m\n",
      "\u001b[32m\u001b[1m  Updating\u001b[22m\u001b[39m `~/.julia/environments/v1.1/Manifest.toml`\n",
      " \u001b[90m [f2b01f46]\u001b[39m\u001b[92m + Roots v0.8.1\u001b[39m\n",
      "\u001b[32m\u001b[1m Resolving\u001b[22m\u001b[39m package versions...\n",
      "\u001b[32m\u001b[1m Installed\u001b[22m\u001b[39m DiffRules ──────────── v0.0.10\n",
      "\u001b[32m\u001b[1m Installed\u001b[22m\u001b[39m NaNMath ────────────── v0.3.2\n",
      "\u001b[32m\u001b[1m Installed\u001b[22m\u001b[39m DiffResults ────────── v0.0.4\n",
      "\u001b[32m\u001b[1m Installed\u001b[22m\u001b[39m BinDeps ────────────── v0.8.10\n",
      "\u001b[32m\u001b[1m Installed\u001b[22m\u001b[39m CommonSubexpressions ─ v0.2.0\n",
      "\u001b[32m\u001b[1m Installed\u001b[22m\u001b[39m ForwardDiff ────────── v0.10.3\n",
      "\u001b[32m\u001b[1m Installed\u001b[22m\u001b[39m StaticArrays ───────── v0.10.3\n",
      "\u001b[32m\u001b[1m Installed\u001b[22m\u001b[39m SpecialFunctions ───── v0.7.2\n",
      "\u001b[32m\u001b[1m Installed\u001b[22m\u001b[39m URIParser ──────────── v0.4.0\n",
      "\u001b[32m\u001b[1m  Updating\u001b[22m\u001b[39m `~/.julia/environments/v1.1/Project.toml`\n",
      " \u001b[90m [f6369f11]\u001b[39m\u001b[92m + ForwardDiff v0.10.3\u001b[39m\n",
      "\u001b[32m\u001b[1m  Updating\u001b[22m\u001b[39m `~/.julia/environments/v1.1/Manifest.toml`\n",
      " \u001b[90m [9e28174c]\u001b[39m\u001b[92m + BinDeps v0.8.10\u001b[39m\n",
      " \u001b[90m [bbf7d656]\u001b[39m\u001b[92m + CommonSubexpressions v0.2.0\u001b[39m\n",
      " \u001b[90m [163ba53b]\u001b[39m\u001b[92m + DiffResults v0.0.4\u001b[39m\n",
      " \u001b[90m [b552c78f]\u001b[39m\u001b[92m + DiffRules v0.0.10\u001b[39m\n",
      " \u001b[90m [f6369f11]\u001b[39m\u001b[92m + ForwardDiff v0.10.3\u001b[39m\n",
      " \u001b[90m [77ba4419]\u001b[39m\u001b[92m + NaNMath v0.3.2\u001b[39m\n",
      " \u001b[90m [276daf66]\u001b[39m\u001b[92m + SpecialFunctions v0.7.2\u001b[39m\n",
      " \u001b[90m [90137ffa]\u001b[39m\u001b[92m + StaticArrays v0.10.3\u001b[39m\n",
      " \u001b[90m [30578b45]\u001b[39m\u001b[92m + URIParser v0.4.0\u001b[39m\n",
      "\u001b[32m\u001b[1m  Building\u001b[22m\u001b[39m SpecialFunctions → `~/.julia/packages/SpecialFunctions/fvheQ/deps/build.log`\n"
     ]
    }
   ],
   "source": [
    "using Pkg\n",
    "\n",
    "Pkg.add(\"Roots\")\n",
    "Pkg.add(\"ForwardDiff\")"
   ]
  },
  {
   "cell_type": "code",
   "execution_count": 9,
   "metadata": {},
   "outputs": [
    {
     "name": "stdout",
     "output_type": "stream",
     "text": [
      "\u001b[32m\u001b[1m Resolving\u001b[22m\u001b[39m package versions...\n",
      "\u001b[32m\u001b[1m Installed\u001b[22m\u001b[39m Reexport ─────────── v0.2.0\n",
      "\u001b[32m\u001b[1m Installed\u001b[22m\u001b[39m Showoff ──────────── v0.2.1\n",
      "\u001b[32m\u001b[1m Installed\u001b[22m\u001b[39m DataStructures ───── v0.15.0\n",
      "\u001b[32m\u001b[1m Installed\u001b[22m\u001b[39m PlotUtils ────────── v0.5.8\n",
      "\u001b[32m\u001b[1m Installed\u001b[22m\u001b[39m SortingAlgorithms ── v0.3.1\n",
      "\u001b[32m\u001b[1m Installed\u001b[22m\u001b[39m Plots ────────────── v0.24.0\n",
      "\u001b[32m\u001b[1m Installed\u001b[22m\u001b[39m PlotThemes ───────── v0.3.0\n",
      "\u001b[32m\u001b[1m Installed\u001b[22m\u001b[39m Colors ───────────── v0.9.5\n",
      "\u001b[32m\u001b[1m Installed\u001b[22m\u001b[39m RecipesBase ──────── v0.6.0\n",
      "\u001b[32m\u001b[1m Installed\u001b[22m\u001b[39m OrderedCollections ─ v1.1.0\n",
      "\u001b[32m\u001b[1m Installed\u001b[22m\u001b[39m Requires ─────────── v0.5.2\n",
      "\u001b[32m\u001b[1m Installed\u001b[22m\u001b[39m ColorTypes ───────── v0.7.5\n",
      "\u001b[32m\u001b[1m Installed\u001b[22m\u001b[39m StatsBase ────────── v0.30.0\n",
      "\u001b[32m\u001b[1m Installed\u001b[22m\u001b[39m Measures ─────────── v0.3.0\n",
      "\u001b[32m\u001b[1m Installed\u001b[22m\u001b[39m FixedPointNumbers ── v0.5.3\n",
      "\u001b[32m\u001b[1m Installed\u001b[22m\u001b[39m Contour ──────────── v0.5.1\n",
      "\u001b[32m\u001b[1m Installed\u001b[22m\u001b[39m Missings ─────────── v0.4.0\n",
      "\u001b[32m\u001b[1m Installed\u001b[22m\u001b[39m GR ───────────────── v0.39.1\n",
      "\u001b[32m\u001b[1m  Updating\u001b[22m\u001b[39m `~/.julia/environments/v1.1/Project.toml`\n",
      " \u001b[90m [91a5bcdd]\u001b[39m\u001b[92m + Plots v0.24.0\u001b[39m\n",
      "\u001b[32m\u001b[1m  Updating\u001b[22m\u001b[39m `~/.julia/environments/v1.1/Manifest.toml`\n",
      " \u001b[90m [3da002f7]\u001b[39m\u001b[92m + ColorTypes v0.7.5\u001b[39m\n",
      " \u001b[90m [5ae59095]\u001b[39m\u001b[92m + Colors v0.9.5\u001b[39m\n",
      " \u001b[90m [d38c429a]\u001b[39m\u001b[92m + Contour v0.5.1\u001b[39m\n",
      " \u001b[90m [864edb3b]\u001b[39m\u001b[92m + DataStructures v0.15.0\u001b[39m\n",
      " \u001b[90m [53c48c17]\u001b[39m\u001b[92m + FixedPointNumbers v0.5.3\u001b[39m\n",
      " \u001b[90m [28b8d3ca]\u001b[39m\u001b[92m + GR v0.39.1\u001b[39m\n",
      " \u001b[90m [442fdcdd]\u001b[39m\u001b[92m + Measures v0.3.0\u001b[39m\n",
      " \u001b[90m [e1d29d7a]\u001b[39m\u001b[92m + Missings v0.4.0\u001b[39m\n",
      " \u001b[90m [bac558e1]\u001b[39m\u001b[92m + OrderedCollections v1.1.0\u001b[39m\n",
      " \u001b[90m [ccf2f8ad]\u001b[39m\u001b[92m + PlotThemes v0.3.0\u001b[39m\n",
      " \u001b[90m [995b91a9]\u001b[39m\u001b[92m + PlotUtils v0.5.8\u001b[39m\n",
      " \u001b[90m [91a5bcdd]\u001b[39m\u001b[92m + Plots v0.24.0\u001b[39m\n",
      " \u001b[90m [3cdcf5f2]\u001b[39m\u001b[92m + RecipesBase v0.6.0\u001b[39m\n",
      " \u001b[90m [189a3867]\u001b[39m\u001b[92m + Reexport v0.2.0\u001b[39m\n",
      " \u001b[90m [ae029012]\u001b[39m\u001b[92m + Requires v0.5.2\u001b[39m\n",
      " \u001b[90m [992d4aef]\u001b[39m\u001b[92m + Showoff v0.2.1\u001b[39m\n",
      " \u001b[90m [a2af1166]\u001b[39m\u001b[92m + SortingAlgorithms v0.3.1\u001b[39m\n",
      " \u001b[90m [2913bbd2]\u001b[39m\u001b[92m + StatsBase v0.30.0\u001b[39m\n",
      "\u001b[32m\u001b[1m  Building\u001b[22m\u001b[39m GR ───→ `~/.julia/packages/GR/KGODl/deps/build.log`\n",
      "\u001b[32m\u001b[1m  Building\u001b[22m\u001b[39m Plots → `~/.julia/packages/Plots/47Tik/deps/build.log`\n"
     ]
    }
   ],
   "source": [
    "import Pkg\n",
    "Pkg.add(\"Plots\")"
   ]
  },
  {
   "cell_type": "code",
   "execution_count": 1,
   "metadata": {},
   "outputs": [],
   "source": [
    "using Plots\n",
    "using Roots\n",
    "using ForwardDiff"
   ]
  },
  {
   "cell_type": "code",
   "execution_count": 11,
   "metadata": {},
   "outputs": [
    {
     "data": {
      "image/svg+xml": [
       "<?xml version=\"1.0\" encoding=\"utf-8\"?>\n",
       "<svg xmlns=\"http://www.w3.org/2000/svg\" xmlns:xlink=\"http://www.w3.org/1999/xlink\" width=\"600\" height=\"400\" viewBox=\"0 0 2400 1600\">\n",
       "<defs>\n",
       "  <clipPath id=\"clip4900\">\n",
       "    <rect x=\"0\" y=\"0\" width=\"2400\" height=\"1600\"/>\n",
       "  </clipPath>\n",
       "</defs>\n",
       "<polygon clip-path=\"url(#clip4900)\" points=\"\n",
       "0,1600 2400,1600 2400,0 0,0 \n",
       "  \" fill=\"#ffffff\" fill-rule=\"evenodd\" fill-opacity=\"1\"/>\n",
       "<defs>\n",
       "  <clipPath id=\"clip4901\">\n",
       "    <rect x=\"480\" y=\"0\" width=\"1681\" height=\"1600\"/>\n",
       "  </clipPath>\n",
       "</defs>\n",
       "<polygon clip-path=\"url(#clip4900)\" points=\"\n",
       "149.361,1503.47 2321.26,1503.47 2321.26,47.2441 149.361,47.2441 \n",
       "  \" fill=\"#ffffff\" fill-rule=\"evenodd\" fill-opacity=\"1\"/>\n",
       "<defs>\n",
       "  <clipPath id=\"clip4902\">\n",
       "    <rect x=\"149\" y=\"47\" width=\"2173\" height=\"1457\"/>\n",
       "  </clipPath>\n",
       "</defs>\n",
       "<polyline clip-path=\"url(#clip4902)\" style=\"stroke:#000000; stroke-width:2; stroke-opacity:0.1; fill:none\" points=\"\n",
       "  190.36,1503.47 190.36,47.2441 \n",
       "  \"/>\n",
       "<polyline clip-path=\"url(#clip4902)\" style=\"stroke:#000000; stroke-width:2; stroke-opacity:0.1; fill:none\" points=\"\n",
       "  714.377,1503.47 714.377,47.2441 \n",
       "  \"/>\n",
       "<polyline clip-path=\"url(#clip4902)\" style=\"stroke:#000000; stroke-width:2; stroke-opacity:0.1; fill:none\" points=\"\n",
       "  1238.39,1503.47 1238.39,47.2441 \n",
       "  \"/>\n",
       "<polyline clip-path=\"url(#clip4902)\" style=\"stroke:#000000; stroke-width:2; stroke-opacity:0.1; fill:none\" points=\"\n",
       "  1762.41,1503.47 1762.41,47.2441 \n",
       "  \"/>\n",
       "<polyline clip-path=\"url(#clip4902)\" style=\"stroke:#000000; stroke-width:2; stroke-opacity:0.1; fill:none\" points=\"\n",
       "  2286.43,1503.47 2286.43,47.2441 \n",
       "  \"/>\n",
       "<polyline clip-path=\"url(#clip4902)\" style=\"stroke:#000000; stroke-width:2; stroke-opacity:0.1; fill:none\" points=\"\n",
       "  149.361,1350.02 2321.26,1350.02 \n",
       "  \"/>\n",
       "<polyline clip-path=\"url(#clip4902)\" style=\"stroke:#000000; stroke-width:2; stroke-opacity:0.1; fill:none\" points=\"\n",
       "  149.361,997.689 2321.26,997.689 \n",
       "  \"/>\n",
       "<polyline clip-path=\"url(#clip4902)\" style=\"stroke:#000000; stroke-width:2; stroke-opacity:0.1; fill:none\" points=\"\n",
       "  149.361,645.358 2321.26,645.358 \n",
       "  \"/>\n",
       "<polyline clip-path=\"url(#clip4902)\" style=\"stroke:#000000; stroke-width:2; stroke-opacity:0.1; fill:none\" points=\"\n",
       "  149.361,293.028 2321.26,293.028 \n",
       "  \"/>\n",
       "<polyline clip-path=\"url(#clip4900)\" style=\"stroke:#000000; stroke-width:4; stroke-opacity:1; fill:none\" points=\"\n",
       "  149.361,1503.47 2321.26,1503.47 \n",
       "  \"/>\n",
       "<polyline clip-path=\"url(#clip4900)\" style=\"stroke:#000000; stroke-width:4; stroke-opacity:1; fill:none\" points=\"\n",
       "  149.361,1503.47 149.361,47.2441 \n",
       "  \"/>\n",
       "<polyline clip-path=\"url(#clip4900)\" style=\"stroke:#000000; stroke-width:4; stroke-opacity:1; fill:none\" points=\"\n",
       "  190.36,1503.47 190.36,1481.63 \n",
       "  \"/>\n",
       "<polyline clip-path=\"url(#clip4900)\" style=\"stroke:#000000; stroke-width:4; stroke-opacity:1; fill:none\" points=\"\n",
       "  714.377,1503.47 714.377,1481.63 \n",
       "  \"/>\n",
       "<polyline clip-path=\"url(#clip4900)\" style=\"stroke:#000000; stroke-width:4; stroke-opacity:1; fill:none\" points=\"\n",
       "  1238.39,1503.47 1238.39,1481.63 \n",
       "  \"/>\n",
       "<polyline clip-path=\"url(#clip4900)\" style=\"stroke:#000000; stroke-width:4; stroke-opacity:1; fill:none\" points=\"\n",
       "  1762.41,1503.47 1762.41,1481.63 \n",
       "  \"/>\n",
       "<polyline clip-path=\"url(#clip4900)\" style=\"stroke:#000000; stroke-width:4; stroke-opacity:1; fill:none\" points=\"\n",
       "  2286.43,1503.47 2286.43,1481.63 \n",
       "  \"/>\n",
       "<polyline clip-path=\"url(#clip4900)\" style=\"stroke:#000000; stroke-width:4; stroke-opacity:1; fill:none\" points=\"\n",
       "  149.361,1350.02 181.939,1350.02 \n",
       "  \"/>\n",
       "<polyline clip-path=\"url(#clip4900)\" style=\"stroke:#000000; stroke-width:4; stroke-opacity:1; fill:none\" points=\"\n",
       "  149.361,997.689 181.939,997.689 \n",
       "  \"/>\n",
       "<polyline clip-path=\"url(#clip4900)\" style=\"stroke:#000000; stroke-width:4; stroke-opacity:1; fill:none\" points=\"\n",
       "  149.361,645.358 181.939,645.358 \n",
       "  \"/>\n",
       "<polyline clip-path=\"url(#clip4900)\" style=\"stroke:#000000; stroke-width:4; stroke-opacity:1; fill:none\" points=\"\n",
       "  149.361,293.028 181.939,293.028 \n",
       "  \"/>\n",
       "<g clip-path=\"url(#clip4900)\">\n",
       "<text style=\"fill:#000000; fill-opacity:1; font-family:Arial,Helvetica Neue,Helvetica,sans-serif; font-size:48px; text-anchor:middle;\" transform=\"rotate(0, 190.36, 1557.47)\" x=\"190.36\" y=\"1557.47\">-2</text>\n",
       "</g>\n",
       "<g clip-path=\"url(#clip4900)\">\n",
       "<text style=\"fill:#000000; fill-opacity:1; font-family:Arial,Helvetica Neue,Helvetica,sans-serif; font-size:48px; text-anchor:middle;\" transform=\"rotate(0, 714.377, 1557.47)\" x=\"714.377\" y=\"1557.47\">-1</text>\n",
       "</g>\n",
       "<g clip-path=\"url(#clip4900)\">\n",
       "<text style=\"fill:#000000; fill-opacity:1; font-family:Arial,Helvetica Neue,Helvetica,sans-serif; font-size:48px; text-anchor:middle;\" transform=\"rotate(0, 1238.39, 1557.47)\" x=\"1238.39\" y=\"1557.47\">0</text>\n",
       "</g>\n",
       "<g clip-path=\"url(#clip4900)\">\n",
       "<text style=\"fill:#000000; fill-opacity:1; font-family:Arial,Helvetica Neue,Helvetica,sans-serif; font-size:48px; text-anchor:middle;\" transform=\"rotate(0, 1762.41, 1557.47)\" x=\"1762.41\" y=\"1557.47\">1</text>\n",
       "</g>\n",
       "<g clip-path=\"url(#clip4900)\">\n",
       "<text style=\"fill:#000000; fill-opacity:1; font-family:Arial,Helvetica Neue,Helvetica,sans-serif; font-size:48px; text-anchor:middle;\" transform=\"rotate(0, 2286.43, 1557.47)\" x=\"2286.43\" y=\"1557.47\">2</text>\n",
       "</g>\n",
       "<g clip-path=\"url(#clip4900)\">\n",
       "<text style=\"fill:#000000; fill-opacity:1; font-family:Arial,Helvetica Neue,Helvetica,sans-serif; font-size:48px; text-anchor:end;\" transform=\"rotate(0, 125.361, 1367.52)\" x=\"125.361\" y=\"1367.52\">-2</text>\n",
       "</g>\n",
       "<g clip-path=\"url(#clip4900)\">\n",
       "<text style=\"fill:#000000; fill-opacity:1; font-family:Arial,Helvetica Neue,Helvetica,sans-serif; font-size:48px; text-anchor:end;\" transform=\"rotate(0, 125.361, 1015.19)\" x=\"125.361\" y=\"1015.19\">-1</text>\n",
       "</g>\n",
       "<g clip-path=\"url(#clip4900)\">\n",
       "<text style=\"fill:#000000; fill-opacity:1; font-family:Arial,Helvetica Neue,Helvetica,sans-serif; font-size:48px; text-anchor:end;\" transform=\"rotate(0, 125.361, 662.858)\" x=\"125.361\" y=\"662.858\">0</text>\n",
       "</g>\n",
       "<g clip-path=\"url(#clip4900)\">\n",
       "<text style=\"fill:#000000; fill-opacity:1; font-family:Arial,Helvetica Neue,Helvetica,sans-serif; font-size:48px; text-anchor:end;\" transform=\"rotate(0, 125.361, 310.528)\" x=\"125.361\" y=\"310.528\">1</text>\n",
       "</g>\n",
       "<polyline clip-path=\"url(#clip4902)\" style=\"stroke:#009af9; stroke-width:4; stroke-opacity:1; fill:none\" points=\"\n",
       "  210.829,88.4582 400.103,91.9174 513.848,92.309 610.018,94.9123 714.486,102.674 810.796,116.461 914.051,140.313 1033.68,181.931 1140,233.061 1233.22,289.567 \n",
       "  1334.87,363.845 1437.11,451.67 1550.16,563.186 1657.72,681.881 1769.56,816.191 1863.7,935.927 1978.64,1087.59 2086.69,1232.64 2259.79,1462.26 \n",
       "  \"/>\n",
       "<polygon clip-path=\"url(#clip4900)\" points=\"\n",
       "1958.43,251.724 2249.26,251.724 2249.26,130.764 1958.43,130.764 \n",
       "  \" fill=\"#ffffff\" fill-rule=\"evenodd\" fill-opacity=\"1\"/>\n",
       "<polyline clip-path=\"url(#clip4900)\" style=\"stroke:#000000; stroke-width:4; stroke-opacity:1; fill:none\" points=\"\n",
       "  1958.43,251.724 2249.26,251.724 2249.26,130.764 1958.43,130.764 1958.43,251.724 \n",
       "  \"/>\n",
       "<polyline clip-path=\"url(#clip4900)\" style=\"stroke:#009af9; stroke-width:4; stroke-opacity:1; fill:none\" points=\"\n",
       "  1982.43,191.244 2126.43,191.244 \n",
       "  \"/>\n",
       "<g clip-path=\"url(#clip4900)\">\n",
       "<text style=\"fill:#000000; fill-opacity:1; font-family:Arial,Helvetica Neue,Helvetica,sans-serif; font-size:48px; text-anchor:start;\" transform=\"rotate(0, 2150.43, 208.744)\" x=\"2150.43\" y=\"208.744\">y1</text>\n",
       "</g>\n",
       "</svg>\n"
      ]
     },
     "execution_count": 11,
     "metadata": {},
     "output_type": "execute_result"
    }
   ],
   "source": [
    "f(x) = cos(x) -x\n",
    "plot(f, -2, 2)"
   ]
  },
  {
   "cell_type": "code",
   "execution_count": 13,
   "metadata": {},
   "outputs": [
    {
     "data": {
      "text/plain": [
       "0.7390851332151607"
      ]
     },
     "execution_count": 13,
     "metadata": {},
     "output_type": "execute_result"
    }
   ],
   "source": [
    "x = find_zero(f, (0,1))"
   ]
  },
  {
   "cell_type": "code",
   "execution_count": 14,
   "metadata": {},
   "outputs": [
    {
     "data": {
      "text/plain": [
       "0.7390851332151607"
      ]
     },
     "execution_count": 14,
     "metadata": {},
     "output_type": "execute_result"
    }
   ],
   "source": [
    "x = find_zero(f, (0,1), Bisection())"
   ]
  },
  {
   "cell_type": "code",
   "execution_count": 15,
   "metadata": {},
   "outputs": [
    {
     "data": {
      "text/plain": [
       "true"
      ]
     },
     "execution_count": 15,
     "metadata": {},
     "output_type": "execute_result"
    }
   ],
   "source": [
    "iszero(f(x))"
   ]
  },
  {
   "cell_type": "code",
   "execution_count": 17,
   "metadata": {},
   "outputs": [
    {
     "data": {
      "text/plain": [
       "-1.0"
      ]
     },
     "execution_count": 17,
     "metadata": {},
     "output_type": "execute_result"
    }
   ],
   "source": [
    "sign(f(prevfloat(x)))*sign(f(nextfloat(x)))"
   ]
  },
  {
   "cell_type": "code",
   "execution_count": 18,
   "metadata": {},
   "outputs": [
    {
     "data": {
      "text/plain": [
       "g (generic function with 1 method)"
      ]
     },
     "execution_count": 18,
     "metadata": {},
     "output_type": "execute_result"
    }
   ],
   "source": [
    "g(x) = sin(x)"
   ]
  },
  {
   "cell_type": "code",
   "execution_count": 20,
   "metadata": {},
   "outputs": [
    {
     "data": {
      "text/plain": [
       "3.1415926535897936"
      ]
     },
     "execution_count": 20,
     "metadata": {},
     "output_type": "execute_result"
    }
   ],
   "source": [
    "x2 = find_zero(g, (pi/2, 3*pi/2))"
   ]
  },
  {
   "cell_type": "code",
   "execution_count": 21,
   "metadata": {},
   "outputs": [
    {
     "data": {
      "text/plain": [
       "(3.1415926535897936, -3.216245299353273e-16)"
      ]
     },
     "execution_count": 21,
     "metadata": {},
     "output_type": "execute_result"
    }
   ],
   "source": [
    "x2, g(x2)"
   ]
  },
  {
   "cell_type": "code",
   "execution_count": 22,
   "metadata": {},
   "outputs": [
    {
     "data": {
      "text/plain": [
       "false"
      ]
     },
     "execution_count": 22,
     "metadata": {},
     "output_type": "execute_result"
    }
   ],
   "source": [
    "iszero(g(x2))"
   ]
  },
  {
   "cell_type": "code",
   "execution_count": 23,
   "metadata": {},
   "outputs": [
    {
     "data": {
      "text/plain": [
       "true"
      ]
     },
     "execution_count": 23,
     "metadata": {},
     "output_type": "execute_result"
    }
   ],
   "source": [
    "g(prevfloat(x2)) * g(x2) < 0.0 || g(nextfloat(x2)) * g(x2) < 0.0"
   ]
  },
  {
   "cell_type": "code",
   "execution_count": 24,
   "metadata": {},
   "outputs": [
    {
     "name": "stdout",
     "output_type": "stream",
     "text": [
      "Results of univariate zero finding:\n",
      "\n",
      "* Converged to: 0.7390851332151607\n",
      "* Algorithm: FalsePosition{:anderson_bjork}()\n",
      "* iterations: 6\n",
      "* function evaluations: 8\n",
      "* stopped as |f(x_n)| ≤ max(δ, max(1,|x|)⋅ϵ) using δ = atol, ϵ = rtol\n",
      "\n",
      "Trace:\n",
      "(a_0, b_0) = ( 0.0000000000000000,  1.0000000000000000)\n",
      "(a_1, b_1) = ( 1.0000000000000000,  0.6850733573260451)\n",
      "(a_2, b_2) = ( 1.0000000000000000,  0.7362989976136540)\n",
      "(a_3, b_3) = ( 0.7362989976136540,  0.7390895164441823)\n",
      "(a_4, b_4) = ( 0.7390895164441823,  0.7390851305146882)\n",
      "(a_5, b_5) = ( 0.7390895164441823,  0.7390851332151580)\n",
      "(a_6, b_6) = ( 0.7390895164441823,  0.7390851332151607)\n",
      "\n"
     ]
    },
    {
     "data": {
      "text/plain": [
       "0.7390851332151607"
      ]
     },
     "execution_count": 24,
     "metadata": {},
     "output_type": "execute_result"
    }
   ],
   "source": [
    "find_zero(f, (0,1), FalsePosition(), verbose = true)"
   ]
  },
  {
   "cell_type": "code",
   "execution_count": 28,
   "metadata": {},
   "outputs": [
    {
     "name": "stdout",
     "output_type": "stream",
     "text": [
      "Results of univariate zero finding:\n",
      "\n",
      "* Converged to: 0.7390851332151607\n",
      "* Algorithm: FalsePosition{2}()\n",
      "* iterations: 7\n",
      "* function evaluations: 9\n",
      "* stopped as |f(x_n)| ≤ max(δ, max(1,|x|)⋅ϵ) using δ = atol, ϵ = rtol\n",
      "\n",
      "Trace:\n",
      "(a_0, b_0) = ( 0.0000000000000000,  1.0000000000000000)\n",
      "(a_1, b_1) = ( 1.0000000000000000,  0.6850733573260451)\n",
      "(a_2, b_2) = ( 1.0000000000000000,  0.7362989976136540)\n",
      "(a_3, b_3) = ( 0.7362989976136540,  0.7407010017021948)\n",
      "(a_4, b_4) = ( 0.7407010017021948,  0.7390841385325702)\n",
      "(a_5, b_5) = ( 0.7407010017021948,  0.7390851328605660)\n",
      "(a_6, b_6) = ( 0.7390851328605660,  0.7390851335690662)\n",
      "(a_7, b_7) = ( 0.7390851328605660,  0.7390851332151607)\n",
      "\n"
     ]
    },
    {
     "data": {
      "text/plain": [
       "0.7390851332151607"
      ]
     },
     "execution_count": 28,
     "metadata": {},
     "output_type": "execute_result"
    }
   ],
   "source": [
    "find_zero(f, (0,1), FalsePosition(2), verbose = true)"
   ]
  },
  {
   "cell_type": "code",
   "execution_count": 29,
   "metadata": {},
   "outputs": [
    {
     "data": {
      "text/plain": [
       "D (generic function with 1 method)"
      ]
     },
     "execution_count": 29,
     "metadata": {},
     "output_type": "execute_result"
    }
   ],
   "source": [
    "D(f) = x ->ForwardDiff.derivative(f, float(x))"
   ]
  },
  {
   "cell_type": "code",
   "execution_count": 30,
   "metadata": {},
   "outputs": [
    {
     "data": {
      "image/svg+xml": [
       "<?xml version=\"1.0\" encoding=\"utf-8\"?>\n",
       "<svg xmlns=\"http://www.w3.org/2000/svg\" xmlns:xlink=\"http://www.w3.org/1999/xlink\" width=\"600\" height=\"400\" viewBox=\"0 0 2400 1600\">\n",
       "<defs>\n",
       "  <clipPath id=\"clip5300\">\n",
       "    <rect x=\"0\" y=\"0\" width=\"2400\" height=\"1600\"/>\n",
       "  </clipPath>\n",
       "</defs>\n",
       "<polygon clip-path=\"url(#clip5300)\" points=\"\n",
       "0,1600 2400,1600 2400,0 0,0 \n",
       "  \" fill=\"#ffffff\" fill-rule=\"evenodd\" fill-opacity=\"1\"/>\n",
       "<defs>\n",
       "  <clipPath id=\"clip5301\">\n",
       "    <rect x=\"480\" y=\"0\" width=\"1681\" height=\"1600\"/>\n",
       "  </clipPath>\n",
       "</defs>\n",
       "<polygon clip-path=\"url(#clip5300)\" points=\"\n",
       "189.504,1503.47 2321.26,1503.47 2321.26,47.2441 189.504,47.2441 \n",
       "  \" fill=\"#ffffff\" fill-rule=\"evenodd\" fill-opacity=\"1\"/>\n",
       "<defs>\n",
       "  <clipPath id=\"clip5302\">\n",
       "    <rect x=\"189\" y=\"47\" width=\"2133\" height=\"1457\"/>\n",
       "  </clipPath>\n",
       "</defs>\n",
       "<polyline clip-path=\"url(#clip5302)\" style=\"stroke:#000000; stroke-width:2; stroke-opacity:0.1; fill:none\" points=\"\n",
       "  239.905,1503.47 239.905,47.2441 \n",
       "  \"/>\n",
       "<polyline clip-path=\"url(#clip5302)\" style=\"stroke:#000000; stroke-width:2; stroke-opacity:0.1; fill:none\" points=\"\n",
       "  748.392,1503.47 748.392,47.2441 \n",
       "  \"/>\n",
       "<polyline clip-path=\"url(#clip5302)\" style=\"stroke:#000000; stroke-width:2; stroke-opacity:0.1; fill:none\" points=\"\n",
       "  1256.88,1503.47 1256.88,47.2441 \n",
       "  \"/>\n",
       "<polyline clip-path=\"url(#clip5302)\" style=\"stroke:#000000; stroke-width:2; stroke-opacity:0.1; fill:none\" points=\"\n",
       "  1765.37,1503.47 1765.37,47.2441 \n",
       "  \"/>\n",
       "<polyline clip-path=\"url(#clip5302)\" style=\"stroke:#000000; stroke-width:2; stroke-opacity:0.1; fill:none\" points=\"\n",
       "  2273.85,1503.47 2273.85,47.2441 \n",
       "  \"/>\n",
       "<polyline clip-path=\"url(#clip5302)\" style=\"stroke:#000000; stroke-width:2; stroke-opacity:0.1; fill:none\" points=\"\n",
       "  189.504,1463.05 2321.26,1463.05 \n",
       "  \"/>\n",
       "<polyline clip-path=\"url(#clip5302)\" style=\"stroke:#000000; stroke-width:2; stroke-opacity:0.1; fill:none\" points=\"\n",
       "  189.504,1119.33 2321.26,1119.33 \n",
       "  \"/>\n",
       "<polyline clip-path=\"url(#clip5302)\" style=\"stroke:#000000; stroke-width:2; stroke-opacity:0.1; fill:none\" points=\"\n",
       "  189.504,775.612 2321.26,775.612 \n",
       "  \"/>\n",
       "<polyline clip-path=\"url(#clip5302)\" style=\"stroke:#000000; stroke-width:2; stroke-opacity:0.1; fill:none\" points=\"\n",
       "  189.504,431.891 2321.26,431.891 \n",
       "  \"/>\n",
       "<polyline clip-path=\"url(#clip5302)\" style=\"stroke:#000000; stroke-width:2; stroke-opacity:0.1; fill:none\" points=\"\n",
       "  189.504,88.1702 2321.26,88.1702 \n",
       "  \"/>\n",
       "<polyline clip-path=\"url(#clip5300)\" style=\"stroke:#000000; stroke-width:4; stroke-opacity:1; fill:none\" points=\"\n",
       "  189.504,1503.47 2321.26,1503.47 \n",
       "  \"/>\n",
       "<polyline clip-path=\"url(#clip5300)\" style=\"stroke:#000000; stroke-width:4; stroke-opacity:1; fill:none\" points=\"\n",
       "  189.504,1503.47 189.504,47.2441 \n",
       "  \"/>\n",
       "<polyline clip-path=\"url(#clip5300)\" style=\"stroke:#000000; stroke-width:4; stroke-opacity:1; fill:none\" points=\"\n",
       "  239.905,1503.47 239.905,1481.63 \n",
       "  \"/>\n",
       "<polyline clip-path=\"url(#clip5300)\" style=\"stroke:#000000; stroke-width:4; stroke-opacity:1; fill:none\" points=\"\n",
       "  748.392,1503.47 748.392,1481.63 \n",
       "  \"/>\n",
       "<polyline clip-path=\"url(#clip5300)\" style=\"stroke:#000000; stroke-width:4; stroke-opacity:1; fill:none\" points=\"\n",
       "  1256.88,1503.47 1256.88,1481.63 \n",
       "  \"/>\n",
       "<polyline clip-path=\"url(#clip5300)\" style=\"stroke:#000000; stroke-width:4; stroke-opacity:1; fill:none\" points=\"\n",
       "  1765.37,1503.47 1765.37,1481.63 \n",
       "  \"/>\n",
       "<polyline clip-path=\"url(#clip5300)\" style=\"stroke:#000000; stroke-width:4; stroke-opacity:1; fill:none\" points=\"\n",
       "  2273.85,1503.47 2273.85,1481.63 \n",
       "  \"/>\n",
       "<polyline clip-path=\"url(#clip5300)\" style=\"stroke:#000000; stroke-width:4; stroke-opacity:1; fill:none\" points=\"\n",
       "  189.504,1463.05 221.48,1463.05 \n",
       "  \"/>\n",
       "<polyline clip-path=\"url(#clip5300)\" style=\"stroke:#000000; stroke-width:4; stroke-opacity:1; fill:none\" points=\"\n",
       "  189.504,1119.33 221.48,1119.33 \n",
       "  \"/>\n",
       "<polyline clip-path=\"url(#clip5300)\" style=\"stroke:#000000; stroke-width:4; stroke-opacity:1; fill:none\" points=\"\n",
       "  189.504,775.612 221.48,775.612 \n",
       "  \"/>\n",
       "<polyline clip-path=\"url(#clip5300)\" style=\"stroke:#000000; stroke-width:4; stroke-opacity:1; fill:none\" points=\"\n",
       "  189.504,431.891 221.48,431.891 \n",
       "  \"/>\n",
       "<polyline clip-path=\"url(#clip5300)\" style=\"stroke:#000000; stroke-width:4; stroke-opacity:1; fill:none\" points=\"\n",
       "  189.504,88.1702 221.48,88.1702 \n",
       "  \"/>\n",
       "<g clip-path=\"url(#clip5300)\">\n",
       "<text style=\"fill:#000000; fill-opacity:1; font-family:Arial,Helvetica Neue,Helvetica,sans-serif; font-size:48px; text-anchor:middle;\" transform=\"rotate(0, 239.905, 1557.47)\" x=\"239.905\" y=\"1557.47\">-2</text>\n",
       "</g>\n",
       "<g clip-path=\"url(#clip5300)\">\n",
       "<text style=\"fill:#000000; fill-opacity:1; font-family:Arial,Helvetica Neue,Helvetica,sans-serif; font-size:48px; text-anchor:middle;\" transform=\"rotate(0, 748.392, 1557.47)\" x=\"748.392\" y=\"1557.47\">-1</text>\n",
       "</g>\n",
       "<g clip-path=\"url(#clip5300)\">\n",
       "<text style=\"fill:#000000; fill-opacity:1; font-family:Arial,Helvetica Neue,Helvetica,sans-serif; font-size:48px; text-anchor:middle;\" transform=\"rotate(0, 1256.88, 1557.47)\" x=\"1256.88\" y=\"1557.47\">0</text>\n",
       "</g>\n",
       "<g clip-path=\"url(#clip5300)\">\n",
       "<text style=\"fill:#000000; fill-opacity:1; font-family:Arial,Helvetica Neue,Helvetica,sans-serif; font-size:48px; text-anchor:middle;\" transform=\"rotate(0, 1765.37, 1557.47)\" x=\"1765.37\" y=\"1557.47\">1</text>\n",
       "</g>\n",
       "<g clip-path=\"url(#clip5300)\">\n",
       "<text style=\"fill:#000000; fill-opacity:1; font-family:Arial,Helvetica Neue,Helvetica,sans-serif; font-size:48px; text-anchor:middle;\" transform=\"rotate(0, 2273.85, 1557.47)\" x=\"2273.85\" y=\"1557.47\">2</text>\n",
       "</g>\n",
       "<g clip-path=\"url(#clip5300)\">\n",
       "<text style=\"fill:#000000; fill-opacity:1; font-family:Arial,Helvetica Neue,Helvetica,sans-serif; font-size:48px; text-anchor:end;\" transform=\"rotate(0, 165.504, 1480.55)\" x=\"165.504\" y=\"1480.55\">-2.0</text>\n",
       "</g>\n",
       "<g clip-path=\"url(#clip5300)\">\n",
       "<text style=\"fill:#000000; fill-opacity:1; font-family:Arial,Helvetica Neue,Helvetica,sans-serif; font-size:48px; text-anchor:end;\" transform=\"rotate(0, 165.504, 1136.83)\" x=\"165.504\" y=\"1136.83\">-1.5</text>\n",
       "</g>\n",
       "<g clip-path=\"url(#clip5300)\">\n",
       "<text style=\"fill:#000000; fill-opacity:1; font-family:Arial,Helvetica Neue,Helvetica,sans-serif; font-size:48px; text-anchor:end;\" transform=\"rotate(0, 165.504, 793.112)\" x=\"165.504\" y=\"793.112\">-1.0</text>\n",
       "</g>\n",
       "<g clip-path=\"url(#clip5300)\">\n",
       "<text style=\"fill:#000000; fill-opacity:1; font-family:Arial,Helvetica Neue,Helvetica,sans-serif; font-size:48px; text-anchor:end;\" transform=\"rotate(0, 165.504, 449.391)\" x=\"165.504\" y=\"449.391\">-0.5</text>\n",
       "</g>\n",
       "<g clip-path=\"url(#clip5300)\">\n",
       "<text style=\"fill:#000000; fill-opacity:1; font-family:Arial,Helvetica Neue,Helvetica,sans-serif; font-size:48px; text-anchor:end;\" transform=\"rotate(0, 165.504, 105.67)\" x=\"165.504\" y=\"105.67\">0.0</text>\n",
       "</g>\n",
       "<polyline clip-path=\"url(#clip5302)\" style=\"stroke:#009af9; stroke-width:4; stroke-opacity:1; fill:none\" points=\"\n",
       "  249.837,145.055 259.768,139.828 351.6,103.207 443.432,88.4582 498.619,90.3463 553.806,100.298 600.466,114.92 647.126,135.101 697.812,163.124 748.498,197.227 \n",
       "  795.225,233.763 841.953,274.872 942.148,376.768 1058.23,513.834 1161.4,647.282 1251.86,768.827 1350.49,901.455 1449.71,1030.1 1559.4,1160.9 1663.78,1268.85 \n",
       "  1718.04,1317.05 1772.3,1359.09 1817.98,1389.34 1863.66,1414.65 1919.42,1438.55 1975.19,1454.47 2027.61,1462.01 2080.03,1462.26 2164.02,1447.49 2248,1414.43 \n",
       "  2260.93,1407.77 \n",
       "  \"/>\n",
       "<polygon clip-path=\"url(#clip5300)\" points=\"\n",
       "1958.43,251.724 2249.26,251.724 2249.26,130.764 1958.43,130.764 \n",
       "  \" fill=\"#ffffff\" fill-rule=\"evenodd\" fill-opacity=\"1\"/>\n",
       "<polyline clip-path=\"url(#clip5300)\" style=\"stroke:#000000; stroke-width:4; stroke-opacity:1; fill:none\" points=\"\n",
       "  1958.43,251.724 2249.26,251.724 2249.26,130.764 1958.43,130.764 1958.43,251.724 \n",
       "  \"/>\n",
       "<polyline clip-path=\"url(#clip5300)\" style=\"stroke:#009af9; stroke-width:4; stroke-opacity:1; fill:none\" points=\"\n",
       "  1982.43,191.244 2126.43,191.244 \n",
       "  \"/>\n",
       "<g clip-path=\"url(#clip5300)\">\n",
       "<text style=\"fill:#000000; fill-opacity:1; font-family:Arial,Helvetica Neue,Helvetica,sans-serif; font-size:48px; text-anchor:start;\" transform=\"rotate(0, 2150.43, 208.744)\" x=\"2150.43\" y=\"208.744\">y1</text>\n",
       "</g>\n",
       "</svg>\n"
      ]
     },
     "execution_count": 30,
     "metadata": {},
     "output_type": "execute_result"
    }
   ],
   "source": [
    "plot(D(f), -2, 2)"
   ]
  },
  {
   "cell_type": "code",
   "execution_count": 31,
   "metadata": {},
   "outputs": [
    {
     "data": {
      "image/svg+xml": [
       "<?xml version=\"1.0\" encoding=\"utf-8\"?>\n",
       "<svg xmlns=\"http://www.w3.org/2000/svg\" xmlns:xlink=\"http://www.w3.org/1999/xlink\" width=\"600\" height=\"400\" viewBox=\"0 0 2400 1600\">\n",
       "<defs>\n",
       "  <clipPath id=\"clip5700\">\n",
       "    <rect x=\"0\" y=\"0\" width=\"2400\" height=\"1600\"/>\n",
       "  </clipPath>\n",
       "</defs>\n",
       "<polygon clip-path=\"url(#clip5700)\" points=\"\n",
       "0,1600 2400,1600 2400,0 0,0 \n",
       "  \" fill=\"#ffffff\" fill-rule=\"evenodd\" fill-opacity=\"1\"/>\n",
       "<defs>\n",
       "  <clipPath id=\"clip5701\">\n",
       "    <rect x=\"480\" y=\"0\" width=\"1681\" height=\"1600\"/>\n",
       "  </clipPath>\n",
       "</defs>\n",
       "<polygon clip-path=\"url(#clip5700)\" points=\"\n",
       "149.361,1503.47 2321.26,1503.47 2321.26,47.2441 149.361,47.2441 \n",
       "  \" fill=\"#ffffff\" fill-rule=\"evenodd\" fill-opacity=\"1\"/>\n",
       "<defs>\n",
       "  <clipPath id=\"clip5702\">\n",
       "    <rect x=\"149\" y=\"47\" width=\"2173\" height=\"1457\"/>\n",
       "  </clipPath>\n",
       "</defs>\n",
       "<polyline clip-path=\"url(#clip5702)\" style=\"stroke:#000000; stroke-width:2; stroke-opacity:0.1; fill:none\" points=\"\n",
       "  200.711,1503.47 200.711,47.2441 \n",
       "  \"/>\n",
       "<polyline clip-path=\"url(#clip5702)\" style=\"stroke:#000000; stroke-width:2; stroke-opacity:0.1; fill:none\" points=\"\n",
       "  718.773,1503.47 718.773,47.2441 \n",
       "  \"/>\n",
       "<polyline clip-path=\"url(#clip5702)\" style=\"stroke:#000000; stroke-width:2; stroke-opacity:0.1; fill:none\" points=\"\n",
       "  1236.84,1503.47 1236.84,47.2441 \n",
       "  \"/>\n",
       "<polyline clip-path=\"url(#clip5702)\" style=\"stroke:#000000; stroke-width:2; stroke-opacity:0.1; fill:none\" points=\"\n",
       "  1754.9,1503.47 1754.9,47.2441 \n",
       "  \"/>\n",
       "<polyline clip-path=\"url(#clip5702)\" style=\"stroke:#000000; stroke-width:2; stroke-opacity:0.1; fill:none\" points=\"\n",
       "  2272.96,1503.47 2272.96,47.2441 \n",
       "  \"/>\n",
       "<polyline clip-path=\"url(#clip5702)\" style=\"stroke:#000000; stroke-width:2; stroke-opacity:0.1; fill:none\" points=\"\n",
       "  149.361,1350.02 2321.26,1350.02 \n",
       "  \"/>\n",
       "<polyline clip-path=\"url(#clip5702)\" style=\"stroke:#000000; stroke-width:2; stroke-opacity:0.1; fill:none\" points=\"\n",
       "  149.361,997.689 2321.26,997.689 \n",
       "  \"/>\n",
       "<polyline clip-path=\"url(#clip5702)\" style=\"stroke:#000000; stroke-width:2; stroke-opacity:0.1; fill:none\" points=\"\n",
       "  149.361,645.358 2321.26,645.358 \n",
       "  \"/>\n",
       "<polyline clip-path=\"url(#clip5702)\" style=\"stroke:#000000; stroke-width:2; stroke-opacity:0.1; fill:none\" points=\"\n",
       "  149.361,293.028 2321.26,293.028 \n",
       "  \"/>\n",
       "<polyline clip-path=\"url(#clip5700)\" style=\"stroke:#000000; stroke-width:4; stroke-opacity:1; fill:none\" points=\"\n",
       "  149.361,1503.47 2321.26,1503.47 \n",
       "  \"/>\n",
       "<polyline clip-path=\"url(#clip5700)\" style=\"stroke:#000000; stroke-width:4; stroke-opacity:1; fill:none\" points=\"\n",
       "  149.361,1503.47 149.361,47.2441 \n",
       "  \"/>\n",
       "<polyline clip-path=\"url(#clip5700)\" style=\"stroke:#000000; stroke-width:4; stroke-opacity:1; fill:none\" points=\"\n",
       "  200.711,1503.47 200.711,1481.63 \n",
       "  \"/>\n",
       "<polyline clip-path=\"url(#clip5700)\" style=\"stroke:#000000; stroke-width:4; stroke-opacity:1; fill:none\" points=\"\n",
       "  718.773,1503.47 718.773,1481.63 \n",
       "  \"/>\n",
       "<polyline clip-path=\"url(#clip5700)\" style=\"stroke:#000000; stroke-width:4; stroke-opacity:1; fill:none\" points=\"\n",
       "  1236.84,1503.47 1236.84,1481.63 \n",
       "  \"/>\n",
       "<polyline clip-path=\"url(#clip5700)\" style=\"stroke:#000000; stroke-width:4; stroke-opacity:1; fill:none\" points=\"\n",
       "  1754.9,1503.47 1754.9,1481.63 \n",
       "  \"/>\n",
       "<polyline clip-path=\"url(#clip5700)\" style=\"stroke:#000000; stroke-width:4; stroke-opacity:1; fill:none\" points=\"\n",
       "  2272.96,1503.47 2272.96,1481.63 \n",
       "  \"/>\n",
       "<polyline clip-path=\"url(#clip5700)\" style=\"stroke:#000000; stroke-width:4; stroke-opacity:1; fill:none\" points=\"\n",
       "  149.361,1350.02 181.939,1350.02 \n",
       "  \"/>\n",
       "<polyline clip-path=\"url(#clip5700)\" style=\"stroke:#000000; stroke-width:4; stroke-opacity:1; fill:none\" points=\"\n",
       "  149.361,997.689 181.939,997.689 \n",
       "  \"/>\n",
       "<polyline clip-path=\"url(#clip5700)\" style=\"stroke:#000000; stroke-width:4; stroke-opacity:1; fill:none\" points=\"\n",
       "  149.361,645.358 181.939,645.358 \n",
       "  \"/>\n",
       "<polyline clip-path=\"url(#clip5700)\" style=\"stroke:#000000; stroke-width:4; stroke-opacity:1; fill:none\" points=\"\n",
       "  149.361,293.028 181.939,293.028 \n",
       "  \"/>\n",
       "<g clip-path=\"url(#clip5700)\">\n",
       "<text style=\"fill:#000000; fill-opacity:1; font-family:Arial,Helvetica Neue,Helvetica,sans-serif; font-size:48px; text-anchor:middle;\" transform=\"rotate(0, 200.711, 1557.47)\" x=\"200.711\" y=\"1557.47\">-2</text>\n",
       "</g>\n",
       "<g clip-path=\"url(#clip5700)\">\n",
       "<text style=\"fill:#000000; fill-opacity:1; font-family:Arial,Helvetica Neue,Helvetica,sans-serif; font-size:48px; text-anchor:middle;\" transform=\"rotate(0, 718.773, 1557.47)\" x=\"718.773\" y=\"1557.47\">-1</text>\n",
       "</g>\n",
       "<g clip-path=\"url(#clip5700)\">\n",
       "<text style=\"fill:#000000; fill-opacity:1; font-family:Arial,Helvetica Neue,Helvetica,sans-serif; font-size:48px; text-anchor:middle;\" transform=\"rotate(0, 1236.84, 1557.47)\" x=\"1236.84\" y=\"1557.47\">0</text>\n",
       "</g>\n",
       "<g clip-path=\"url(#clip5700)\">\n",
       "<text style=\"fill:#000000; fill-opacity:1; font-family:Arial,Helvetica Neue,Helvetica,sans-serif; font-size:48px; text-anchor:middle;\" transform=\"rotate(0, 1754.9, 1557.47)\" x=\"1754.9\" y=\"1557.47\">1</text>\n",
       "</g>\n",
       "<g clip-path=\"url(#clip5700)\">\n",
       "<text style=\"fill:#000000; fill-opacity:1; font-family:Arial,Helvetica Neue,Helvetica,sans-serif; font-size:48px; text-anchor:middle;\" transform=\"rotate(0, 2272.96, 1557.47)\" x=\"2272.96\" y=\"1557.47\">2</text>\n",
       "</g>\n",
       "<g clip-path=\"url(#clip5700)\">\n",
       "<text style=\"fill:#000000; fill-opacity:1; font-family:Arial,Helvetica Neue,Helvetica,sans-serif; font-size:48px; text-anchor:end;\" transform=\"rotate(0, 125.361, 1367.52)\" x=\"125.361\" y=\"1367.52\">-2</text>\n",
       "</g>\n",
       "<g clip-path=\"url(#clip5700)\">\n",
       "<text style=\"fill:#000000; fill-opacity:1; font-family:Arial,Helvetica Neue,Helvetica,sans-serif; font-size:48px; text-anchor:end;\" transform=\"rotate(0, 125.361, 1015.19)\" x=\"125.361\" y=\"1015.19\">-1</text>\n",
       "</g>\n",
       "<g clip-path=\"url(#clip5700)\">\n",
       "<text style=\"fill:#000000; fill-opacity:1; font-family:Arial,Helvetica Neue,Helvetica,sans-serif; font-size:48px; text-anchor:end;\" transform=\"rotate(0, 125.361, 662.858)\" x=\"125.361\" y=\"662.858\">0</text>\n",
       "</g>\n",
       "<g clip-path=\"url(#clip5700)\">\n",
       "<text style=\"fill:#000000; fill-opacity:1; font-family:Arial,Helvetica Neue,Helvetica,sans-serif; font-size:48px; text-anchor:end;\" transform=\"rotate(0, 125.361, 310.528)\" x=\"125.361\" y=\"310.528\">1</text>\n",
       "</g>\n",
       "<polyline clip-path=\"url(#clip5702)\" style=\"stroke:#009af9; stroke-width:4; stroke-opacity:1; fill:none\" points=\"\n",
       "  210.829,674.513 220.948,671.834 314.509,653.065 408.07,645.506 464.297,646.474 520.523,651.574 568.061,659.068 615.6,669.412 667.24,683.774 718.881,701.253 \n",
       "  766.488,719.978 814.096,741.047 916.177,793.272 1034.45,863.522 1139.55,931.917 1231.72,994.211 1332.21,1062.19 1433.29,1128.12 1545.06,1195.16 1651.4,1250.49 \n",
       "  1706.68,1275.19 1761.96,1296.73 1808.5,1312.24 1855.04,1325.21 1911.85,1337.46 1968.67,1345.62 2022.08,1349.49 2075.49,1349.61 2161.06,1342.04 2246.62,1325.1 \n",
       "  2259.79,1321.69 \n",
       "  \"/>\n",
       "<polyline clip-path=\"url(#clip5702)\" style=\"stroke:#e26f46; stroke-width:4; stroke-opacity:1; fill:none\" points=\"\n",
       "  220.948,88.4582 408.07,91.9174 520.523,92.309 615.6,94.9123 718.881,102.674 814.096,116.461 916.177,140.313 1034.45,181.931 1139.55,233.061 1231.72,289.567 \n",
       "  1332.21,363.845 1433.29,451.67 1545.06,563.186 1651.4,681.881 1761.96,816.191 1855.04,935.927 1968.67,1087.59 2075.49,1232.64 2246.62,1462.26 \n",
       "  \"/>\n",
       "<polygon clip-path=\"url(#clip5700)\" points=\"\n",
       "1958.43,312.204 2249.26,312.204 2249.26,130.764 1958.43,130.764 \n",
       "  \" fill=\"#ffffff\" fill-rule=\"evenodd\" fill-opacity=\"1\"/>\n",
       "<polyline clip-path=\"url(#clip5700)\" style=\"stroke:#000000; stroke-width:4; stroke-opacity:1; fill:none\" points=\"\n",
       "  1958.43,312.204 2249.26,312.204 2249.26,130.764 1958.43,130.764 1958.43,312.204 \n",
       "  \"/>\n",
       "<polyline clip-path=\"url(#clip5700)\" style=\"stroke:#009af9; stroke-width:4; stroke-opacity:1; fill:none\" points=\"\n",
       "  1982.43,191.244 2126.43,191.244 \n",
       "  \"/>\n",
       "<g clip-path=\"url(#clip5700)\">\n",
       "<text style=\"fill:#000000; fill-opacity:1; font-family:Arial,Helvetica Neue,Helvetica,sans-serif; font-size:48px; text-anchor:start;\" transform=\"rotate(0, 2150.43, 208.744)\" x=\"2150.43\" y=\"208.744\">y1</text>\n",
       "</g>\n",
       "<polyline clip-path=\"url(#clip5700)\" style=\"stroke:#e26f46; stroke-width:4; stroke-opacity:1; fill:none\" points=\"\n",
       "  1982.43,251.724 2126.43,251.724 \n",
       "  \"/>\n",
       "<g clip-path=\"url(#clip5700)\">\n",
       "<text style=\"fill:#000000; fill-opacity:1; font-family:Arial,Helvetica Neue,Helvetica,sans-serif; font-size:48px; text-anchor:start;\" transform=\"rotate(0, 2150.43, 269.224)\" x=\"2150.43\" y=\"269.224\">y2</text>\n",
       "</g>\n",
       "</svg>\n"
      ]
     },
     "execution_count": 31,
     "metadata": {},
     "output_type": "execute_result"
    }
   ],
   "source": [
    "plot!(f , -2, 2)"
   ]
  },
  {
   "cell_type": "code",
   "execution_count": 32,
   "metadata": {},
   "outputs": [
    {
     "data": {
      "image/svg+xml": [
       "<?xml version=\"1.0\" encoding=\"utf-8\"?>\n",
       "<svg xmlns=\"http://www.w3.org/2000/svg\" xmlns:xlink=\"http://www.w3.org/1999/xlink\" width=\"600\" height=\"400\" viewBox=\"0 0 2400 1600\">\n",
       "<defs>\n",
       "  <clipPath id=\"clip6100\">\n",
       "    <rect x=\"0\" y=\"0\" width=\"2400\" height=\"1600\"/>\n",
       "  </clipPath>\n",
       "</defs>\n",
       "<polygon clip-path=\"url(#clip6100)\" points=\"\n",
       "0,1600 2400,1600 2400,0 0,0 \n",
       "  \" fill=\"#ffffff\" fill-rule=\"evenodd\" fill-opacity=\"1\"/>\n",
       "<defs>\n",
       "  <clipPath id=\"clip6101\">\n",
       "    <rect x=\"480\" y=\"0\" width=\"1681\" height=\"1600\"/>\n",
       "  </clipPath>\n",
       "</defs>\n",
       "<polygon clip-path=\"url(#clip6100)\" points=\"\n",
       "189.504,1503.47 2321.26,1503.47 2321.26,47.2441 189.504,47.2441 \n",
       "  \" fill=\"#ffffff\" fill-rule=\"evenodd\" fill-opacity=\"1\"/>\n",
       "<defs>\n",
       "  <clipPath id=\"clip6102\">\n",
       "    <rect x=\"189\" y=\"47\" width=\"2133\" height=\"1457\"/>\n",
       "  </clipPath>\n",
       "</defs>\n",
       "<polyline clip-path=\"url(#clip6102)\" style=\"stroke:#000000; stroke-width:2; stroke-opacity:0.1; fill:none\" points=\"\n",
       "  428.759,1503.47 428.759,47.2441 \n",
       "  \"/>\n",
       "<polyline clip-path=\"url(#clip6102)\" style=\"stroke:#000000; stroke-width:2; stroke-opacity:0.1; fill:none\" points=\"\n",
       "  888.407,1503.47 888.407,47.2441 \n",
       "  \"/>\n",
       "<polyline clip-path=\"url(#clip6102)\" style=\"stroke:#000000; stroke-width:2; stroke-opacity:0.1; fill:none\" points=\"\n",
       "  1348.06,1503.47 1348.06,47.2441 \n",
       "  \"/>\n",
       "<polyline clip-path=\"url(#clip6102)\" style=\"stroke:#000000; stroke-width:2; stroke-opacity:0.1; fill:none\" points=\"\n",
       "  1807.7,1503.47 1807.7,47.2441 \n",
       "  \"/>\n",
       "<polyline clip-path=\"url(#clip6102)\" style=\"stroke:#000000; stroke-width:2; stroke-opacity:0.1; fill:none\" points=\"\n",
       "  2267.35,1503.47 2267.35,47.2441 \n",
       "  \"/>\n",
       "<polyline clip-path=\"url(#clip6102)\" style=\"stroke:#000000; stroke-width:2; stroke-opacity:0.1; fill:none\" points=\"\n",
       "  189.504,1462.26 2321.26,1462.26 \n",
       "  \"/>\n",
       "<polyline clip-path=\"url(#clip6102)\" style=\"stroke:#000000; stroke-width:2; stroke-opacity:0.1; fill:none\" points=\"\n",
       "  189.504,1118.71 2321.26,1118.71 \n",
       "  \"/>\n",
       "<polyline clip-path=\"url(#clip6102)\" style=\"stroke:#000000; stroke-width:2; stroke-opacity:0.1; fill:none\" points=\"\n",
       "  189.504,775.162 2321.26,775.162 \n",
       "  \"/>\n",
       "<polyline clip-path=\"url(#clip6102)\" style=\"stroke:#000000; stroke-width:2; stroke-opacity:0.1; fill:none\" points=\"\n",
       "  189.504,431.612 2321.26,431.612 \n",
       "  \"/>\n",
       "<polyline clip-path=\"url(#clip6102)\" style=\"stroke:#000000; stroke-width:2; stroke-opacity:0.1; fill:none\" points=\"\n",
       "  189.504,88.0618 2321.26,88.0618 \n",
       "  \"/>\n",
       "<polyline clip-path=\"url(#clip6100)\" style=\"stroke:#000000; stroke-width:4; stroke-opacity:1; fill:none\" points=\"\n",
       "  189.504,1503.47 2321.26,1503.47 \n",
       "  \"/>\n",
       "<polyline clip-path=\"url(#clip6100)\" style=\"stroke:#000000; stroke-width:4; stroke-opacity:1; fill:none\" points=\"\n",
       "  189.504,1503.47 189.504,47.2441 \n",
       "  \"/>\n",
       "<polyline clip-path=\"url(#clip6100)\" style=\"stroke:#000000; stroke-width:4; stroke-opacity:1; fill:none\" points=\"\n",
       "  428.759,1503.47 428.759,1481.63 \n",
       "  \"/>\n",
       "<polyline clip-path=\"url(#clip6100)\" style=\"stroke:#000000; stroke-width:4; stroke-opacity:1; fill:none\" points=\"\n",
       "  888.407,1503.47 888.407,1481.63 \n",
       "  \"/>\n",
       "<polyline clip-path=\"url(#clip6100)\" style=\"stroke:#000000; stroke-width:4; stroke-opacity:1; fill:none\" points=\"\n",
       "  1348.06,1503.47 1348.06,1481.63 \n",
       "  \"/>\n",
       "<polyline clip-path=\"url(#clip6100)\" style=\"stroke:#000000; stroke-width:4; stroke-opacity:1; fill:none\" points=\"\n",
       "  1807.7,1503.47 1807.7,1481.63 \n",
       "  \"/>\n",
       "<polyline clip-path=\"url(#clip6100)\" style=\"stroke:#000000; stroke-width:4; stroke-opacity:1; fill:none\" points=\"\n",
       "  2267.35,1503.47 2267.35,1481.63 \n",
       "  \"/>\n",
       "<polyline clip-path=\"url(#clip6100)\" style=\"stroke:#000000; stroke-width:4; stroke-opacity:1; fill:none\" points=\"\n",
       "  189.504,1462.26 221.48,1462.26 \n",
       "  \"/>\n",
       "<polyline clip-path=\"url(#clip6100)\" style=\"stroke:#000000; stroke-width:4; stroke-opacity:1; fill:none\" points=\"\n",
       "  189.504,1118.71 221.48,1118.71 \n",
       "  \"/>\n",
       "<polyline clip-path=\"url(#clip6100)\" style=\"stroke:#000000; stroke-width:4; stroke-opacity:1; fill:none\" points=\"\n",
       "  189.504,775.162 221.48,775.162 \n",
       "  \"/>\n",
       "<polyline clip-path=\"url(#clip6100)\" style=\"stroke:#000000; stroke-width:4; stroke-opacity:1; fill:none\" points=\"\n",
       "  189.504,431.612 221.48,431.612 \n",
       "  \"/>\n",
       "<polyline clip-path=\"url(#clip6100)\" style=\"stroke:#000000; stroke-width:4; stroke-opacity:1; fill:none\" points=\"\n",
       "  189.504,88.0618 221.48,88.0618 \n",
       "  \"/>\n",
       "<g clip-path=\"url(#clip6100)\">\n",
       "<text style=\"fill:#000000; fill-opacity:1; font-family:Arial,Helvetica Neue,Helvetica,sans-serif; font-size:48px; text-anchor:middle;\" transform=\"rotate(0, 428.759, 1557.47)\" x=\"428.759\" y=\"1557.47\">0</text>\n",
       "</g>\n",
       "<g clip-path=\"url(#clip6100)\">\n",
       "<text style=\"fill:#000000; fill-opacity:1; font-family:Arial,Helvetica Neue,Helvetica,sans-serif; font-size:48px; text-anchor:middle;\" transform=\"rotate(0, 888.407, 1557.47)\" x=\"888.407\" y=\"1557.47\">5</text>\n",
       "</g>\n",
       "<g clip-path=\"url(#clip6100)\">\n",
       "<text style=\"fill:#000000; fill-opacity:1; font-family:Arial,Helvetica Neue,Helvetica,sans-serif; font-size:48px; text-anchor:middle;\" transform=\"rotate(0, 1348.06, 1557.47)\" x=\"1348.06\" y=\"1557.47\">10</text>\n",
       "</g>\n",
       "<g clip-path=\"url(#clip6100)\">\n",
       "<text style=\"fill:#000000; fill-opacity:1; font-family:Arial,Helvetica Neue,Helvetica,sans-serif; font-size:48px; text-anchor:middle;\" transform=\"rotate(0, 1807.7, 1557.47)\" x=\"1807.7\" y=\"1557.47\">15</text>\n",
       "</g>\n",
       "<g clip-path=\"url(#clip6100)\">\n",
       "<text style=\"fill:#000000; fill-opacity:1; font-family:Arial,Helvetica Neue,Helvetica,sans-serif; font-size:48px; text-anchor:middle;\" transform=\"rotate(0, 2267.35, 1557.47)\" x=\"2267.35\" y=\"1557.47\">20</text>\n",
       "</g>\n",
       "<g clip-path=\"url(#clip6100)\">\n",
       "<text style=\"fill:#000000; fill-opacity:1; font-family:Arial,Helvetica Neue,Helvetica,sans-serif; font-size:48px; text-anchor:end;\" transform=\"rotate(0, 165.504, 1479.76)\" x=\"165.504\" y=\"1479.76\">-2.0</text>\n",
       "</g>\n",
       "<g clip-path=\"url(#clip6100)\">\n",
       "<text style=\"fill:#000000; fill-opacity:1; font-family:Arial,Helvetica Neue,Helvetica,sans-serif; font-size:48px; text-anchor:end;\" transform=\"rotate(0, 165.504, 1136.21)\" x=\"165.504\" y=\"1136.21\">-1.5</text>\n",
       "</g>\n",
       "<g clip-path=\"url(#clip6100)\">\n",
       "<text style=\"fill:#000000; fill-opacity:1; font-family:Arial,Helvetica Neue,Helvetica,sans-serif; font-size:48px; text-anchor:end;\" transform=\"rotate(0, 165.504, 792.662)\" x=\"165.504\" y=\"792.662\">-1.0</text>\n",
       "</g>\n",
       "<g clip-path=\"url(#clip6100)\">\n",
       "<text style=\"fill:#000000; fill-opacity:1; font-family:Arial,Helvetica Neue,Helvetica,sans-serif; font-size:48px; text-anchor:end;\" transform=\"rotate(0, 165.504, 449.112)\" x=\"165.504\" y=\"449.112\">-0.5</text>\n",
       "</g>\n",
       "<g clip-path=\"url(#clip6100)\">\n",
       "<text style=\"fill:#000000; fill-opacity:1; font-family:Arial,Helvetica Neue,Helvetica,sans-serif; font-size:48px; text-anchor:end;\" transform=\"rotate(0, 165.504, 105.562)\" x=\"165.504\" y=\"105.562\">0.0</text>\n",
       "</g>\n",
       "<polyline clip-path=\"url(#clip6102)\" style=\"stroke:#009af9; stroke-width:4; stroke-opacity:1; fill:none\" points=\"\n",
       "  249.837,135.934 254.775,123.328 259.712,112.602 264.65,103.787 276.064,90.8547 287.478,88.4582 298.892,96.6343 310.306,115.257 321.721,144.04 333.135,182.54 \n",
       "  344.549,230.164 355.963,286.179 367.377,349.722 378.791,419.816 390.205,495.38 401.619,575.252 424.448,742.953 447.276,912.63 460.995,1011.19 474.713,1104.51 \n",
       "  488.432,1190.51 502.151,1267.27 515.87,1333.09 529.589,1386.52 536.448,1408.19 543.307,1426.35 550.167,1440.88 557.026,1451.71 568.625,1461.43 580.224,1460.24 \n",
       "  591.823,1448.15 603.423,1425.37 615.022,1392.25 626.621,1349.32 638.22,1297.26 649.819,1236.9 662.419,1163.05 675.019,1081.93 687.618,995.046 700.218,904.042 \n",
       "  725.418,716.534 750.618,533.403 762.234,454.279 773.85,380.271 785.466,312.559 797.081,252.223 808.697,200.226 820.313,157.396 831.929,124.416 843.545,101.812 \n",
       "  855.999,89.5094 868.452,89.7708 880.906,102.591 893.359,127.735 905.813,164.742 918.266,212.934 924.493,240.957 930.72,271.429 936.947,304.211 943.173,339.153 \n",
       "  972.031,524.431 1000.89,734.212 1029.75,947.996 1058.6,1144.89 1071.42,1221.82 1084.25,1290.07 1097.07,1348.32 1109.89,1395.44 1122.71,1430.51 1135.54,1452.85 \n",
       "  1148.36,1462.03 1161.18,1457.86 1172.43,1443.29 1183.67,1418.73 1194.91,1384.56 1206.16,1341.29 1217.4,1289.55 1228.65,1230.13 1239.89,1163.91 1251.14,1091.88 \n",
       "  1275.65,919.981 1300.17,737.839 1324.69,558.336 1349.21,394.166 1361.54,321.115 1373.87,256.222 1386.2,200.654 1398.54,155.408 1410.87,121.299 1423.2,98.9378 \n",
       "  1435.53,88.7273 1447.86,90.8508 1461.5,107.503 1475.13,138.814 1488.77,184.098 1502.4,242.361 1516.04,312.322 1529.67,392.445 1543.31,480.972 1556.94,575.959 \n",
       "  1582.89,766.982 1608.83,958.653 1621.81,1049.96 1634.78,1135.8 1647.75,1214.48 1660.72,1284.42 1674.21,1346.38 1687.7,1396.07 1701.19,1432.42 1714.68,1454.64 \n",
       "  1728.17,1462.26 1741.66,1455.11 1755.15,1433.35 1768.64,1397.44 1779.99,1356.81 1791.35,1307.32 1802.7,1249.71 1814.06,1184.88 1836.76,1037.57 1859.47,874.32 \n",
       "  1887.2,667.88 1914.93,471.125 1928.79,382.01 1942.65,301.817 1956.51,232.368 1970.38,175.239 1983.41,133.933 1996.44,105.491 2009.47,90.4822 2022.5,89.2091 \n",
       "  2035.53,101.697 2048.57,127.695 2055.08,145.608 2061.6,166.682 2068.11,190.811 2074.63,217.875 2085.07,267.005 2095.51,322.679 2105.95,384.182 2116.38,450.72 \n",
       "  2137.26,595.422 2158.14,749.355 2179.02,904.613 2199.89,1053.22 2220.77,1187.55 2241.65,1300.71 2248.08,1330.34 2254.5,1357.26 2260.93,1381.33 \n",
       "  \"/>\n",
       "<polygon clip-path=\"url(#clip6100)\" points=\"\n",
       "1958.43,251.724 2249.26,251.724 2249.26,130.764 1958.43,130.764 \n",
       "  \" fill=\"#ffffff\" fill-rule=\"evenodd\" fill-opacity=\"1\"/>\n",
       "<polyline clip-path=\"url(#clip6100)\" style=\"stroke:#000000; stroke-width:4; stroke-opacity:1; fill:none\" points=\"\n",
       "  1958.43,251.724 2249.26,251.724 2249.26,130.764 1958.43,130.764 1958.43,251.724 \n",
       "  \"/>\n",
       "<polyline clip-path=\"url(#clip6100)\" style=\"stroke:#009af9; stroke-width:4; stroke-opacity:1; fill:none\" points=\"\n",
       "  1982.43,191.244 2126.43,191.244 \n",
       "  \"/>\n",
       "<g clip-path=\"url(#clip6100)\">\n",
       "<text style=\"fill:#000000; fill-opacity:1; font-family:Arial,Helvetica Neue,Helvetica,sans-serif; font-size:48px; text-anchor:start;\" transform=\"rotate(0, 2150.43, 208.744)\" x=\"2150.43\" y=\"208.744\">y1</text>\n",
       "</g>\n",
       "</svg>\n"
      ]
     },
     "execution_count": 32,
     "metadata": {},
     "output_type": "execute_result"
    }
   ],
   "source": [
    "plot(D(f), -2, 20)"
   ]
  },
  {
   "cell_type": "code",
   "execution_count": 33,
   "metadata": {},
   "outputs": [
    {
     "name": "stdout",
     "output_type": "stream",
     "text": [
      "Results of univariate zero finding:\n",
      "\n",
      "* Converged to: 0.7390851332151607\n",
      "* Algorithm: Roots.Newton()\n",
      "* iterations: 5\n",
      "* function evaluations: 11\n",
      "* stopped as |f(x_n)| ≤ max(δ, max(1,|x|)⋅ϵ) using δ = atol, ϵ = rtol\n",
      "\n",
      "Trace:\n",
      "x_0 =  0.0000000000000000,\t fx_0 =  1.0000000000000000\n",
      "x_1 =  1.0000000000000000,\t fx_1 = -0.4596976941318602\n",
      "x_2 =  0.7503638678402439,\t fx_2 = -0.0189230738221174\n",
      "x_3 =  0.7391128909113617,\t fx_3 = -0.0000464558989908\n",
      "x_4 =  0.7390851333852840,\t fx_4 = -0.0000000002847206\n",
      "x_5 =  0.7390851332151607,\t fx_5 =  0.0000000000000000\n",
      "\n"
     ]
    },
    {
     "data": {
      "text/plain": [
       "0.7390851332151607"
      ]
     },
     "execution_count": 33,
     "metadata": {},
     "output_type": "execute_result"
    }
   ],
   "source": [
    "find_zero((f, D(f)), 0, Roots.Newton(), verbose=true)"
   ]
  },
  {
   "cell_type": "code",
   "execution_count": 34,
   "metadata": {},
   "outputs": [
    {
     "name": "stdout",
     "output_type": "stream",
     "text": [
      "Results of univariate zero finding:\n",
      "\n",
      "* Converged to: 0.7390851332151607\n",
      "* Algorithm: Roots.Secant(), with possible bracketing with Roots.AlefeldPotraShi()\n",
      "* iterations: 2\n",
      "* function evaluations: 11\n",
      "* Note: Exact zero found. Bracketing used over (0.0, 0.9999969722835395), those steps not shown. \n",
      "\n",
      "Trace:\n",
      "x_0 =  0.0000000000000000,\t fx_0 =  1.0000000000000000\n",
      "\n"
     ]
    },
    {
     "data": {
      "text/plain": [
       "0.7390851332151607"
      ]
     },
     "execution_count": 34,
     "metadata": {},
     "output_type": "execute_result"
    }
   ],
   "source": [
    "x = find_zero(f, 0, verbose=true)"
   ]
  },
  {
   "cell_type": "code",
   "execution_count": 35,
   "metadata": {},
   "outputs": [
    {
     "name": "stdout",
     "output_type": "stream",
     "text": [
      "Results of univariate zero finding:\n",
      "\n",
      "* Converged to: 0.7390851332151607\n",
      "* Algorithm: Roots.Secant()\n",
      "* iterations: 7\n",
      "* function evaluations: 9\n",
      "* stopped as |f(x_n)| ≤ max(δ, max(1,|x|)⋅ϵ) using δ = atol, ϵ = rtol\n",
      "\n",
      "Trace:\n",
      "x_0 =  0.0000000000000000,\t fx_0 =  1.0000000000000000\n",
      "x_1 =  0.9999969722835395,\t fx_1 = -0.4596921186823245\n",
      "x_2 =  0.6850738998209051,\t fx_2 =  0.0892983907342114\n",
      "x_3 =  0.7362990541607765,\t fx_3 =  0.0046599445167861\n",
      "x_4 =  0.7391193608624661,\t fx_4 = -0.0000572842351875\n",
      "x_5 =  0.7390851121285389,\t fx_5 =  0.0000000352908237\n",
      "x_6 =  0.7390851332150014,\t fx_6 =  0.0000000000002666\n",
      "x_7 =  0.7390851332151607,\t fx_7 =  0.0000000000000000\n",
      "\n"
     ]
    },
    {
     "data": {
      "text/plain": [
       "0.7390851332151607"
      ]
     },
     "execution_count": 35,
     "metadata": {},
     "output_type": "execute_result"
    }
   ],
   "source": [
    "x = find_zero(f, 0, Order1(), verbose=true)"
   ]
  },
  {
   "cell_type": "code",
   "execution_count": 37,
   "metadata": {},
   "outputs": [
    {
     "data": {
      "text/plain": [
       "0.7390851332151607"
      ]
     },
     "execution_count": 37,
     "metadata": {},
     "output_type": "execute_result"
    }
   ],
   "source": [
    "Roots.secant_method(f, 0)"
   ]
  },
  {
   "cell_type": "code",
   "execution_count": 38,
   "metadata": {},
   "outputs": [
    {
     "data": {
      "text/plain": [
       "0.7390851332151607"
      ]
     },
     "execution_count": 38,
     "metadata": {},
     "output_type": "execute_result"
    }
   ],
   "source": [
    "Roots.secant_method(f, (0,1))"
   ]
  },
  {
   "cell_type": "code",
   "execution_count": 39,
   "metadata": {},
   "outputs": [
    {
     "name": "stdout",
     "output_type": "stream",
     "text": [
      "Results of univariate zero finding:\n",
      "\n",
      "* Converged to: 0.7390851332151607\n",
      "* Algorithm: Order2()\n",
      "* iterations: 6\n",
      "* function evaluations: 10\n",
      "* stopped as |f(x_n)| ≤ max(δ, max(1,|x|)⋅ϵ) using δ = atol, ϵ = rtol\n",
      "\n",
      "Trace:\n",
      "x_0 =  0.0000000000000000,\t fx_0 =  1.0000000000000000\n",
      "x_1 =  0.9999969722835395,\t fx_1 = -0.4596921186823245\n",
      "x_2 =  0.6850738998209051,\t fx_2 =  0.0892983907342114\n",
      "x_3 =  0.7362990541607765,\t fx_3 =  0.0046599445167861\n",
      "x_4 =  0.7391193608624661,\t fx_4 = -0.0000572842351875\n",
      "x_5 =  0.7390851330409081,\t fx_5 =  0.0000000002916313\n",
      "x_6 =  0.7390851332151607,\t fx_6 =  0.0000000000000000\n",
      "\n"
     ]
    },
    {
     "data": {
      "text/plain": [
       "0.7390851332151607"
      ]
     },
     "execution_count": 39,
     "metadata": {},
     "output_type": "execute_result"
    }
   ],
   "source": [
    "x = find_zero(f, 0, Order2(), verbose=true)"
   ]
  },
  {
   "cell_type": "code",
   "execution_count": 42,
   "metadata": {},
   "outputs": [
    {
     "name": "stdout",
     "output_type": "stream",
     "text": [
      "Results of univariate zero finding:\n",
      "\n",
      "* Converged to: 0.7390851332151607\n",
      "* Algorithm: Order16()\n",
      "* iterations: 2\n",
      "* function evaluations: 12\n",
      "* stopped as |f(x_n)| ≤ max(δ, max(1,|x|)⋅ϵ) using δ = atol, ϵ = rtol\n",
      "\n",
      "Trace:\n",
      "x_0 =  0.0000000000000000,\t fx_0 =  1.0000000000000000\n",
      "x_1 =  0.7401877925386848,\t fx_1 = -0.0018458730685117\n",
      "x_2 =  0.7390851332151607,\t fx_2 =  0.0000000000000000\n",
      "\n"
     ]
    },
    {
     "data": {
      "text/plain": [
       "0.7390851332151607"
      ]
     },
     "execution_count": 42,
     "metadata": {},
     "output_type": "execute_result"
    }
   ],
   "source": [
    "x = find_zero(f, 0, Order16(), verbose=true)"
   ]
  },
  {
   "cell_type": "code",
   "execution_count": 43,
   "metadata": {},
   "outputs": [
    {
     "data": {
      "image/svg+xml": [
       "<?xml version=\"1.0\" encoding=\"utf-8\"?>\n",
       "<svg xmlns=\"http://www.w3.org/2000/svg\" xmlns:xlink=\"http://www.w3.org/1999/xlink\" width=\"600\" height=\"400\" viewBox=\"0 0 2400 1600\">\n",
       "<defs>\n",
       "  <clipPath id=\"clip6500\">\n",
       "    <rect x=\"0\" y=\"0\" width=\"2400\" height=\"1600\"/>\n",
       "  </clipPath>\n",
       "</defs>\n",
       "<polygon clip-path=\"url(#clip6500)\" points=\"\n",
       "0,1600 2400,1600 2400,0 0,0 \n",
       "  \" fill=\"#ffffff\" fill-rule=\"evenodd\" fill-opacity=\"1\"/>\n",
       "<defs>\n",
       "  <clipPath id=\"clip6501\">\n",
       "    <rect x=\"480\" y=\"0\" width=\"1681\" height=\"1600\"/>\n",
       "  </clipPath>\n",
       "</defs>\n",
       "<polygon clip-path=\"url(#clip6500)\" points=\"\n",
       "202.885,1503.47 2321.26,1503.47 2321.26,47.2441 202.885,47.2441 \n",
       "  \" fill=\"#ffffff\" fill-rule=\"evenodd\" fill-opacity=\"1\"/>\n",
       "<defs>\n",
       "  <clipPath id=\"clip6502\">\n",
       "    <rect x=\"202\" y=\"47\" width=\"2119\" height=\"1457\"/>\n",
       "  </clipPath>\n",
       "</defs>\n",
       "<polyline clip-path=\"url(#clip6502)\" style=\"stroke:#000000; stroke-width:2; stroke-opacity:0.1; fill:none\" points=\"\n",
       "  447.315,1503.47 447.315,47.2441 \n",
       "  \"/>\n",
       "<polyline clip-path=\"url(#clip6502)\" style=\"stroke:#000000; stroke-width:2; stroke-opacity:0.1; fill:none\" points=\"\n",
       "  856.198,1503.47 856.198,47.2441 \n",
       "  \"/>\n",
       "<polyline clip-path=\"url(#clip6502)\" style=\"stroke:#000000; stroke-width:2; stroke-opacity:0.1; fill:none\" points=\"\n",
       "  1265.08,1503.47 1265.08,47.2441 \n",
       "  \"/>\n",
       "<polyline clip-path=\"url(#clip6502)\" style=\"stroke:#000000; stroke-width:2; stroke-opacity:0.1; fill:none\" points=\"\n",
       "  1673.96,1503.47 1673.96,47.2441 \n",
       "  \"/>\n",
       "<polyline clip-path=\"url(#clip6502)\" style=\"stroke:#000000; stroke-width:2; stroke-opacity:0.1; fill:none\" points=\"\n",
       "  2082.85,1503.47 2082.85,47.2441 \n",
       "  \"/>\n",
       "<polyline clip-path=\"url(#clip6502)\" style=\"stroke:#000000; stroke-width:2; stroke-opacity:0.1; fill:none\" points=\"\n",
       "  202.885,1314.19 2321.26,1314.19 \n",
       "  \"/>\n",
       "<polyline clip-path=\"url(#clip6502)\" style=\"stroke:#000000; stroke-width:2; stroke-opacity:0.1; fill:none\" points=\"\n",
       "  202.885,1054.15 2321.26,1054.15 \n",
       "  \"/>\n",
       "<polyline clip-path=\"url(#clip6502)\" style=\"stroke:#000000; stroke-width:2; stroke-opacity:0.1; fill:none\" points=\"\n",
       "  202.885,794.118 2321.26,794.118 \n",
       "  \"/>\n",
       "<polyline clip-path=\"url(#clip6502)\" style=\"stroke:#000000; stroke-width:2; stroke-opacity:0.1; fill:none\" points=\"\n",
       "  202.885,534.083 2321.26,534.083 \n",
       "  \"/>\n",
       "<polyline clip-path=\"url(#clip6502)\" style=\"stroke:#000000; stroke-width:2; stroke-opacity:0.1; fill:none\" points=\"\n",
       "  202.885,274.049 2321.26,274.049 \n",
       "  \"/>\n",
       "<polyline clip-path=\"url(#clip6500)\" style=\"stroke:#000000; stroke-width:4; stroke-opacity:1; fill:none\" points=\"\n",
       "  202.885,1503.47 2321.26,1503.47 \n",
       "  \"/>\n",
       "<polyline clip-path=\"url(#clip6500)\" style=\"stroke:#000000; stroke-width:4; stroke-opacity:1; fill:none\" points=\"\n",
       "  202.885,1503.47 202.885,47.2441 \n",
       "  \"/>\n",
       "<polyline clip-path=\"url(#clip6500)\" style=\"stroke:#000000; stroke-width:4; stroke-opacity:1; fill:none\" points=\"\n",
       "  447.315,1503.47 447.315,1481.63 \n",
       "  \"/>\n",
       "<polyline clip-path=\"url(#clip6500)\" style=\"stroke:#000000; stroke-width:4; stroke-opacity:1; fill:none\" points=\"\n",
       "  856.198,1503.47 856.198,1481.63 \n",
       "  \"/>\n",
       "<polyline clip-path=\"url(#clip6500)\" style=\"stroke:#000000; stroke-width:4; stroke-opacity:1; fill:none\" points=\"\n",
       "  1265.08,1503.47 1265.08,1481.63 \n",
       "  \"/>\n",
       "<polyline clip-path=\"url(#clip6500)\" style=\"stroke:#000000; stroke-width:4; stroke-opacity:1; fill:none\" points=\"\n",
       "  1673.96,1503.47 1673.96,1481.63 \n",
       "  \"/>\n",
       "<polyline clip-path=\"url(#clip6500)\" style=\"stroke:#000000; stroke-width:4; stroke-opacity:1; fill:none\" points=\"\n",
       "  2082.85,1503.47 2082.85,1481.63 \n",
       "  \"/>\n",
       "<polyline clip-path=\"url(#clip6500)\" style=\"stroke:#000000; stroke-width:4; stroke-opacity:1; fill:none\" points=\"\n",
       "  202.885,1314.19 234.661,1314.19 \n",
       "  \"/>\n",
       "<polyline clip-path=\"url(#clip6500)\" style=\"stroke:#000000; stroke-width:4; stroke-opacity:1; fill:none\" points=\"\n",
       "  202.885,1054.15 234.661,1054.15 \n",
       "  \"/>\n",
       "<polyline clip-path=\"url(#clip6500)\" style=\"stroke:#000000; stroke-width:4; stroke-opacity:1; fill:none\" points=\"\n",
       "  202.885,794.118 234.661,794.118 \n",
       "  \"/>\n",
       "<polyline clip-path=\"url(#clip6500)\" style=\"stroke:#000000; stroke-width:4; stroke-opacity:1; fill:none\" points=\"\n",
       "  202.885,534.083 234.661,534.083 \n",
       "  \"/>\n",
       "<polyline clip-path=\"url(#clip6500)\" style=\"stroke:#000000; stroke-width:4; stroke-opacity:1; fill:none\" points=\"\n",
       "  202.885,274.049 234.661,274.049 \n",
       "  \"/>\n",
       "<g clip-path=\"url(#clip6500)\">\n",
       "<text style=\"fill:#000000; fill-opacity:1; font-family:Arial,Helvetica Neue,Helvetica,sans-serif; font-size:48px; text-anchor:middle;\" transform=\"rotate(0, 447.315, 1557.47)\" x=\"447.315\" y=\"1557.47\">-4</text>\n",
       "</g>\n",
       "<g clip-path=\"url(#clip6500)\">\n",
       "<text style=\"fill:#000000; fill-opacity:1; font-family:Arial,Helvetica Neue,Helvetica,sans-serif; font-size:48px; text-anchor:middle;\" transform=\"rotate(0, 856.198, 1557.47)\" x=\"856.198\" y=\"1557.47\">-2</text>\n",
       "</g>\n",
       "<g clip-path=\"url(#clip6500)\">\n",
       "<text style=\"fill:#000000; fill-opacity:1; font-family:Arial,Helvetica Neue,Helvetica,sans-serif; font-size:48px; text-anchor:middle;\" transform=\"rotate(0, 1265.08, 1557.47)\" x=\"1265.08\" y=\"1557.47\">0</text>\n",
       "</g>\n",
       "<g clip-path=\"url(#clip6500)\">\n",
       "<text style=\"fill:#000000; fill-opacity:1; font-family:Arial,Helvetica Neue,Helvetica,sans-serif; font-size:48px; text-anchor:middle;\" transform=\"rotate(0, 1673.96, 1557.47)\" x=\"1673.96\" y=\"1557.47\">2</text>\n",
       "</g>\n",
       "<g clip-path=\"url(#clip6500)\">\n",
       "<text style=\"fill:#000000; fill-opacity:1; font-family:Arial,Helvetica Neue,Helvetica,sans-serif; font-size:48px; text-anchor:middle;\" transform=\"rotate(0, 2082.85, 1557.47)\" x=\"2082.85\" y=\"1557.47\">4</text>\n",
       "</g>\n",
       "<g clip-path=\"url(#clip6500)\">\n",
       "<text style=\"fill:#000000; fill-opacity:1; font-family:Arial,Helvetica Neue,Helvetica,sans-serif; font-size:48px; text-anchor:end;\" transform=\"rotate(0, 178.885, 1331.69)\" x=\"178.885\" y=\"1331.69\">-400</text>\n",
       "</g>\n",
       "<g clip-path=\"url(#clip6500)\">\n",
       "<text style=\"fill:#000000; fill-opacity:1; font-family:Arial,Helvetica Neue,Helvetica,sans-serif; font-size:48px; text-anchor:end;\" transform=\"rotate(0, 178.885, 1071.65)\" x=\"178.885\" y=\"1071.65\">-200</text>\n",
       "</g>\n",
       "<g clip-path=\"url(#clip6500)\">\n",
       "<text style=\"fill:#000000; fill-opacity:1; font-family:Arial,Helvetica Neue,Helvetica,sans-serif; font-size:48px; text-anchor:end;\" transform=\"rotate(0, 178.885, 811.618)\" x=\"178.885\" y=\"811.618\">0</text>\n",
       "</g>\n",
       "<g clip-path=\"url(#clip6500)\">\n",
       "<text style=\"fill:#000000; fill-opacity:1; font-family:Arial,Helvetica Neue,Helvetica,sans-serif; font-size:48px; text-anchor:end;\" transform=\"rotate(0, 178.885, 551.583)\" x=\"178.885\" y=\"551.583\">200</text>\n",
       "</g>\n",
       "<g clip-path=\"url(#clip6500)\">\n",
       "<text style=\"fill:#000000; fill-opacity:1; font-family:Arial,Helvetica Neue,Helvetica,sans-serif; font-size:48px; text-anchor:end;\" transform=\"rotate(0, 178.885, 291.549)\" x=\"178.885\" y=\"291.549\">400</text>\n",
       "</g>\n",
       "<polyline clip-path=\"url(#clip6502)\" style=\"stroke:#009af9; stroke-width:4; stroke-opacity:1; fill:none\" points=\"\n",
       "  262.839,794.383 447.448,794.443 558.39,794.494 652.191,794.552 754.084,794.638 848.02,794.756 948.73,794.958 1065.41,795.449 1091.34,795.648 1117.26,795.916 \n",
       "  1143.18,796.299 1169.11,796.888 1180.47,797.26 1191.84,797.747 1203.21,798.414 1214.57,799.381 1220.25,800.048 1225.94,800.909 1231.62,802.062 1237.3,803.687 \n",
       "  1242.99,806.149 1248.67,810.315 1251.51,813.707 1254.35,818.895 1255.77,822.678 1257.19,827.823 1258.62,835.229 1260.04,846.807 1260.81,856.363 1261.59,870.153 \n",
       "  1262.36,891.793 1263.13,930.65 1263.91,1020.85 1264.68,1462.26 1265.46,88.4582 1266.23,563.22 1267.01,656.086 1267.78,695.679 1268.56,717.621 1269.33,731.564 \n",
       "  1270.88,748.275 1272.43,757.94 1273.98,764.24 1275.53,768.671 1277.08,771.957 1278.62,774.492 1281.72,778.146 1284.82,780.652 1291.02,783.869 1297.21,785.846 \n",
       "  1303.41,787.183 1309.61,788.148 1322,789.448 1334.39,790.283 1346.78,790.865 1359.17,791.293 1384.11,791.885 1409.04,792.272 1433.97,792.544 1458.9,792.747 \n",
       "  1569.16,793.244 1674.07,793.468 1783.16,793.605 1874.98,793.682 1987.09,793.75 2092.47,793.797 2261.31,793.851 \n",
       "  \"/>\n",
       "<polygon clip-path=\"url(#clip6500)\" points=\"\n",
       "1958.43,251.724 2249.26,251.724 2249.26,130.764 1958.43,130.764 \n",
       "  \" fill=\"#ffffff\" fill-rule=\"evenodd\" fill-opacity=\"1\"/>\n",
       "<polyline clip-path=\"url(#clip6500)\" style=\"stroke:#000000; stroke-width:4; stroke-opacity:1; fill:none\" points=\"\n",
       "  1958.43,251.724 2249.26,251.724 2249.26,130.764 1958.43,130.764 1958.43,251.724 \n",
       "  \"/>\n",
       "<polyline clip-path=\"url(#clip6500)\" style=\"stroke:#009af9; stroke-width:4; stroke-opacity:1; fill:none\" points=\"\n",
       "  1982.43,191.244 2126.43,191.244 \n",
       "  \"/>\n",
       "<g clip-path=\"url(#clip6500)\">\n",
       "<text style=\"fill:#000000; fill-opacity:1; font-family:Arial,Helvetica Neue,Helvetica,sans-serif; font-size:48px; text-anchor:start;\" transform=\"rotate(0, 2150.43, 208.744)\" x=\"2150.43\" y=\"208.744\">y1</text>\n",
       "</g>\n",
       "</svg>\n"
      ]
     },
     "execution_count": 43,
     "metadata": {},
     "output_type": "execute_result"
    }
   ],
   "source": [
    "plot(x -> 1/x)"
   ]
  },
  {
   "cell_type": "code",
   "execution_count": 46,
   "metadata": {},
   "outputs": [
    {
     "data": {
      "text/plain": [
       "0.0"
      ]
     },
     "execution_count": 46,
     "metadata": {},
     "output_type": "execute_result"
    }
   ],
   "source": [
    "find_zero(x -> 1/x, (-1, 1), verbose=false)"
   ]
  },
  {
   "cell_type": "code",
   "execution_count": 47,
   "metadata": {},
   "outputs": [
    {
     "data": {
      "text/plain": [
       "2-element Array{Float64,1}:\n",
       " 0.0\n",
       " 3.0"
      ]
     },
     "execution_count": 47,
     "metadata": {},
     "output_type": "execute_result"
    }
   ],
   "source": [
    "find_zeros(x ->(x-3)*x, -10, 10)"
   ]
  },
  {
   "cell_type": "code",
   "execution_count": 48,
   "metadata": {},
   "outputs": [
    {
     "data": {
      "image/svg+xml": [
       "<?xml version=\"1.0\" encoding=\"utf-8\"?>\n",
       "<svg xmlns=\"http://www.w3.org/2000/svg\" xmlns:xlink=\"http://www.w3.org/1999/xlink\" width=\"600\" height=\"400\" viewBox=\"0 0 2400 1600\">\n",
       "<defs>\n",
       "  <clipPath id=\"clip6900\">\n",
       "    <rect x=\"0\" y=\"0\" width=\"2400\" height=\"1600\"/>\n",
       "  </clipPath>\n",
       "</defs>\n",
       "<polygon clip-path=\"url(#clip6900)\" points=\"\n",
       "0,1600 2400,1600 2400,0 0,0 \n",
       "  \" fill=\"#ffffff\" fill-rule=\"evenodd\" fill-opacity=\"1\"/>\n",
       "<defs>\n",
       "  <clipPath id=\"clip6901\">\n",
       "    <rect x=\"480\" y=\"0\" width=\"1681\" height=\"1600\"/>\n",
       "  </clipPath>\n",
       "</defs>\n",
       "<polygon clip-path=\"url(#clip6900)\" points=\"\n",
       "149.361,1503.47 2321.26,1503.47 2321.26,47.2441 149.361,47.2441 \n",
       "  \" fill=\"#ffffff\" fill-rule=\"evenodd\" fill-opacity=\"1\"/>\n",
       "<defs>\n",
       "  <clipPath id=\"clip6902\">\n",
       "    <rect x=\"149\" y=\"47\" width=\"2173\" height=\"1457\"/>\n",
       "  </clipPath>\n",
       "</defs>\n",
       "<polyline clip-path=\"url(#clip6902)\" style=\"stroke:#000000; stroke-width:2; stroke-opacity:0.1; fill:none\" points=\"\n",
       "  200.711,1503.47 200.711,47.2441 \n",
       "  \"/>\n",
       "<polyline clip-path=\"url(#clip6902)\" style=\"stroke:#000000; stroke-width:2; stroke-opacity:0.1; fill:none\" points=\"\n",
       "  615.161,1503.47 615.161,47.2441 \n",
       "  \"/>\n",
       "<polyline clip-path=\"url(#clip6902)\" style=\"stroke:#000000; stroke-width:2; stroke-opacity:0.1; fill:none\" points=\"\n",
       "  1029.61,1503.47 1029.61,47.2441 \n",
       "  \"/>\n",
       "<polyline clip-path=\"url(#clip6902)\" style=\"stroke:#000000; stroke-width:2; stroke-opacity:0.1; fill:none\" points=\"\n",
       "  1444.06,1503.47 1444.06,47.2441 \n",
       "  \"/>\n",
       "<polyline clip-path=\"url(#clip6902)\" style=\"stroke:#000000; stroke-width:2; stroke-opacity:0.1; fill:none\" points=\"\n",
       "  1858.51,1503.47 1858.51,47.2441 \n",
       "  \"/>\n",
       "<polyline clip-path=\"url(#clip6902)\" style=\"stroke:#000000; stroke-width:2; stroke-opacity:0.1; fill:none\" points=\"\n",
       "  2272.96,1503.47 2272.96,47.2441 \n",
       "  \"/>\n",
       "<polyline clip-path=\"url(#clip6902)\" style=\"stroke:#000000; stroke-width:2; stroke-opacity:0.1; fill:none\" points=\"\n",
       "  149.361,1406.25 2321.26,1406.25 \n",
       "  \"/>\n",
       "<polyline clip-path=\"url(#clip6902)\" style=\"stroke:#000000; stroke-width:2; stroke-opacity:0.1; fill:none\" points=\"\n",
       "  149.361,1182.08 2321.26,1182.08 \n",
       "  \"/>\n",
       "<polyline clip-path=\"url(#clip6902)\" style=\"stroke:#000000; stroke-width:2; stroke-opacity:0.1; fill:none\" points=\"\n",
       "  149.361,957.91 2321.26,957.91 \n",
       "  \"/>\n",
       "<polyline clip-path=\"url(#clip6902)\" style=\"stroke:#000000; stroke-width:2; stroke-opacity:0.1; fill:none\" points=\"\n",
       "  149.361,733.739 2321.26,733.739 \n",
       "  \"/>\n",
       "<polyline clip-path=\"url(#clip6902)\" style=\"stroke:#000000; stroke-width:2; stroke-opacity:0.1; fill:none\" points=\"\n",
       "  149.361,509.568 2321.26,509.568 \n",
       "  \"/>\n",
       "<polyline clip-path=\"url(#clip6902)\" style=\"stroke:#000000; stroke-width:2; stroke-opacity:0.1; fill:none\" points=\"\n",
       "  149.361,285.398 2321.26,285.398 \n",
       "  \"/>\n",
       "<polyline clip-path=\"url(#clip6902)\" style=\"stroke:#000000; stroke-width:2; stroke-opacity:0.1; fill:none\" points=\"\n",
       "  149.361,61.2266 2321.26,61.2266 \n",
       "  \"/>\n",
       "<polyline clip-path=\"url(#clip6900)\" style=\"stroke:#000000; stroke-width:4; stroke-opacity:1; fill:none\" points=\"\n",
       "  149.361,1503.47 2321.26,1503.47 \n",
       "  \"/>\n",
       "<polyline clip-path=\"url(#clip6900)\" style=\"stroke:#000000; stroke-width:4; stroke-opacity:1; fill:none\" points=\"\n",
       "  149.361,1503.47 149.361,47.2441 \n",
       "  \"/>\n",
       "<polyline clip-path=\"url(#clip6900)\" style=\"stroke:#000000; stroke-width:4; stroke-opacity:1; fill:none\" points=\"\n",
       "  200.711,1503.47 200.711,1481.63 \n",
       "  \"/>\n",
       "<polyline clip-path=\"url(#clip6900)\" style=\"stroke:#000000; stroke-width:4; stroke-opacity:1; fill:none\" points=\"\n",
       "  615.161,1503.47 615.161,1481.63 \n",
       "  \"/>\n",
       "<polyline clip-path=\"url(#clip6900)\" style=\"stroke:#000000; stroke-width:4; stroke-opacity:1; fill:none\" points=\"\n",
       "  1029.61,1503.47 1029.61,1481.63 \n",
       "  \"/>\n",
       "<polyline clip-path=\"url(#clip6900)\" style=\"stroke:#000000; stroke-width:4; stroke-opacity:1; fill:none\" points=\"\n",
       "  1444.06,1503.47 1444.06,1481.63 \n",
       "  \"/>\n",
       "<polyline clip-path=\"url(#clip6900)\" style=\"stroke:#000000; stroke-width:4; stroke-opacity:1; fill:none\" points=\"\n",
       "  1858.51,1503.47 1858.51,1481.63 \n",
       "  \"/>\n",
       "<polyline clip-path=\"url(#clip6900)\" style=\"stroke:#000000; stroke-width:4; stroke-opacity:1; fill:none\" points=\"\n",
       "  2272.96,1503.47 2272.96,1481.63 \n",
       "  \"/>\n",
       "<polyline clip-path=\"url(#clip6900)\" style=\"stroke:#000000; stroke-width:4; stroke-opacity:1; fill:none\" points=\"\n",
       "  149.361,1406.25 181.939,1406.25 \n",
       "  \"/>\n",
       "<polyline clip-path=\"url(#clip6900)\" style=\"stroke:#000000; stroke-width:4; stroke-opacity:1; fill:none\" points=\"\n",
       "  149.361,1182.08 181.939,1182.08 \n",
       "  \"/>\n",
       "<polyline clip-path=\"url(#clip6900)\" style=\"stroke:#000000; stroke-width:4; stroke-opacity:1; fill:none\" points=\"\n",
       "  149.361,957.91 181.939,957.91 \n",
       "  \"/>\n",
       "<polyline clip-path=\"url(#clip6900)\" style=\"stroke:#000000; stroke-width:4; stroke-opacity:1; fill:none\" points=\"\n",
       "  149.361,733.739 181.939,733.739 \n",
       "  \"/>\n",
       "<polyline clip-path=\"url(#clip6900)\" style=\"stroke:#000000; stroke-width:4; stroke-opacity:1; fill:none\" points=\"\n",
       "  149.361,509.568 181.939,509.568 \n",
       "  \"/>\n",
       "<polyline clip-path=\"url(#clip6900)\" style=\"stroke:#000000; stroke-width:4; stroke-opacity:1; fill:none\" points=\"\n",
       "  149.361,285.398 181.939,285.398 \n",
       "  \"/>\n",
       "<polyline clip-path=\"url(#clip6900)\" style=\"stroke:#000000; stroke-width:4; stroke-opacity:1; fill:none\" points=\"\n",
       "  149.361,61.2266 181.939,61.2266 \n",
       "  \"/>\n",
       "<g clip-path=\"url(#clip6900)\">\n",
       "<text style=\"fill:#000000; fill-opacity:1; font-family:Arial,Helvetica Neue,Helvetica,sans-serif; font-size:48px; text-anchor:middle;\" transform=\"rotate(0, 200.711, 1557.47)\" x=\"200.711\" y=\"1557.47\">-1</text>\n",
       "</g>\n",
       "<g clip-path=\"url(#clip6900)\">\n",
       "<text style=\"fill:#000000; fill-opacity:1; font-family:Arial,Helvetica Neue,Helvetica,sans-serif; font-size:48px; text-anchor:middle;\" transform=\"rotate(0, 615.161, 1557.47)\" x=\"615.161\" y=\"1557.47\">0</text>\n",
       "</g>\n",
       "<g clip-path=\"url(#clip6900)\">\n",
       "<text style=\"fill:#000000; fill-opacity:1; font-family:Arial,Helvetica Neue,Helvetica,sans-serif; font-size:48px; text-anchor:middle;\" transform=\"rotate(0, 1029.61, 1557.47)\" x=\"1029.61\" y=\"1557.47\">1</text>\n",
       "</g>\n",
       "<g clip-path=\"url(#clip6900)\">\n",
       "<text style=\"fill:#000000; fill-opacity:1; font-family:Arial,Helvetica Neue,Helvetica,sans-serif; font-size:48px; text-anchor:middle;\" transform=\"rotate(0, 1444.06, 1557.47)\" x=\"1444.06\" y=\"1557.47\">2</text>\n",
       "</g>\n",
       "<g clip-path=\"url(#clip6900)\">\n",
       "<text style=\"fill:#000000; fill-opacity:1; font-family:Arial,Helvetica Neue,Helvetica,sans-serif; font-size:48px; text-anchor:middle;\" transform=\"rotate(0, 1858.51, 1557.47)\" x=\"1858.51\" y=\"1557.47\">3</text>\n",
       "</g>\n",
       "<g clip-path=\"url(#clip6900)\">\n",
       "<text style=\"fill:#000000; fill-opacity:1; font-family:Arial,Helvetica Neue,Helvetica,sans-serif; font-size:48px; text-anchor:middle;\" transform=\"rotate(0, 2272.96, 1557.47)\" x=\"2272.96\" y=\"1557.47\">4</text>\n",
       "</g>\n",
       "<g clip-path=\"url(#clip6900)\">\n",
       "<text style=\"fill:#000000; fill-opacity:1; font-family:Arial,Helvetica Neue,Helvetica,sans-serif; font-size:48px; text-anchor:end;\" transform=\"rotate(0, 125.361, 1423.75)\" x=\"125.361\" y=\"1423.75\">-2</text>\n",
       "</g>\n",
       "<g clip-path=\"url(#clip6900)\">\n",
       "<text style=\"fill:#000000; fill-opacity:1; font-family:Arial,Helvetica Neue,Helvetica,sans-serif; font-size:48px; text-anchor:end;\" transform=\"rotate(0, 125.361, 1199.58)\" x=\"125.361\" y=\"1199.58\">-1</text>\n",
       "</g>\n",
       "<g clip-path=\"url(#clip6900)\">\n",
       "<text style=\"fill:#000000; fill-opacity:1; font-family:Arial,Helvetica Neue,Helvetica,sans-serif; font-size:48px; text-anchor:end;\" transform=\"rotate(0, 125.361, 975.41)\" x=\"125.361\" y=\"975.41\">0</text>\n",
       "</g>\n",
       "<g clip-path=\"url(#clip6900)\">\n",
       "<text style=\"fill:#000000; fill-opacity:1; font-family:Arial,Helvetica Neue,Helvetica,sans-serif; font-size:48px; text-anchor:end;\" transform=\"rotate(0, 125.361, 751.239)\" x=\"125.361\" y=\"751.239\">1</text>\n",
       "</g>\n",
       "<g clip-path=\"url(#clip6900)\">\n",
       "<text style=\"fill:#000000; fill-opacity:1; font-family:Arial,Helvetica Neue,Helvetica,sans-serif; font-size:48px; text-anchor:end;\" transform=\"rotate(0, 125.361, 527.068)\" x=\"125.361\" y=\"527.068\">2</text>\n",
       "</g>\n",
       "<g clip-path=\"url(#clip6900)\">\n",
       "<text style=\"fill:#000000; fill-opacity:1; font-family:Arial,Helvetica Neue,Helvetica,sans-serif; font-size:48px; text-anchor:end;\" transform=\"rotate(0, 125.361, 302.898)\" x=\"125.361\" y=\"302.898\">3</text>\n",
       "</g>\n",
       "<g clip-path=\"url(#clip6900)\">\n",
       "<text style=\"fill:#000000; fill-opacity:1; font-family:Arial,Helvetica Neue,Helvetica,sans-serif; font-size:48px; text-anchor:end;\" transform=\"rotate(0, 125.361, 78.7266)\" x=\"125.361\" y=\"78.7266\">4</text>\n",
       "</g>\n",
       "<polyline clip-path=\"url(#clip6902)\" style=\"stroke:#009af9; stroke-width:4; stroke-opacity:1; fill:none\" points=\"\n",
       "  210.829,88.4582 220.948,115.422 314.509,352.087 408.07,565.902 464.297,683.405 520.523,792.656 568.061,878.589 615.6,958.623 667.24,1038.88 718.881,1112.17 \n",
       "  766.488,1173.58 814.096,1229.07 865.137,1281.99 916.177,1328.11 975.313,1373.04 1034.45,1408.84 1087,1433 1139.55,1449.94 1185.64,1458.87 1231.72,1462.26 \n",
       "  1281.97,1459.64 1332.21,1450.42 1382.75,1434.51 1433.29,1411.92 1489.18,1379.19 1545.06,1338.31 1598.23,1291.85 1651.4,1238 1706.68,1174.19 1761.96,1102.41 \n",
       "  1808.5,1035.79 1855.04,963.528 1911.85,867.635 1968.67,763.316 2022.08,657.57 2075.49,544.379 2161.06,347.518 2246.62,131.547 2259.79,96.6131 \n",
       "  \"/>\n",
       "<polygon clip-path=\"url(#clip6900)\" points=\"\n",
       "1958.43,251.724 2249.26,251.724 2249.26,130.764 1958.43,130.764 \n",
       "  \" fill=\"#ffffff\" fill-rule=\"evenodd\" fill-opacity=\"1\"/>\n",
       "<polyline clip-path=\"url(#clip6900)\" style=\"stroke:#000000; stroke-width:4; stroke-opacity:1; fill:none\" points=\"\n",
       "  1958.43,251.724 2249.26,251.724 2249.26,130.764 1958.43,130.764 1958.43,251.724 \n",
       "  \"/>\n",
       "<polyline clip-path=\"url(#clip6900)\" style=\"stroke:#009af9; stroke-width:4; stroke-opacity:1; fill:none\" points=\"\n",
       "  1982.43,191.244 2126.43,191.244 \n",
       "  \"/>\n",
       "<g clip-path=\"url(#clip6900)\">\n",
       "<text style=\"fill:#000000; fill-opacity:1; font-family:Arial,Helvetica Neue,Helvetica,sans-serif; font-size:48px; text-anchor:start;\" transform=\"rotate(0, 2150.43, 208.744)\" x=\"2150.43\" y=\"208.744\">y1</text>\n",
       "</g>\n",
       "</svg>\n"
      ]
     },
     "execution_count": 48,
     "metadata": {},
     "output_type": "execute_result"
    }
   ],
   "source": [
    "plot(x -> (x-3)*x, -1, 4)"
   ]
  },
  {
   "cell_type": "code",
   "execution_count": 51,
   "metadata": {},
   "outputs": [
    {
     "data": {
      "text/plain": [
       "f6 (generic function with 1 method)"
      ]
     },
     "execution_count": 51,
     "metadata": {},
     "output_type": "execute_result"
    }
   ],
   "source": [
    "f1(x) = sin(x) - x/2\n",
    "f2(x) = 2*x - exp(-x)\n",
    "f3(x) = x * exp(-x)\n",
    "f4(x) = exp(x) - 1/(10*x)^2\n",
    "f5(x) = (x+3)*(x-1)^2\n",
    "f6(x) = exp(x)-2-1/1(10*x)^2+2/(100*x)^3"
   ]
  },
  {
   "cell_type": "code",
   "execution_count": 223,
   "metadata": {},
   "outputs": [
    {
     "data": {
      "image/svg+xml": [
       "<?xml version=\"1.0\" encoding=\"utf-8\"?>\n",
       "<svg xmlns=\"http://www.w3.org/2000/svg\" xmlns:xlink=\"http://www.w3.org/1999/xlink\" width=\"600\" height=\"400\" viewBox=\"0 0 2400 1600\">\n",
       "<defs>\n",
       "  <clipPath id=\"clip6100\">\n",
       "    <rect x=\"0\" y=\"0\" width=\"2400\" height=\"1600\"/>\n",
       "  </clipPath>\n",
       "</defs>\n",
       "<polygon clip-path=\"url(#clip6100)\" points=\"\n",
       "0,1600 2400,1600 2400,0 0,0 \n",
       "  \" fill=\"#ffffff\" fill-rule=\"evenodd\" fill-opacity=\"1\"/>\n",
       "<defs>\n",
       "  <clipPath id=\"clip6101\">\n",
       "    <rect x=\"480\" y=\"0\" width=\"1681\" height=\"1600\"/>\n",
       "  </clipPath>\n",
       "</defs>\n",
       "<polygon clip-path=\"url(#clip6100)\" points=\"\n",
       "189.504,1503.47 2321.26,1503.47 2321.26,47.2441 189.504,47.2441 \n",
       "  \" fill=\"#ffffff\" fill-rule=\"evenodd\" fill-opacity=\"1\"/>\n",
       "<defs>\n",
       "  <clipPath id=\"clip6102\">\n",
       "    <rect x=\"189\" y=\"47\" width=\"2133\" height=\"1457\"/>\n",
       "  </clipPath>\n",
       "</defs>\n",
       "<polyline clip-path=\"url(#clip6102)\" style=\"stroke:#000000; stroke-width:2; stroke-opacity:0.1; fill:none\" points=\"\n",
       "  471.743,1503.47 471.743,47.2441 \n",
       "  \"/>\n",
       "<polyline clip-path=\"url(#clip6102)\" style=\"stroke:#000000; stroke-width:2; stroke-opacity:0.1; fill:none\" points=\"\n",
       "  925.527,1503.47 925.527,47.2441 \n",
       "  \"/>\n",
       "<polyline clip-path=\"url(#clip6102)\" style=\"stroke:#000000; stroke-width:2; stroke-opacity:0.1; fill:none\" points=\"\n",
       "  1379.31,1503.47 1379.31,47.2441 \n",
       "  \"/>\n",
       "<polyline clip-path=\"url(#clip6102)\" style=\"stroke:#000000; stroke-width:2; stroke-opacity:0.1; fill:none\" points=\"\n",
       "  1833.1,1503.47 1833.1,47.2441 \n",
       "  \"/>\n",
       "<polyline clip-path=\"url(#clip6102)\" style=\"stroke:#000000; stroke-width:2; stroke-opacity:0.1; fill:none\" points=\"\n",
       "  2286.88,1503.47 2286.88,47.2441 \n",
       "  \"/>\n",
       "<polyline clip-path=\"url(#clip6102)\" style=\"stroke:#000000; stroke-width:2; stroke-opacity:0.1; fill:none\" points=\"\n",
       "  189.504,1272.94 2321.26,1272.94 \n",
       "  \"/>\n",
       "<polyline clip-path=\"url(#clip6102)\" style=\"stroke:#000000; stroke-width:2; stroke-opacity:0.1; fill:none\" points=\"\n",
       "  189.504,1000.91 2321.26,1000.91 \n",
       "  \"/>\n",
       "<polyline clip-path=\"url(#clip6102)\" style=\"stroke:#000000; stroke-width:2; stroke-opacity:0.1; fill:none\" points=\"\n",
       "  189.504,728.884 2321.26,728.884 \n",
       "  \"/>\n",
       "<polyline clip-path=\"url(#clip6102)\" style=\"stroke:#000000; stroke-width:2; stroke-opacity:0.1; fill:none\" points=\"\n",
       "  189.504,456.857 2321.26,456.857 \n",
       "  \"/>\n",
       "<polyline clip-path=\"url(#clip6102)\" style=\"stroke:#000000; stroke-width:2; stroke-opacity:0.1; fill:none\" points=\"\n",
       "  189.504,184.83 2321.26,184.83 \n",
       "  \"/>\n",
       "<polyline clip-path=\"url(#clip6100)\" style=\"stroke:#000000; stroke-width:4; stroke-opacity:1; fill:none\" points=\"\n",
       "  189.504,1503.47 2321.26,1503.47 \n",
       "  \"/>\n",
       "<polyline clip-path=\"url(#clip6100)\" style=\"stroke:#000000; stroke-width:4; stroke-opacity:1; fill:none\" points=\"\n",
       "  189.504,1503.47 189.504,47.2441 \n",
       "  \"/>\n",
       "<polyline clip-path=\"url(#clip6100)\" style=\"stroke:#000000; stroke-width:4; stroke-opacity:1; fill:none\" points=\"\n",
       "  471.743,1503.47 471.743,1481.63 \n",
       "  \"/>\n",
       "<polyline clip-path=\"url(#clip6100)\" style=\"stroke:#000000; stroke-width:4; stroke-opacity:1; fill:none\" points=\"\n",
       "  925.527,1503.47 925.527,1481.63 \n",
       "  \"/>\n",
       "<polyline clip-path=\"url(#clip6100)\" style=\"stroke:#000000; stroke-width:4; stroke-opacity:1; fill:none\" points=\"\n",
       "  1379.31,1503.47 1379.31,1481.63 \n",
       "  \"/>\n",
       "<polyline clip-path=\"url(#clip6100)\" style=\"stroke:#000000; stroke-width:4; stroke-opacity:1; fill:none\" points=\"\n",
       "  1833.1,1503.47 1833.1,1481.63 \n",
       "  \"/>\n",
       "<polyline clip-path=\"url(#clip6100)\" style=\"stroke:#000000; stroke-width:4; stroke-opacity:1; fill:none\" points=\"\n",
       "  2286.88,1503.47 2286.88,1481.63 \n",
       "  \"/>\n",
       "<polyline clip-path=\"url(#clip6100)\" style=\"stroke:#000000; stroke-width:4; stroke-opacity:1; fill:none\" points=\"\n",
       "  189.504,1272.94 221.48,1272.94 \n",
       "  \"/>\n",
       "<polyline clip-path=\"url(#clip6100)\" style=\"stroke:#000000; stroke-width:4; stroke-opacity:1; fill:none\" points=\"\n",
       "  189.504,1000.91 221.48,1000.91 \n",
       "  \"/>\n",
       "<polyline clip-path=\"url(#clip6100)\" style=\"stroke:#000000; stroke-width:4; stroke-opacity:1; fill:none\" points=\"\n",
       "  189.504,728.884 221.48,728.884 \n",
       "  \"/>\n",
       "<polyline clip-path=\"url(#clip6100)\" style=\"stroke:#000000; stroke-width:4; stroke-opacity:1; fill:none\" points=\"\n",
       "  189.504,456.857 221.48,456.857 \n",
       "  \"/>\n",
       "<polyline clip-path=\"url(#clip6100)\" style=\"stroke:#000000; stroke-width:4; stroke-opacity:1; fill:none\" points=\"\n",
       "  189.504,184.83 221.48,184.83 \n",
       "  \"/>\n",
       "<g clip-path=\"url(#clip6100)\">\n",
       "<text style=\"fill:#000000; fill-opacity:1; font-family:Arial,Helvetica Neue,Helvetica,sans-serif; font-size:48px; text-anchor:middle;\" transform=\"rotate(0, 471.743, 1557.47)\" x=\"471.743\" y=\"1557.47\">0.2</text>\n",
       "</g>\n",
       "<g clip-path=\"url(#clip6100)\">\n",
       "<text style=\"fill:#000000; fill-opacity:1; font-family:Arial,Helvetica Neue,Helvetica,sans-serif; font-size:48px; text-anchor:middle;\" transform=\"rotate(0, 925.527, 1557.47)\" x=\"925.527\" y=\"1557.47\">0.4</text>\n",
       "</g>\n",
       "<g clip-path=\"url(#clip6100)\">\n",
       "<text style=\"fill:#000000; fill-opacity:1; font-family:Arial,Helvetica Neue,Helvetica,sans-serif; font-size:48px; text-anchor:middle;\" transform=\"rotate(0, 1379.31, 1557.47)\" x=\"1379.31\" y=\"1557.47\">0.6</text>\n",
       "</g>\n",
       "<g clip-path=\"url(#clip6100)\">\n",
       "<text style=\"fill:#000000; fill-opacity:1; font-family:Arial,Helvetica Neue,Helvetica,sans-serif; font-size:48px; text-anchor:middle;\" transform=\"rotate(0, 1833.1, 1557.47)\" x=\"1833.1\" y=\"1557.47\">0.8</text>\n",
       "</g>\n",
       "<g clip-path=\"url(#clip6100)\">\n",
       "<text style=\"fill:#000000; fill-opacity:1; font-family:Arial,Helvetica Neue,Helvetica,sans-serif; font-size:48px; text-anchor:middle;\" transform=\"rotate(0, 2286.88, 1557.47)\" x=\"2286.88\" y=\"1557.47\">1.0</text>\n",
       "</g>\n",
       "<g clip-path=\"url(#clip6100)\">\n",
       "<text style=\"fill:#000000; fill-opacity:1; font-family:Arial,Helvetica Neue,Helvetica,sans-serif; font-size:48px; text-anchor:end;\" transform=\"rotate(0, 165.504, 1290.44)\" x=\"165.504\" y=\"1290.44\">-1.5</text>\n",
       "</g>\n",
       "<g clip-path=\"url(#clip6100)\">\n",
       "<text style=\"fill:#000000; fill-opacity:1; font-family:Arial,Helvetica Neue,Helvetica,sans-serif; font-size:48px; text-anchor:end;\" transform=\"rotate(0, 165.504, 1018.41)\" x=\"165.504\" y=\"1018.41\">-1.0</text>\n",
       "</g>\n",
       "<g clip-path=\"url(#clip6100)\">\n",
       "<text style=\"fill:#000000; fill-opacity:1; font-family:Arial,Helvetica Neue,Helvetica,sans-serif; font-size:48px; text-anchor:end;\" transform=\"rotate(0, 165.504, 746.384)\" x=\"165.504\" y=\"746.384\">-0.5</text>\n",
       "</g>\n",
       "<g clip-path=\"url(#clip6100)\">\n",
       "<text style=\"fill:#000000; fill-opacity:1; font-family:Arial,Helvetica Neue,Helvetica,sans-serif; font-size:48px; text-anchor:end;\" transform=\"rotate(0, 165.504, 474.357)\" x=\"165.504\" y=\"474.357\">0.0</text>\n",
       "</g>\n",
       "<g clip-path=\"url(#clip6100)\">\n",
       "<text style=\"fill:#000000; fill-opacity:1; font-family:Arial,Helvetica Neue,Helvetica,sans-serif; font-size:48px; text-anchor:end;\" transform=\"rotate(0, 165.504, 202.33)\" x=\"165.504\" y=\"202.33\">0.5</text>\n",
       "</g>\n",
       "<polyline clip-path=\"url(#clip6102)\" style=\"stroke:#009af9; stroke-width:4; stroke-opacity:1; fill:none\" points=\"\n",
       "  249.837,1462.26 254.822,1439.3 259.808,1417.66 264.793,1397.23 287.843,1316.07 310.892,1251.82 333.941,1199.73 356.99,1156.57 380.039,1120.14 403.088,1088.87 \n",
       "  426.138,1061.6 449.187,1037.49 504.593,988.925 559.999,949.346 606.845,920.388 653.69,894.224 755.464,843.404 849.291,800.653 949.884,756.805 1066.43,706.797 \n",
       "  1170,662.088 1260.83,622.198 1359.85,577.65 1459.46,531.464 1569.59,478.541 1674.38,426.16 1783.34,369.4 1875.05,319.67 1987.03,256.374 2092.29,194.128 \n",
       "  2260.93,88.4582 \n",
       "  \"/>\n",
       "<polygon clip-path=\"url(#clip6100)\" points=\"\n",
       "1969.12,251.724 2249.26,251.724 2249.26,130.764 1969.12,130.764 \n",
       "  \" fill=\"#ffffff\" fill-rule=\"evenodd\" fill-opacity=\"1\"/>\n",
       "<polyline clip-path=\"url(#clip6100)\" style=\"stroke:#000000; stroke-width:4; stroke-opacity:1; fill:none\" points=\"\n",
       "  1969.12,251.724 2249.26,251.724 2249.26,130.764 1969.12,130.764 1969.12,251.724 \n",
       "  \"/>\n",
       "<polyline clip-path=\"url(#clip6100)\" style=\"stroke:#009af9; stroke-width:4; stroke-opacity:1; fill:none\" points=\"\n",
       "  1993.12,191.244 2137.12,191.244 \n",
       "  \"/>\n",
       "<g clip-path=\"url(#clip6100)\">\n",
       "<text style=\"fill:#000000; fill-opacity:1; font-family:Arial,Helvetica Neue,Helvetica,sans-serif; font-size:48px; text-anchor:start;\" transform=\"rotate(0, 2161.12, 208.744)\" x=\"2161.12\" y=\"208.744\">f6</text>\n",
       "</g>\n",
       "</svg>\n"
      ]
     },
     "execution_count": 223,
     "metadata": {},
     "output_type": "execute_result"
    }
   ],
   "source": [
    "#plot(f1, -5, 5, label=\"f1\")\n",
    "#plot!(f2, -5, 5, label=\"f2\")\n",
    "#plot(f3, -5, 5, label=\"f3\")\n",
    "#plot(f4, -1, -0.1, label=\"f4\")\n",
    "#plot(f5, -5, 5, label=\"f5\")\n",
    "plot(f6, 0.1, 1, label=\"f6\")"
   ]
  },
  {
   "cell_type": "code",
   "execution_count": 58,
   "metadata": {},
   "outputs": [
    {
     "data": {
      "image/svg+xml": [
       "<?xml version=\"1.0\" encoding=\"utf-8\"?>\n",
       "<svg xmlns=\"http://www.w3.org/2000/svg\" xmlns:xlink=\"http://www.w3.org/1999/xlink\" width=\"600\" height=\"400\" viewBox=\"0 0 2400 1600\">\n",
       "<defs>\n",
       "  <clipPath id=\"clip9700\">\n",
       "    <rect x=\"0\" y=\"0\" width=\"2400\" height=\"1600\"/>\n",
       "  </clipPath>\n",
       "</defs>\n",
       "<polygon clip-path=\"url(#clip9700)\" points=\"\n",
       "0,1600 2400,1600 2400,0 0,0 \n",
       "  \" fill=\"#ffffff\" fill-rule=\"evenodd\" fill-opacity=\"1\"/>\n",
       "<defs>\n",
       "  <clipPath id=\"clip9701\">\n",
       "    <rect x=\"480\" y=\"0\" width=\"1681\" height=\"1600\"/>\n",
       "  </clipPath>\n",
       "</defs>\n",
       "<polygon clip-path=\"url(#clip9700)\" points=\"\n",
       "295.446,1503.47 2321.26,1503.47 2321.26,47.2441 295.446,47.2441 \n",
       "  \" fill=\"#ffffff\" fill-rule=\"evenodd\" fill-opacity=\"1\"/>\n",
       "<defs>\n",
       "  <clipPath id=\"clip9702\">\n",
       "    <rect x=\"295\" y=\"47\" width=\"2027\" height=\"1457\"/>\n",
       "  </clipPath>\n",
       "</defs>\n",
       "<polyline clip-path=\"url(#clip9702)\" style=\"stroke:#000000; stroke-width:2; stroke-opacity:0.1; fill:none\" points=\"\n",
       "  549.006,1503.47 549.006,47.2441 \n",
       "  \"/>\n",
       "<polyline clip-path=\"url(#clip9702)\" style=\"stroke:#000000; stroke-width:2; stroke-opacity:0.1; fill:none\" points=\"\n",
       "  979.274,1503.47 979.274,47.2441 \n",
       "  \"/>\n",
       "<polyline clip-path=\"url(#clip9702)\" style=\"stroke:#000000; stroke-width:2; stroke-opacity:0.1; fill:none\" points=\"\n",
       "  1409.54,1503.47 1409.54,47.2441 \n",
       "  \"/>\n",
       "<polyline clip-path=\"url(#clip9702)\" style=\"stroke:#000000; stroke-width:2; stroke-opacity:0.1; fill:none\" points=\"\n",
       "  1839.81,1503.47 1839.81,47.2441 \n",
       "  \"/>\n",
       "<polyline clip-path=\"url(#clip9702)\" style=\"stroke:#000000; stroke-width:2; stroke-opacity:0.1; fill:none\" points=\"\n",
       "  2270.08,1503.47 2270.08,47.2441 \n",
       "  \"/>\n",
       "<polyline clip-path=\"url(#clip9702)\" style=\"stroke:#000000; stroke-width:2; stroke-opacity:0.1; fill:none\" points=\"\n",
       "  295.446,1462.32 2321.26,1462.32 \n",
       "  \"/>\n",
       "<polyline clip-path=\"url(#clip9702)\" style=\"stroke:#000000; stroke-width:2; stroke-opacity:0.1; fill:none\" points=\"\n",
       "  295.446,1141.41 2321.26,1141.41 \n",
       "  \"/>\n",
       "<polyline clip-path=\"url(#clip9702)\" style=\"stroke:#000000; stroke-width:2; stroke-opacity:0.1; fill:none\" points=\"\n",
       "  295.446,820.495 2321.26,820.495 \n",
       "  \"/>\n",
       "<polyline clip-path=\"url(#clip9702)\" style=\"stroke:#000000; stroke-width:2; stroke-opacity:0.1; fill:none\" points=\"\n",
       "  295.446,499.582 2321.26,499.582 \n",
       "  \"/>\n",
       "<polyline clip-path=\"url(#clip9702)\" style=\"stroke:#000000; stroke-width:2; stroke-opacity:0.1; fill:none\" points=\"\n",
       "  295.446,178.669 2321.26,178.669 \n",
       "  \"/>\n",
       "<polyline clip-path=\"url(#clip9700)\" style=\"stroke:#000000; stroke-width:4; stroke-opacity:1; fill:none\" points=\"\n",
       "  295.446,1503.47 2321.26,1503.47 \n",
       "  \"/>\n",
       "<polyline clip-path=\"url(#clip9700)\" style=\"stroke:#000000; stroke-width:4; stroke-opacity:1; fill:none\" points=\"\n",
       "  295.446,1503.47 295.446,47.2441 \n",
       "  \"/>\n",
       "<polyline clip-path=\"url(#clip9700)\" style=\"stroke:#000000; stroke-width:4; stroke-opacity:1; fill:none\" points=\"\n",
       "  549.006,1503.47 549.006,1481.63 \n",
       "  \"/>\n",
       "<polyline clip-path=\"url(#clip9700)\" style=\"stroke:#000000; stroke-width:4; stroke-opacity:1; fill:none\" points=\"\n",
       "  979.274,1503.47 979.274,1481.63 \n",
       "  \"/>\n",
       "<polyline clip-path=\"url(#clip9700)\" style=\"stroke:#000000; stroke-width:4; stroke-opacity:1; fill:none\" points=\"\n",
       "  1409.54,1503.47 1409.54,1481.63 \n",
       "  \"/>\n",
       "<polyline clip-path=\"url(#clip9700)\" style=\"stroke:#000000; stroke-width:4; stroke-opacity:1; fill:none\" points=\"\n",
       "  1839.81,1503.47 1839.81,1481.63 \n",
       "  \"/>\n",
       "<polyline clip-path=\"url(#clip9700)\" style=\"stroke:#000000; stroke-width:4; stroke-opacity:1; fill:none\" points=\"\n",
       "  2270.08,1503.47 2270.08,1481.63 \n",
       "  \"/>\n",
       "<polyline clip-path=\"url(#clip9700)\" style=\"stroke:#000000; stroke-width:4; stroke-opacity:1; fill:none\" points=\"\n",
       "  295.446,1462.32 325.834,1462.32 \n",
       "  \"/>\n",
       "<polyline clip-path=\"url(#clip9700)\" style=\"stroke:#000000; stroke-width:4; stroke-opacity:1; fill:none\" points=\"\n",
       "  295.446,1141.41 325.834,1141.41 \n",
       "  \"/>\n",
       "<polyline clip-path=\"url(#clip9700)\" style=\"stroke:#000000; stroke-width:4; stroke-opacity:1; fill:none\" points=\"\n",
       "  295.446,820.495 325.834,820.495 \n",
       "  \"/>\n",
       "<polyline clip-path=\"url(#clip9700)\" style=\"stroke:#000000; stroke-width:4; stroke-opacity:1; fill:none\" points=\"\n",
       "  295.446,499.582 325.834,499.582 \n",
       "  \"/>\n",
       "<polyline clip-path=\"url(#clip9700)\" style=\"stroke:#000000; stroke-width:4; stroke-opacity:1; fill:none\" points=\"\n",
       "  295.446,178.669 325.834,178.669 \n",
       "  \"/>\n",
       "<g clip-path=\"url(#clip9700)\">\n",
       "<text style=\"fill:#000000; fill-opacity:1; font-family:Arial,Helvetica Neue,Helvetica,sans-serif; font-size:48px; text-anchor:middle;\" transform=\"rotate(0, 549.006, 1557.47)\" x=\"549.006\" y=\"1557.47\">2</text>\n",
       "</g>\n",
       "<g clip-path=\"url(#clip9700)\">\n",
       "<text style=\"fill:#000000; fill-opacity:1; font-family:Arial,Helvetica Neue,Helvetica,sans-serif; font-size:48px; text-anchor:middle;\" transform=\"rotate(0, 979.274, 1557.47)\" x=\"979.274\" y=\"1557.47\">4</text>\n",
       "</g>\n",
       "<g clip-path=\"url(#clip9700)\">\n",
       "<text style=\"fill:#000000; fill-opacity:1; font-family:Arial,Helvetica Neue,Helvetica,sans-serif; font-size:48px; text-anchor:middle;\" transform=\"rotate(0, 1409.54, 1557.47)\" x=\"1409.54\" y=\"1557.47\">6</text>\n",
       "</g>\n",
       "<g clip-path=\"url(#clip9700)\">\n",
       "<text style=\"fill:#000000; fill-opacity:1; font-family:Arial,Helvetica Neue,Helvetica,sans-serif; font-size:48px; text-anchor:middle;\" transform=\"rotate(0, 1839.81, 1557.47)\" x=\"1839.81\" y=\"1557.47\">8</text>\n",
       "</g>\n",
       "<g clip-path=\"url(#clip9700)\">\n",
       "<text style=\"fill:#000000; fill-opacity:1; font-family:Arial,Helvetica Neue,Helvetica,sans-serif; font-size:48px; text-anchor:middle;\" transform=\"rotate(0, 2270.08, 1557.47)\" x=\"2270.08\" y=\"1557.47\">10</text>\n",
       "</g>\n",
       "<g clip-path=\"url(#clip9700)\">\n",
       "<text style=\"fill:#000000; fill-opacity:1; font-family:Arial,Helvetica Neue,Helvetica,sans-serif; font-size:48px; text-anchor:end;\" transform=\"rotate(0, 271.446, 1479.82)\" x=\"271.446\" y=\"1479.82\">0</text>\n",
       "</g>\n",
       "<g clip-path=\"url(#clip9700)\">\n",
       "<text style=\"fill:#000000; fill-opacity:1; font-family:Arial,Helvetica Neue,Helvetica,sans-serif; font-size:48px; text-anchor:start;\" transform=\"rotate(0, 101.161, 1165.14)\" x=\"101.161\" y=\"1165.14\">5.0×10</text>\n",
       "</g>\n",
       "<g clip-path=\"url(#clip9700)\">\n",
       "<text style=\"fill:#000000; fill-opacity:1; font-family:Arial,Helvetica Neue,Helvetica,sans-serif; font-size:38px; text-anchor:start;\" transform=\"rotate(0, 249.702, 1137.73)\" x=\"249.702\" y=\"1137.73\">3</text>\n",
       "</g>\n",
       "<g clip-path=\"url(#clip9700)\">\n",
       "<text style=\"fill:#000000; fill-opacity:1; font-family:Arial,Helvetica Neue,Helvetica,sans-serif; font-size:48px; text-anchor:start;\" transform=\"rotate(0, 101.161, 844.223)\" x=\"101.161\" y=\"844.223\">1.0×10</text>\n",
       "</g>\n",
       "<g clip-path=\"url(#clip9700)\">\n",
       "<text style=\"fill:#000000; fill-opacity:1; font-family:Arial,Helvetica Neue,Helvetica,sans-serif; font-size:38px; text-anchor:start;\" transform=\"rotate(0, 249.702, 816.813)\" x=\"249.702\" y=\"816.813\">4</text>\n",
       "</g>\n",
       "<g clip-path=\"url(#clip9700)\">\n",
       "<text style=\"fill:#000000; fill-opacity:1; font-family:Arial,Helvetica Neue,Helvetica,sans-serif; font-size:48px; text-anchor:start;\" transform=\"rotate(0, 101.161, 523.31)\" x=\"101.161\" y=\"523.31\">1.5×10</text>\n",
       "</g>\n",
       "<g clip-path=\"url(#clip9700)\">\n",
       "<text style=\"fill:#000000; fill-opacity:1; font-family:Arial,Helvetica Neue,Helvetica,sans-serif; font-size:38px; text-anchor:start;\" transform=\"rotate(0, 249.702, 495.899)\" x=\"249.702\" y=\"495.899\">4</text>\n",
       "</g>\n",
       "<g clip-path=\"url(#clip9700)\">\n",
       "<text style=\"fill:#000000; fill-opacity:1; font-family:Arial,Helvetica Neue,Helvetica,sans-serif; font-size:48px; text-anchor:start;\" transform=\"rotate(0, 101.161, 202.396)\" x=\"101.161\" y=\"202.396\">2.0×10</text>\n",
       "</g>\n",
       "<g clip-path=\"url(#clip9700)\">\n",
       "<text style=\"fill:#000000; fill-opacity:1; font-family:Arial,Helvetica Neue,Helvetica,sans-serif; font-size:38px; text-anchor:start;\" transform=\"rotate(0, 249.702, 174.986)\" x=\"249.702\" y=\"174.986\">4</text>\n",
       "</g>\n",
       "<polyline clip-path=\"url(#clip9702)\" style=\"stroke:#009af9; stroke-width:4; stroke-opacity:1; fill:none\" points=\"\n",
       "  352.781,1462.26 527.618,1462.02 632.688,1461.75 721.524,1461.39 818.024,1460.79 906.989,1459.95 1002.37,1458.55 1112.87,1455.93 1211.08,1452.16 1297.2,1447.09 \n",
       "  1391.09,1438.69 1485.54,1425.59 1589.96,1402.55 1689.32,1367.4 1740.97,1341.6 1792.63,1308.8 1836.11,1274.39 1879.59,1232.26 1906.14,1202.03 1932.68,1167.84 \n",
       "  1959.22,1129.15 1985.77,1085.38 2010.72,1039.01 2035.67,986.941 2060.62,928.465 2085.57,862.798 2105.56,804.417 2125.55,740.352 2145.53,670.05 2165.52,592.903 \n",
       "  2185.51,508.245 2205.5,415.346 2225.48,313.401 2245.47,201.532 2251.62,164.955 2257.77,127.317 2263.93,88.5865 \n",
       "  \"/>\n",
       "<polyline clip-path=\"url(#clip9702)\" style=\"stroke:#e26f46; stroke-width:4; stroke-opacity:1; fill:none\" points=\"\n",
       "  352.781,1462.13 527.618,1461.89 632.688,1461.62 721.524,1461.26 818.024,1460.67 906.989,1459.82 1002.37,1458.42 1112.87,1455.8 1211.08,1452.03 1297.2,1446.96 \n",
       "  1391.09,1438.56 1485.54,1425.46 1589.96,1402.43 1689.32,1367.27 1740.97,1341.47 1792.63,1308.67 1836.11,1274.26 1879.59,1232.13 1906.14,1201.91 1932.68,1167.71 \n",
       "  1959.22,1129.02 1985.77,1085.25 2010.72,1038.88 2035.67,986.813 2060.62,928.337 2085.57,862.67 2105.56,804.289 2125.55,740.224 2145.53,669.921 2165.52,592.775 \n",
       "  2185.51,508.117 2205.5,415.217 2225.48,313.273 2245.47,201.404 2251.62,164.826 2257.77,127.188 2263.93,88.4582 \n",
       "  \"/>\n",
       "<polygon clip-path=\"url(#clip9700)\" points=\"\n",
       "1969.12,312.204 2249.26,312.204 2249.26,130.764 1969.12,130.764 \n",
       "  \" fill=\"#ffffff\" fill-rule=\"evenodd\" fill-opacity=\"1\"/>\n",
       "<polyline clip-path=\"url(#clip9700)\" style=\"stroke:#000000; stroke-width:4; stroke-opacity:1; fill:none\" points=\"\n",
       "  1969.12,312.204 2249.26,312.204 2249.26,130.764 1969.12,130.764 1969.12,312.204 \n",
       "  \"/>\n",
       "<polyline clip-path=\"url(#clip9700)\" style=\"stroke:#009af9; stroke-width:4; stroke-opacity:1; fill:none\" points=\"\n",
       "  1993.12,191.244 2137.12,191.244 \n",
       "  \"/>\n",
       "<g clip-path=\"url(#clip9700)\">\n",
       "<text style=\"fill:#000000; fill-opacity:1; font-family:Arial,Helvetica Neue,Helvetica,sans-serif; font-size:48px; text-anchor:start;\" transform=\"rotate(0, 2161.12, 208.744)\" x=\"2161.12\" y=\"208.744\">f6</text>\n",
       "</g>\n",
       "<polyline clip-path=\"url(#clip9700)\" style=\"stroke:#e26f46; stroke-width:4; stroke-opacity:1; fill:none\" points=\"\n",
       "  1993.12,251.724 2137.12,251.724 \n",
       "  \"/>\n",
       "<g clip-path=\"url(#clip9700)\">\n",
       "<text style=\"fill:#000000; fill-opacity:1; font-family:Arial,Helvetica Neue,Helvetica,sans-serif; font-size:48px; text-anchor:start;\" transform=\"rotate(0, 2161.12, 269.224)\" x=\"2161.12\" y=\"269.224\">f4</text>\n",
       "</g>\n",
       "</svg>\n"
      ]
     },
     "execution_count": 58,
     "metadata": {},
     "output_type": "execute_result"
    }
   ],
   "source": [
    "plot(f6, 1, 10, label=\"f6\")\n",
    "plot!(f4, 1, 10, label=\"f4\")"
   ]
  },
  {
   "cell_type": "code",
   "execution_count": 128,
   "metadata": {},
   "outputs": [
    {
     "data": {
      "text/plain": [
       "3-element Array{Any,1}:\n",
       " Any[]\n",
       " Any[]\n",
       " Any[]"
      ]
     },
     "execution_count": 128,
     "metadata": {},
     "output_type": "execute_result"
    }
   ],
   "source": [
    "results = []\n",
    "for i in 1:3\n",
    "    push!(results, [])\n",
    "end\n",
    "results"
   ]
  },
  {
   "cell_type": "code",
   "execution_count": 98,
   "metadata": {},
   "outputs": [
    {
     "name": "stdout",
     "output_type": "stream",
     "text": [
      "Results of univariate zero finding:\n",
      "\n",
      "* Converged to: -1.895494267033981\n",
      "* Algorithm: FalsePosition{12}()\n",
      "* iterations: 9\n",
      "* function evaluations: 11\n",
      "* stopped as |f(x_n)| ≤ max(δ, max(1,|x|)⋅ϵ) using δ = atol, ϵ = rtol\n",
      "\n",
      "Trace:\n",
      "(a_0, b_0) = (-4.0000000000000000, -1.0000000000000000)\n",
      "(a_1, b_1) = (-4.0000000000000000, -1.3306399389847900)\n",
      "(a_2, b_2) = (-1.3306399389847900, -2.7091502711005591)\n",
      "(a_3, b_3) = (-2.7091502711005591, -1.6703976128129403)\n",
      "(a_4, b_4) = (-2.7091502711005591, -1.8219860952870306)\n",
      "(a_5, b_5) = (-1.8219860952870306, -1.8999322374320111)\n",
      "(a_6, b_6) = (-1.8999322374320111, -1.8952961558547932)\n",
      "(a_7, b_7) = (-1.8999322374320111, -1.8954937598224171)\n",
      "(a_8, b_8) = (-1.8954937598224171, -1.8954942670341588)\n",
      "(a_9, b_9) = (-1.8954937598224171, -1.8954942670339809)\n",
      "\n"
     ]
    },
    {
     "data": {
      "text/plain": [
       "-1.895494267033981"
      ]
     },
     "execution_count": 98,
     "metadata": {},
     "output_type": "execute_result"
    }
   ],
   "source": [
    "x_1_1 = find_zero(f1, (-4,-1), FalsePosition(12), verbose = true)"
   ]
  },
  {
   "cell_type": "code",
   "execution_count": 99,
   "metadata": {},
   "outputs": [
    {
     "data": {
      "text/plain": [
       "true"
      ]
     },
     "execution_count": 99,
     "metadata": {},
     "output_type": "execute_result"
    }
   ],
   "source": [
    "iszero(f1(x_1_1))"
   ]
  },
  {
   "cell_type": "code",
   "execution_count": 129,
   "metadata": {},
   "outputs": [
    {
     "data": {
      "text/plain": [
       "1-element Array{Any,1}:\n",
       " [9, 11]"
      ]
     },
     "execution_count": 129,
     "metadata": {},
     "output_type": "execute_result"
    }
   ],
   "source": [
    "push!(results[1], [9, 11])"
   ]
  },
  {
   "cell_type": "code",
   "execution_count": 105,
   "metadata": {},
   "outputs": [
    {
     "name": "stdout",
     "output_type": "stream",
     "text": [
      "Results of univariate zero finding:\n",
      "\n",
      "* Converged to: -1.895494267033981\n",
      "* Algorithm: Roots.Newton()\n",
      "* iterations: 6\n",
      "* function evaluations: 13\n",
      "* stopped as |f(x_n)| ≤ max(δ, max(1,|x|)⋅ϵ) using δ = atol, ϵ = rtol\n",
      "\n",
      "Trace:\n",
      "x_0 = -4.0000000000000000,\t fx_0 =  2.7568024953079284\n",
      "x_1 = -1.6103517191520549,\t fx_1 = -0.1940419278890597\n",
      "x_2 = -1.9699916004393636,\t fx_2 =  0.0636217292796347\n",
      "x_3 = -1.8984000905205811,\t fx_3 =  0.0023839348777178\n",
      "x_4 = -1.8954991329401036,\t fx_4 =  0.0000039852979348\n",
      "x_5 = -1.8954942670476800,\t fx_5 =  0.0000000000112198\n",
      "x_6 = -1.8954942670339809,\t fx_6 =  0.0000000000000000\n",
      "\n"
     ]
    },
    {
     "data": {
      "text/plain": [
       "-1.895494267033981"
      ]
     },
     "execution_count": 105,
     "metadata": {},
     "output_type": "execute_result"
    }
   ],
   "source": [
    "x_1_2 = find_zero((f1, D(f1)), -4, Roots.Newton(), verbose=true)"
   ]
  },
  {
   "cell_type": "code",
   "execution_count": 106,
   "metadata": {},
   "outputs": [
    {
     "data": {
      "text/plain": [
       "true"
      ]
     },
     "execution_count": 106,
     "metadata": {},
     "output_type": "execute_result"
    }
   ],
   "source": [
    "iszero(f1(x_1_2))"
   ]
  },
  {
   "cell_type": "code",
   "execution_count": 130,
   "metadata": {},
   "outputs": [
    {
     "data": {
      "text/plain": [
       "1-element Array{Any,1}:\n",
       " [6, 13]"
      ]
     },
     "execution_count": 130,
     "metadata": {},
     "output_type": "execute_result"
    }
   ],
   "source": [
    "push!(results[2], [6, 13])"
   ]
  },
  {
   "cell_type": "code",
   "execution_count": 112,
   "metadata": {
    "scrolled": true
   },
   "outputs": [
    {
     "name": "stdout",
     "output_type": "stream",
     "text": [
      "Results of univariate zero finding:\n",
      "\n",
      "* Converged to: -1.895494267033981\n",
      "* Algorithm: Order2()\n",
      "* iterations: 7\n",
      "* function evaluations: 12\n",
      "* stopped as |f(x_n)| ≤ max(δ, max(1,|x|)⋅ϵ) using δ = atol, ϵ = rtol\n",
      "\n",
      "Trace:\n",
      "x_0 = -4.0000000000000000,\t fx_0 =  2.7568024953079284\n",
      "x_1 = -1.6103564656441494,\t fx_1 = -0.1940393669313554\n",
      "x_2 = -1.7674929508389685,\t fx_2 = -0.0969710333368793\n",
      "x_3 = -1.9244719241046020,\t fx_3 =  0.0241299460884606\n",
      "x_4 = -1.8931931171131449,\t fx_4 = -0.0018821836713926\n",
      "x_5 = -1.8954948258992330,\t fx_5 =  0.0000004577233774\n",
      "x_6 = -1.8954942670340136,\t fx_6 =  0.0000000000000268\n",
      "x_7 = -1.8954942670339809,\t fx_7 =  0.0000000000000000\n",
      "\n"
     ]
    },
    {
     "data": {
      "text/plain": [
       "-1.895494267033981"
      ]
     },
     "execution_count": 112,
     "metadata": {},
     "output_type": "execute_result"
    }
   ],
   "source": [
    "x_1_3 = find_zero(f1, -4, Order2(), verbose=true)"
   ]
  },
  {
   "cell_type": "code",
   "execution_count": 131,
   "metadata": {},
   "outputs": [
    {
     "data": {
      "text/plain": [
       "1-element Array{Any,1}:\n",
       " [7, 12]"
      ]
     },
     "execution_count": 131,
     "metadata": {},
     "output_type": "execute_result"
    }
   ],
   "source": [
    "push!(results[3], [7, 12])"
   ]
  },
  {
   "cell_type": "code",
   "execution_count": 119,
   "metadata": {},
   "outputs": [
    {
     "name": "stdout",
     "output_type": "stream",
     "text": [
      "Results of univariate zero finding:\n",
      "\n",
      "* Converged to: 0.35173371124919584\n",
      "* Algorithm: FalsePosition{12}()\n",
      "* iterations: 6\n",
      "* function evaluations: 8\n",
      "* stopped as |f(x_n)| ≤ max(δ, max(1,|x|)⋅ϵ) using δ = atol, ϵ = rtol\n",
      "\n",
      "Trace:\n",
      "(a_0, b_0) = ( 0.0000000000000000,  10.0000000000000000)\n",
      "(a_1, b_1) = ( 0.0000000000000000,  0.4761915056695685)\n",
      "(a_2, b_2) = ( 0.0000000000000000,  0.3562129762804232)\n",
      "(a_3, b_3) = ( 0.3562129762804232,  0.3517204488386264)\n",
      "(a_4, b_4) = ( 0.3517204488386264,  0.3517337189711611)\n",
      "(a_5, b_5) = ( 0.3517204488386264,  0.3517337112492092)\n",
      "(a_6, b_6) = ( 0.3517204488386264,  0.3517337112491958)\n",
      "\n"
     ]
    },
    {
     "data": {
      "text/plain": [
       "0.35173371124919584"
      ]
     },
     "execution_count": 119,
     "metadata": {},
     "output_type": "execute_result"
    }
   ],
   "source": [
    "x_2_1 = find_zero(f2, (-1,10), FalsePosition(12), verbose = true)"
   ]
  },
  {
   "cell_type": "code",
   "execution_count": 115,
   "metadata": {},
   "outputs": [
    {
     "data": {
      "text/plain": [
       "true"
      ]
     },
     "execution_count": 115,
     "metadata": {},
     "output_type": "execute_result"
    }
   ],
   "source": [
    "iszero(f2(x_2_1))"
   ]
  },
  {
   "cell_type": "code",
   "execution_count": 132,
   "metadata": {},
   "outputs": [
    {
     "data": {
      "text/plain": [
       "2-element Array{Any,1}:\n",
       " [9, 11]\n",
       " [6, 8] "
      ]
     },
     "execution_count": 132,
     "metadata": {},
     "output_type": "execute_result"
    }
   ],
   "source": [
    "push!(results[1], [6,8])"
   ]
  },
  {
   "cell_type": "code",
   "execution_count": 118,
   "metadata": {},
   "outputs": [
    {
     "name": "stdout",
     "output_type": "stream",
     "text": [
      "Results of univariate zero finding:\n",
      "\n",
      "* Converged to: 0.35173371124919584\n",
      "* Algorithm: Roots.Newton()\n",
      "* iterations: 5\n",
      "* function evaluations: 11\n",
      "* stopped as |f(x_n)| ≤ max(δ, max(1,|x|)⋅ϵ) using δ = atol, ϵ = rtol\n",
      "\n",
      "Trace:\n",
      "x_0 = -1.0000000000000000,\t fx_0 = -4.7182818284590446\n",
      "x_1 =  0.0000000000000000,\t fx_1 = -1.0000000000000000\n",
      "x_2 =  0.3333333333333333,\t fx_2 = -0.0498646439071226\n",
      "x_3 =  0.3516893315554154,\t fx_3 = -0.0001199797491258\n",
      "x_4 =  0.3517337109929426,\t fx_4 = -0.0000000006927722\n",
      "x_5 =  0.3517337112491958,\t fx_5 =  0.0000000000000000\n",
      "\n"
     ]
    },
    {
     "data": {
      "text/plain": [
       "0.35173371124919584"
      ]
     },
     "execution_count": 118,
     "metadata": {},
     "output_type": "execute_result"
    }
   ],
   "source": [
    "x_2_2 = find_zero((f2, D(f2)), -1, Roots.Newton(), verbose=true)"
   ]
  },
  {
   "cell_type": "code",
   "execution_count": 120,
   "metadata": {},
   "outputs": [
    {
     "data": {
      "text/plain": [
       "true"
      ]
     },
     "execution_count": 120,
     "metadata": {},
     "output_type": "execute_result"
    }
   ],
   "source": [
    "iszero(f2(x_2_2))"
   ]
  },
  {
   "cell_type": "code",
   "execution_count": 134,
   "metadata": {},
   "outputs": [
    {
     "data": {
      "text/plain": [
       "2-element Array{Any,1}:\n",
       " [6, 13]\n",
       " [5, 11]"
      ]
     },
     "execution_count": 134,
     "metadata": {},
     "output_type": "execute_result"
    }
   ],
   "source": [
    "push!(results[2], [5, 11])"
   ]
  },
  {
   "cell_type": "code",
   "execution_count": 121,
   "metadata": {},
   "outputs": [
    {
     "name": "stdout",
     "output_type": "stream",
     "text": [
      "Results of univariate zero finding:\n",
      "\n",
      "* Converged to: 0.35173371124919584\n",
      "* Algorithm: Order2()\n",
      "* iterations: 6\n",
      "* function evaluations: 10\n",
      "* stopped as |f(x_n)| ≤ max(δ, max(1,|x|)⋅ϵ) using δ = atol, ϵ = rtol\n",
      "\n",
      "Trace:\n",
      "x_0 = -1.0000000000000000,\t fx_0 = -4.7182818284590446\n",
      "x_1 =  0.0000017443542752,\t fx_1 = -0.9999947669386956\n",
      "x_2 =  0.2689418489611959,\t fx_2 = -0.2263039947419349\n",
      "x_3 =  0.3476066362457234,\t fx_3 = -0.0111634120640596\n",
      "x_4 =  0.3516884669466453,\t fx_4 = -0.0001223172180252\n",
      "x_5 =  0.3517337117028822,\t fx_5 =  0.0000000012265263\n",
      "x_6 =  0.3517337112491958,\t fx_6 =  0.0000000000000000\n",
      "\n"
     ]
    },
    {
     "data": {
      "text/plain": [
       "0.35173371124919584"
      ]
     },
     "execution_count": 121,
     "metadata": {},
     "output_type": "execute_result"
    }
   ],
   "source": [
    "x_2_3 = find_zero(f2, -1, Order2(), verbose=true)"
   ]
  },
  {
   "cell_type": "code",
   "execution_count": 122,
   "metadata": {},
   "outputs": [
    {
     "data": {
      "text/plain": [
       "true"
      ]
     },
     "execution_count": 122,
     "metadata": {},
     "output_type": "execute_result"
    }
   ],
   "source": [
    "iszero(f2(x_2_3))"
   ]
  },
  {
   "cell_type": "code",
   "execution_count": 135,
   "metadata": {},
   "outputs": [
    {
     "data": {
      "text/plain": [
       "2-element Array{Any,1}:\n",
       " [7, 12]\n",
       " [6, 10]"
      ]
     },
     "execution_count": 135,
     "metadata": {},
     "output_type": "execute_result"
    }
   ],
   "source": [
    "push!(results[3], [6, 10])"
   ]
  },
  {
   "cell_type": "code",
   "execution_count": 140,
   "metadata": {},
   "outputs": [
    {
     "name": "stdout",
     "output_type": "stream",
     "text": [
      "Results of univariate zero finding:\n",
      "\n",
      "* Converged to: 4.547473508864641e-12\n",
      "* Algorithm: FalsePosition{12}()\n",
      "* iterations: 41\n",
      "* function evaluations: 43\n",
      "* Note: Too many steps taken. \n",
      "\tAlgorithm stopped early, but |f(xn)| < ϵ^(1/3), where ϵ depends on xn, rtol, and atol. \n",
      "\n",
      "Trace:\n",
      "(a_0, b_0) = ( 0.0000000000000000,  10.0000000000000000)\n",
      "(a_1, b_1) = ( 0.0000000000000000,  5.0000000000000000)\n",
      "(a_2, b_2) = ( 0.0000000000000000,  2.5000000000000000)\n",
      "(a_3, b_3) = ( 0.0000000000000000,  1.2500000000000000)\n",
      "(a_4, b_4) = ( 0.0000000000000000,  0.6250000000000000)\n",
      "(a_5, b_5) = ( 0.0000000000000000,  0.3125000000000000)\n",
      "(a_6, b_6) = ( 0.0000000000000000,  0.1562500000000000)\n",
      "(a_7, b_7) = ( 0.0000000000000000,  0.0781250000000000)\n",
      "(a_8, b_8) = ( 0.0000000000000000,  0.0390625000000000)\n",
      "(a_9, b_9) = ( 0.0000000000000000,  0.0195312500000000)\n",
      "(a_10, b_10) = ( 0.0000000000000000,  0.0097656250000000)\n",
      "(a_11, b_11) = ( 0.0000000000000000,  0.0048828125000000)\n",
      "(a_12, b_12) = ( 0.0000000000000000,  0.0024414062500000)\n",
      "(a_13, b_13) = ( 0.0000000000000000,  0.0012207031250000)\n",
      "(a_14, b_14) = ( 0.0000000000000000,  0.0006103515625000)\n",
      "(a_15, b_15) = ( 0.0000000000000000,  0.0003051757812500)\n",
      "(a_16, b_16) = ( 0.0000000000000000,  0.0001525878906250)\n",
      "(a_17, b_17) = ( 0.0000000000000000,  0.0000762939453125)\n",
      "(a_18, b_18) = ( 0.0000000000000000,  0.0000381469726563)\n",
      "(a_19, b_19) = ( 0.0000000000000000,  0.0000190734863281)\n",
      "(a_20, b_20) = ( 0.0000000000000000,  0.0000095367431641)\n",
      "(a_21, b_21) = ( 0.0000000000000000,  0.0000047683715820)\n",
      "(a_22, b_22) = ( 0.0000000000000000,  0.0000023841857910)\n",
      "(a_23, b_23) = ( 0.0000000000000000,  0.0000011920928955)\n",
      "(a_24, b_24) = ( 0.0000000000000000,  0.0000005960464478)\n",
      "(a_25, b_25) = ( 0.0000000000000000,  0.0000002980232239)\n",
      "(a_26, b_26) = ( 0.0000000000000000,  0.0000001490116119)\n",
      "(a_27, b_27) = ( 0.0000000000000000,  0.0000000745058060)\n",
      "(a_28, b_28) = ( 0.0000000000000000,  0.0000000372529030)\n",
      "(a_29, b_29) = ( 0.0000000000000000,  0.0000000186264515)\n",
      "(a_30, b_30) = ( 0.0000000000000000,  0.0000000093132257)\n",
      "(a_31, b_31) = ( 0.0000000000000000,  0.0000000046566129)\n",
      "(a_32, b_32) = ( 0.0000000000000000,  0.0000000023283064)\n",
      "(a_33, b_33) = ( 0.0000000000000000,  0.0000000011641532)\n",
      "(a_34, b_34) = ( 0.0000000000000000,  0.0000000005820766)\n",
      "(a_35, b_35) = ( 0.0000000000000000,  0.0000000002910383)\n",
      "(a_36, b_36) = ( 0.0000000000000000,  0.0000000001455192)\n",
      "(a_37, b_37) = ( 0.0000000000000000,  0.0000000000727596)\n",
      "(a_38, b_38) = ( 0.0000000000000000,  0.0000000000363798)\n",
      "(a_39, b_39) = ( 0.0000000000000000,  0.0000000000181899)\n",
      "(a_40, b_40) = ( 0.0000000000000000,  0.0000000000090949)\n",
      "(a_41, b_41) = ( 0.0000000000000000,  0.0000000000045475)\n",
      "\n"
     ]
    },
    {
     "data": {
      "text/plain": [
       "4.547473508864641e-12"
      ]
     },
     "execution_count": 140,
     "metadata": {},
     "output_type": "execute_result"
    }
   ],
   "source": [
    "x_3_1 = find_zero(f3, (-1, 10), FalsePosition(12), verbose = true)"
   ]
  },
  {
   "cell_type": "code",
   "execution_count": 203,
   "metadata": {},
   "outputs": [
    {
     "data": {
      "text/plain": [
       "4.547473508843962e-12"
      ]
     },
     "execution_count": 203,
     "metadata": {},
     "output_type": "execute_result"
    }
   ],
   "source": [
    "f3(x_3_1)"
   ]
  },
  {
   "cell_type": "code",
   "execution_count": 152,
   "metadata": {},
   "outputs": [
    {
     "data": {
      "text/plain": [
       "4.5474735088439625e-12"
      ]
     },
     "execution_count": 152,
     "metadata": {},
     "output_type": "execute_result"
    }
   ],
   "source": [
    "nextfloat(f3(x_3_1))"
   ]
  },
  {
   "cell_type": "code",
   "execution_count": 153,
   "metadata": {},
   "outputs": [
    {
     "data": {
      "text/plain": [
       "4.547473508843961e-12"
      ]
     },
     "execution_count": 153,
     "metadata": {},
     "output_type": "execute_result"
    }
   ],
   "source": [
    "prevfloat(f3(x_3_1))"
   ]
  },
  {
   "cell_type": "code",
   "execution_count": 155,
   "metadata": {},
   "outputs": [
    {
     "data": {
      "text/plain": [
       "3-element Array{Any,1}:\n",
       " [9, 11]    \n",
       " [6, 8]     \n",
       " [41, 43, 0]"
      ]
     },
     "execution_count": 155,
     "metadata": {},
     "output_type": "execute_result"
    }
   ],
   "source": [
    "push!(results[1], [41, 43, false]) #becouse we didn't find zero"
   ]
  },
  {
   "cell_type": "code",
   "execution_count": 156,
   "metadata": {},
   "outputs": [
    {
     "name": "stdout",
     "output_type": "stream",
     "text": [
      "Results of univariate zero finding:\n",
      "\n",
      "* Converged to: -8.80999858950826e-27\n",
      "* Algorithm: Roots.Newton()\n",
      "* iterations: 7\n",
      "* function evaluations: 15\n",
      "* stopped as |f(x_n)| ≤ max(δ, max(1,|x|)⋅ϵ) using δ = atol, ϵ = rtol\n",
      "\n",
      "Trace:\n",
      "x_0 = -1.0000000000000000,\t fx_0 = -2.7182818284590451\n",
      "x_1 = -0.5000000000000000,\t fx_1 = -0.8243606353500641\n",
      "x_2 = -0.1666666666666667,\t fx_2 = -0.1968934021442744\n",
      "x_3 = -0.0238095238095238,\t fx_3 = -0.0243832198464995\n",
      "x_4 = -0.0005537098560354,\t fx_4 = -0.0005540165355380\n",
      "x_5 = -0.0000003064249342,\t fx_5 = -0.0000003064250281\n",
      "x_6 = -0.0000000000000939,\t fx_6 = -0.0000000000000939\n",
      "x_7 = -0.0000000000000000,\t fx_7 = -0.0000000000000000\n",
      "\n"
     ]
    },
    {
     "data": {
      "text/plain": [
       "-8.80999858950826e-27"
      ]
     },
     "execution_count": 156,
     "metadata": {},
     "output_type": "execute_result"
    }
   ],
   "source": [
    "x_3_2 = find_zero((f3, D(f3)), -1, Roots.Newton(), verbose=true)"
   ]
  },
  {
   "cell_type": "code",
   "execution_count": 157,
   "metadata": {},
   "outputs": [
    {
     "data": {
      "text/plain": [
       "false"
      ]
     },
     "execution_count": 157,
     "metadata": {},
     "output_type": "execute_result"
    }
   ],
   "source": [
    "iszero(f3(x_3_2))"
   ]
  },
  {
   "cell_type": "code",
   "execution_count": 158,
   "metadata": {},
   "outputs": [
    {
     "data": {
      "text/plain": [
       "7.761607514713753e-53"
      ]
     },
     "execution_count": 158,
     "metadata": {},
     "output_type": "execute_result"
    }
   ],
   "source": [
    "nextfloat(f3(x_3_2))*prevfloat(f3(x_3_2))"
   ]
  },
  {
   "cell_type": "code",
   "execution_count": 159,
   "metadata": {},
   "outputs": [
    {
     "data": {
      "text/plain": [
       "-8.80999858950826e-27"
      ]
     },
     "execution_count": 159,
     "metadata": {},
     "output_type": "execute_result"
    }
   ],
   "source": [
    "f3(x_3_2)"
   ]
  },
  {
   "cell_type": "code",
   "execution_count": 161,
   "metadata": {},
   "outputs": [
    {
     "data": {
      "text/plain": [
       "3-element Array{Any,1}:\n",
       " [6, 13]   \n",
       " [5, 11]   \n",
       " [7, 15, 0]"
      ]
     },
     "execution_count": 161,
     "metadata": {},
     "output_type": "execute_result"
    }
   ],
   "source": [
    "push!(results[2], [7, 15, false])"
   ]
  },
  {
   "cell_type": "code",
   "execution_count": 160,
   "metadata": {},
   "outputs": [
    {
     "name": "stdout",
     "output_type": "stream",
     "text": [
      "Results of univariate zero finding:\n",
      "\n",
      "* Converged to: 0.0\n",
      "* Algorithm: Order2()\n",
      "* iterations: 8\n",
      "* function evaluations: 12\n",
      "* stopped as |f(x_n)| ≤ max(δ, max(1,|x|)⋅ϵ) using δ = atol, ϵ = rtol\n",
      "\n",
      "Trace:\n",
      "x_0 = -1.0000000000000000,\t fx_0 = -2.7182818284590451\n",
      "x_1 = -0.4999977291793846,\t fx_1 = -0.8243550194353155\n",
      "x_2 = -0.2823655695224345,\t fx_2 = -0.3744911408566633\n",
      "x_3 = -0.1011967323743296,\t fx_3 = -0.1119736079155024\n",
      "x_4 = -0.0239214048560102,\t fx_4 = -0.0245005376853914\n",
      "x_5 = -0.0022771768778110,\t fx_5 = -0.0022823683210177\n",
      "x_6 = -0.0000537668632335,\t fx_6 = -0.0000537697541868\n",
      "x_7 =  0.0000000000001554,\t fx_7 =  0.0000000000001554\n",
      "x_8 =  0.0000000000000000,\t fx_8 =  0.0000000000000000\n",
      "\n"
     ]
    },
    {
     "data": {
      "text/plain": [
       "0.0"
      ]
     },
     "execution_count": 160,
     "metadata": {},
     "output_type": "execute_result"
    }
   ],
   "source": [
    "x_3_3 = find_zero(f3, -1, Order2(), verbose=true)"
   ]
  },
  {
   "cell_type": "code",
   "execution_count": 202,
   "metadata": {},
   "outputs": [
    {
     "data": {
      "text/plain": [
       "0.0"
      ]
     },
     "execution_count": 202,
     "metadata": {},
     "output_type": "execute_result"
    }
   ],
   "source": [
    "f3(x_3_3)"
   ]
  },
  {
   "cell_type": "code",
   "execution_count": 163,
   "metadata": {},
   "outputs": [
    {
     "data": {
      "text/plain": [
       "3-element Array{Any,1}:\n",
       " [7, 12]\n",
       " [6, 10]\n",
       " [8, 12]"
      ]
     },
     "execution_count": 163,
     "metadata": {},
     "output_type": "execute_result"
    }
   ],
   "source": [
    "push!(results[3], [8, 12])"
   ]
  },
  {
   "cell_type": "code",
   "execution_count": 185,
   "metadata": {},
   "outputs": [
    {
     "name": "stdout",
     "output_type": "stream",
     "text": [
      "Results of univariate zero finding:\n",
      "\n",
      "* Converged to: -0.10541196710309271\n",
      "* Algorithm: FalsePosition{12}()\n",
      "* iterations: 8\n",
      "* function evaluations: 10\n",
      "* stopped as |f(x_n)| ≤ max(δ, max(1,|x|)⋅ϵ) using δ = atol, ϵ = rtol\n",
      "\n",
      "Trace:\n",
      "(a_0, b_0) = (-1.0000000000000000, -0.1000000000000000)\n",
      "(a_1, b_1) = (-0.1000000000000000, -0.2890471951694066)\n",
      "(a_2, b_2) = (-0.1000000000000000, -0.1248329970722943)\n",
      "(a_3, b_3) = (-0.1248329970722943, -0.1048668609764908)\n",
      "(a_4, b_4) = (-0.1048668609764908, -0.1055773409098360)\n",
      "(a_5, b_5) = (-0.1048668609764908, -0.1054133175400137)\n",
      "(a_6, b_6) = (-0.1054133175400137, -0.1054119670988507)\n",
      "(a_7, b_7) = (-0.1054119670988507, -0.1054119671030928)\n",
      "(a_8, b_8) = (-0.1054119670988507, -0.1054119671030927)\n",
      "\n"
     ]
    },
    {
     "data": {
      "text/plain": [
       "-0.10541196710309271"
      ]
     },
     "execution_count": 185,
     "metadata": {},
     "output_type": "execute_result"
    }
   ],
   "source": [
    "x_4_1 = find_zero(f4, (-1, -0.1), FalsePosition(12), verbose = true)"
   ]
  },
  {
   "cell_type": "code",
   "execution_count": 201,
   "metadata": {},
   "outputs": [
    {
     "data": {
      "text/plain": [
       "1.1102230246251565e-16"
      ]
     },
     "execution_count": 201,
     "metadata": {},
     "output_type": "execute_result"
    }
   ],
   "source": [
    "f4(x_4_1)"
   ]
  },
  {
   "cell_type": "code",
   "execution_count": 187,
   "metadata": {},
   "outputs": [
    {
     "data": {
      "text/plain": [
       "false"
      ]
     },
     "execution_count": 187,
     "metadata": {},
     "output_type": "execute_result"
    }
   ],
   "source": [
    "nextfloat(f4(x_4_1))*f4(x_4_1) <0.0 ||  prevfloat(f4(x_4_1))*f4(x_4_1) <0.0"
   ]
  },
  {
   "cell_type": "code",
   "execution_count": 189,
   "metadata": {},
   "outputs": [
    {
     "data": {
      "text/plain": [
       "4-element Array{Any,1}:\n",
       " [9, 11]    \n",
       " [6, 8]     \n",
       " [41, 43, 0]\n",
       " [8, 10, 0] "
      ]
     },
     "execution_count": 189,
     "metadata": {},
     "output_type": "execute_result"
    }
   ],
   "source": [
    "push!(results[1], [8, 10, false])"
   ]
  },
  {
   "cell_type": "code",
   "execution_count": 190,
   "metadata": {},
   "outputs": [
    {
     "name": "stdout",
     "output_type": "stream",
     "text": [
      "Results of univariate zero finding:\n",
      "\n",
      "* Converged to: -0.10541196710309268\n",
      "* Algorithm: Roots.Newton()\n",
      "* iterations: 4\n",
      "* function evaluations: 9\n",
      "* stopped as |f(x_n)| ≤ max(δ, max(1,|x|)⋅ϵ) using δ = atol, ϵ = rtol\n",
      "\n",
      "Trace:\n",
      "x_0 = -0.1000000000000000,\t fx_0 = -0.0951625819640405\n",
      "x_1 = -0.1049835963195163,\t fx_1 = -0.0069736558598285\n",
      "x_2 = -0.1054092211828917,\t fx_2 = -0.0000444171643654\n",
      "x_3 = -0.1054119669900398,\t fx_3 = -0.0000000018286342\n",
      "x_4 = -0.1054119671030927,\t fx_4 = -0.0000000000000001\n",
      "\n"
     ]
    },
    {
     "data": {
      "text/plain": [
       "-0.10541196710309268"
      ]
     },
     "execution_count": 190,
     "metadata": {},
     "output_type": "execute_result"
    }
   ],
   "source": [
    "x_4_2 = find_zero((f4, D(f4)), -0.1, Roots.Newton(), verbose=true)"
   ]
  },
  {
   "cell_type": "code",
   "execution_count": 200,
   "metadata": {},
   "outputs": [
    {
     "data": {
      "text/plain": [
       "-1.1102230246251565e-16"
      ]
     },
     "execution_count": 200,
     "metadata": {},
     "output_type": "execute_result"
    }
   ],
   "source": [
    "f4(x_4_2)"
   ]
  },
  {
   "cell_type": "code",
   "execution_count": 192,
   "metadata": {},
   "outputs": [
    {
     "data": {
      "text/plain": [
       "false"
      ]
     },
     "execution_count": 192,
     "metadata": {},
     "output_type": "execute_result"
    }
   ],
   "source": [
    "nextfloat(f4(x_4_2))*f4(x_4_2) <0.0 ||  prevfloat(f4(x_4_2))*f4(x_4_2) <0.0"
   ]
  },
  {
   "cell_type": "code",
   "execution_count": 193,
   "metadata": {},
   "outputs": [
    {
     "data": {
      "text/plain": [
       "4-element Array{Any,1}:\n",
       " [6, 13]   \n",
       " [5, 11]   \n",
       " [7, 15, 0]\n",
       " [4, 9, 0] "
      ]
     },
     "execution_count": 193,
     "metadata": {},
     "output_type": "execute_result"
    }
   ],
   "source": [
    "push!(results[2], [4, 9, false])"
   ]
  },
  {
   "cell_type": "code",
   "execution_count": 194,
   "metadata": {},
   "outputs": [
    {
     "name": "stdout",
     "output_type": "stream",
     "text": [
      "Results of univariate zero finding:\n",
      "\n",
      "* Converged to: -0.1054119671030927\n",
      "* Algorithm: Order2()\n",
      "* iterations: 5\n",
      "* function evaluations: 10\n",
      "* stopped as |f(x_n)| ≤ max(δ, max(1,|x|)⋅ϵ) using δ = atol, ϵ = rtol\n",
      "\n",
      "Trace:\n",
      "x_0 = -0.1000000000000000,\t fx_0 = -0.0951625819640405\n",
      "x_1 = -0.1049831229217823,\t fx_1 = -0.0069814123061248\n",
      "x_2 = -0.1053776429289905,\t fx_2 = -0.0005554803259353\n",
      "x_3 = -0.1054122356185909,\t fx_3 =  0.0000043432281683\n",
      "x_4 = -0.1054119671194976,\t fx_4 =  0.0000000002653499\n",
      "x_5 = -0.1054119671030927,\t fx_5 = -0.0000000000000001\n",
      "\n"
     ]
    },
    {
     "data": {
      "text/plain": [
       "-0.1054119671030927"
      ]
     },
     "execution_count": 194,
     "metadata": {},
     "output_type": "execute_result"
    }
   ],
   "source": [
    "x_4_3 = find_zero(f4, -0.1, Order2(), verbose=true)"
   ]
  },
  {
   "cell_type": "code",
   "execution_count": 199,
   "metadata": {},
   "outputs": [
    {
     "data": {
      "text/plain": [
       "-1.1102230246251565e-16"
      ]
     },
     "execution_count": 199,
     "metadata": {},
     "output_type": "execute_result"
    }
   ],
   "source": [
    "f4(x_4_3)"
   ]
  },
  {
   "cell_type": "code",
   "execution_count": 196,
   "metadata": {},
   "outputs": [
    {
     "data": {
      "text/plain": [
       "false"
      ]
     },
     "execution_count": 196,
     "metadata": {},
     "output_type": "execute_result"
    }
   ],
   "source": [
    "nextfloat(f4(x_4_3))*f4(x_4_3) <0.0 ||  prevfloat(f4(x_4_3))*f4(x_4_3) <0.0"
   ]
  },
  {
   "cell_type": "code",
   "execution_count": 197,
   "metadata": {},
   "outputs": [
    {
     "data": {
      "text/plain": [
       "4-element Array{Any,1}:\n",
       " [7, 12]   \n",
       " [6, 10]   \n",
       " [8, 12]   \n",
       " [5, 10, 0]"
      ]
     },
     "execution_count": 197,
     "metadata": {},
     "output_type": "execute_result"
    }
   ],
   "source": [
    "push!(results[3], [5, 10, false])"
   ]
  },
  {
   "cell_type": "code",
   "execution_count": 209,
   "metadata": {},
   "outputs": [
    {
     "name": "stdout",
     "output_type": "stream",
     "text": [
      "Results of univariate zero finding:\n",
      "\n",
      "* Converged to: -3.0\n",
      "* Algorithm: FalsePosition{12}()\n",
      "* iterations: 11\n",
      "* function evaluations: 13\n",
      "* stopped as |f(x_n)| ≤ max(δ, max(1,|x|)⋅ϵ) using δ = atol, ϵ = rtol\n",
      "\n",
      "Trace:\n",
      "(a_0, b_0) = (-5.0000000000000000,  0.0000000000000000)\n",
      "(a_1, b_1) = (-5.0000000000000000, -0.2000000000000000)\n",
      "(a_2, b_2) = (-5.0000000000000000, -0.6834532374100719)\n",
      "(a_3, b_3) = (-5.0000000000000000, -1.8370674759484140)\n",
      "(a_4, b_4) = (-1.8370674759484140, -3.4495756373972446)\n",
      "(a_5, b_5) = (-3.4495756373972446, -2.6636028086174672)\n",
      "(a_6, b_6) = (-3.4495756373972446, -2.9281170242512058)\n",
      "(a_7, b_7) = (-2.9281170242512058, -3.0020448415419576)\n",
      "(a_8, b_8) = (-3.0020448415419576, -2.9999245354909165)\n",
      "(a_9, b_9) = (-3.0020448415419576, -2.9999999229004630)\n",
      "(a_10, b_10) = (-2.9999999229004630, -3.0000000000000022)\n",
      "(a_11, b_11) = (-2.9999999229004630, -3.0000000000000000)\n",
      "\n"
     ]
    },
    {
     "data": {
      "text/plain": [
       "-3.0"
      ]
     },
     "execution_count": 209,
     "metadata": {},
     "output_type": "execute_result"
    }
   ],
   "source": [
    "x_5_1 = find_zero(f5, (-5, 0), FalsePosition(12), verbose = true)"
   ]
  },
  {
   "cell_type": "code",
   "execution_count": 210,
   "metadata": {},
   "outputs": [
    {
     "data": {
      "text/plain": [
       "true"
      ]
     },
     "execution_count": 210,
     "metadata": {},
     "output_type": "execute_result"
    }
   ],
   "source": [
    "iszero(f5(x_5_1))"
   ]
  },
  {
   "cell_type": "code",
   "execution_count": 213,
   "metadata": {},
   "outputs": [
    {
     "data": {
      "text/plain": [
       "5-element Array{Any,1}:\n",
       " [9, 11]    \n",
       " [6, 8]     \n",
       " [41, 43, 0]\n",
       " [8, 10, 0] \n",
       " [11, 13]   "
      ]
     },
     "execution_count": 213,
     "metadata": {},
     "output_type": "execute_result"
    }
   ],
   "source": [
    "push!(results[1], [11, 13])"
   ]
  },
  {
   "cell_type": "code",
   "execution_count": 212,
   "metadata": {},
   "outputs": [
    {
     "name": "stdout",
     "output_type": "stream",
     "text": [
      "Results of univariate zero finding:\n",
      "\n",
      "* Converged to: -3.0\n",
      "* Algorithm: Roots.Newton()\n",
      "* iterations: 6\n",
      "* function evaluations: 13\n",
      "* stopped as |f(x_n)| ≤ max(δ, max(1,|x|)⋅ϵ) using δ = atol, ϵ = rtol\n",
      "\n",
      "Trace:\n",
      "x_0 = -5.0000000000000000,\t fx_0 = -72.0000000000000000\n",
      "x_1 = -3.7999999999999998,\t fx_1 = -18.4319999999999951\n",
      "x_2 = -3.2000000000000002,\t fx_2 = -3.5280000000000031\n",
      "x_3 = -3.0173913043478260,\t fx_3 = -0.2806857894304249\n",
      "x_4 = -3.0001492815823849,\t fx_4 = -0.0023886836014122\n",
      "x_5 = -3.0000000111412479,\t fx_5 = -0.0000001782599678\n",
      "x_6 = -3.0000000000000000,\t fx_6 =  0.0000000000000000\n",
      "\n"
     ]
    },
    {
     "data": {
      "text/plain": [
       "-3.0"
      ]
     },
     "execution_count": 212,
     "metadata": {},
     "output_type": "execute_result"
    }
   ],
   "source": [
    "x_5_2 = find_zero((f5, D(f5)), -5, Roots.Newton(), verbose=true)"
   ]
  },
  {
   "cell_type": "code",
   "execution_count": 214,
   "metadata": {},
   "outputs": [
    {
     "data": {
      "text/plain": [
       "true"
      ]
     },
     "execution_count": 214,
     "metadata": {},
     "output_type": "execute_result"
    }
   ],
   "source": [
    "iszero(f5(x_5_2))"
   ]
  },
  {
   "cell_type": "code",
   "execution_count": 215,
   "metadata": {},
   "outputs": [
    {
     "data": {
      "text/plain": [
       "5-element Array{Any,1}:\n",
       " [6, 13]   \n",
       " [5, 11]   \n",
       " [7, 15, 0]\n",
       " [4, 9, 0] \n",
       " [6, 13]   "
      ]
     },
     "execution_count": 215,
     "metadata": {},
     "output_type": "execute_result"
    }
   ],
   "source": [
    "push!(results[2], [6, 13])"
   ]
  },
  {
   "cell_type": "code",
   "execution_count": 229,
   "metadata": {},
   "outputs": [
    {
     "name": "stdout",
     "output_type": "stream",
     "text": [
      "Results of univariate zero finding:\n",
      "\n",
      "* Converged to: -3.0\n",
      "* Algorithm: Order2()\n",
      "* iterations: 8\n",
      "* function evaluations: 12\n",
      "* stopped as |f(x_n)| ≤ max(δ, max(1,|x|)⋅ϵ) using δ = atol, ϵ = rtol\n",
      "\n",
      "Trace:\n",
      "x_0 = -5.0000000000000000,\t fx_0 = -72.0000000000000000\n",
      "x_1 = -3.7999983044609751,\t fx_1 = -18.4319479130710526\n",
      "x_2 = -3.3870960635529221,\t fx_2 = -7.4502876919337053\n",
      "x_3 = -3.1069707982047912,\t fx_3 = -1.8042988249048666\n",
      "x_4 = -3.0174506629375433,\t fx_4 = -0.2816521262706168\n",
      "x_5 = -3.0008916433930430,\t fx_5 = -0.0142726552210929\n",
      "x_6 = -3.0000077267040379,\t fx_6 = -0.0001236277422229\n",
      "x_7 = -2.9999999995522155,\t fx_7 =  0.0000000071645516\n",
      "x_8 = -3.0000000000000000,\t fx_8 =  0.0000000000000000\n",
      "\n"
     ]
    },
    {
     "data": {
      "text/plain": [
       "-3.0"
      ]
     },
     "execution_count": 229,
     "metadata": {},
     "output_type": "execute_result"
    }
   ],
   "source": [
    "x_5_3 = find_zero(f5, -5, Order2(), verbose=true)"
   ]
  },
  {
   "cell_type": "code",
   "execution_count": 217,
   "metadata": {},
   "outputs": [
    {
     "data": {
      "text/plain": [
       "5-element Array{Any,1}:\n",
       " [7, 12]   \n",
       " [6, 10]   \n",
       " [8, 12]   \n",
       " [5, 10, 0]\n",
       " [8, 12]   "
      ]
     },
     "execution_count": 217,
     "metadata": {},
     "output_type": "execute_result"
    }
   ],
   "source": [
    "push!(results[3], [8, 12])"
   ]
  },
  {
   "cell_type": "code",
   "execution_count": 224,
   "metadata": {},
   "outputs": [
    {
     "name": "stdout",
     "output_type": "stream",
     "text": [
      "Results of univariate zero finding:\n",
      "\n",
      "* Converged to: 0.703204840363136\n",
      "* Algorithm: FalsePosition{12}()\n",
      "* iterations: 6\n",
      "* function evaluations: 8\n",
      "* stopped as |f(x_n)| ≤ max(δ, max(1,|x|)⋅ϵ) using δ = atol, ϵ = rtol\n",
      "\n",
      "Trace:\n",
      "(a_0, b_0) = ( 0.1000000000000000,  1.0000000000000000)\n",
      "(a_1, b_1) = ( 0.1000000000000000,  0.7549297290907755)\n",
      "(a_2, b_2) = ( 0.1000000000000000,  0.7128055490599104)\n",
      "(a_3, b_3) = ( 0.1000000000000000,  0.7035608700705174)\n",
      "(a_4, b_4) = ( 0.1000000000000000,  0.7032065116023988)\n",
      "(a_5, b_5) = ( 0.1000000000000000,  0.7032048406219429)\n",
      "(a_6, b_6) = ( 0.1000000000000000,  0.7032048403631360)\n",
      "\n"
     ]
    },
    {
     "data": {
      "text/plain": [
       "0.703204840363136"
      ]
     },
     "execution_count": 224,
     "metadata": {},
     "output_type": "execute_result"
    }
   ],
   "source": [
    "x_6_1 = find_zero(f6, (0.1, 1), FalsePosition(12), verbose = true)"
   ]
  },
  {
   "cell_type": "code",
   "execution_count": 225,
   "metadata": {},
   "outputs": [
    {
     "data": {
      "text/plain": [
       "6.318628617291849e-16"
      ]
     },
     "execution_count": 225,
     "metadata": {},
     "output_type": "execute_result"
    }
   ],
   "source": [
    "f6(x_6_1)"
   ]
  },
  {
   "cell_type": "code",
   "execution_count": 227,
   "metadata": {},
   "outputs": [
    {
     "data": {
      "text/plain": [
       "false"
      ]
     },
     "execution_count": 227,
     "metadata": {},
     "output_type": "execute_result"
    }
   ],
   "source": [
    "f6(prevfloat(x_6_1)) * f6(x_6_1) < 0.0 || f6(x_6_1) * f6(nextfloat(x_6_1)) < 0.0"
   ]
  },
  {
   "cell_type": "code",
   "execution_count": 231,
   "metadata": {},
   "outputs": [
    {
     "data": {
      "text/plain": [
       "6-element Array{Any,1}:\n",
       " [9, 11]    \n",
       " [6, 8]     \n",
       " [41, 43, 0]\n",
       " [8, 10, 0] \n",
       " [11, 13]   \n",
       " [6, 8, 0]  "
      ]
     },
     "execution_count": 231,
     "metadata": {},
     "output_type": "execute_result"
    }
   ],
   "source": [
    "push!(results[1], [6, 8, false])"
   ]
  },
  {
   "cell_type": "code",
   "execution_count": 232,
   "metadata": {},
   "outputs": [
    {
     "name": "stdout",
     "output_type": "stream",
     "text": [
      "Results of univariate zero finding:\n",
      "\n",
      "* Converged to: 0.7032048403631358\n",
      "* Algorithm: Roots.Newton()\n",
      "* iterations: 6\n",
      "* function evaluations: 13\n",
      "* stopped as |f(x_n)| ≤ max(δ, max(1,|x|)⋅ϵ) using δ = atol, ϵ = rtol\n",
      "\n",
      "Trace:\n",
      "x_0 =  0.1000000000000000,\t fx_0 = -1.8928290819243523\n",
      "x_1 =  0.1899412548984625,\t fx_1 = -1.0677092626324702\n",
      "x_2 =  0.4488958690984893,\t fx_2 = -0.4830223147399398\n",
      "x_3 =  0.7191126996476793,\t fx_3 =  0.0332787417447514\n",
      "x_4 =  0.7033136108329566,\t fx_4 =  0.0002260037453380\n",
      "x_5 =  0.7032048454169875,\t fx_5 =  0.0000000105004267\n",
      "x_6 =  0.7032048403631358,\t fx_6 =  0.0000000000000002\n",
      "\n"
     ]
    },
    {
     "data": {
      "text/plain": [
       "0.7032048403631358"
      ]
     },
     "execution_count": 232,
     "metadata": {},
     "output_type": "execute_result"
    }
   ],
   "source": [
    "x_6_2 = find_zero((f6, D(f6)), 0.1, Roots.Newton(), verbose=true)"
   ]
  },
  {
   "cell_type": "code",
   "execution_count": 233,
   "metadata": {},
   "outputs": [
    {
     "data": {
      "text/plain": [
       "false"
      ]
     },
     "execution_count": 233,
     "metadata": {},
     "output_type": "execute_result"
    }
   ],
   "source": [
    "iszero(f6(x_6_2))"
   ]
  },
  {
   "cell_type": "code",
   "execution_count": 234,
   "metadata": {},
   "outputs": [
    {
     "data": {
      "text/plain": [
       "true"
      ]
     },
     "execution_count": 234,
     "metadata": {},
     "output_type": "execute_result"
    }
   ],
   "source": [
    "f6(prevfloat(x_6_2)) * f6(x_6_2) < 0.0 || f6(x_6_2) * f6(nextfloat(x_6_2)) < 0.0"
   ]
  },
  {
   "cell_type": "code",
   "execution_count": 235,
   "metadata": {},
   "outputs": [
    {
     "data": {
      "text/plain": [
       "6-element Array{Any,1}:\n",
       " [6, 13]   \n",
       " [5, 11]   \n",
       " [7, 15, 0]\n",
       " [4, 9, 0] \n",
       " [6, 13]   \n",
       " [6, 13]   "
      ]
     },
     "execution_count": 235,
     "metadata": {},
     "output_type": "execute_result"
    }
   ],
   "source": [
    "push!(results[2], [6, 13])"
   ]
  },
  {
   "cell_type": "code",
   "execution_count": 236,
   "metadata": {},
   "outputs": [
    {
     "name": "stdout",
     "output_type": "stream",
     "text": [
      "Results of univariate zero finding:\n",
      "\n",
      "* Converged to: 0.7032048403631358\n",
      "* Algorithm: Order2()\n",
      "* iterations: 8\n",
      "* function evaluations: 13\n",
      "* stopped as |f(x_n)| ≤ max(δ, max(1,|x|)⋅ϵ) using δ = atol, ϵ = rtol\n",
      "\n",
      "Trace:\n",
      "x_0 =  0.1000000000000000,\t fx_0 = -1.8928290819243523\n",
      "x_1 =  0.1899489733885895,\t fx_1 = -1.0676774394577921\n",
      "x_2 =  0.3063354466704121,\t fx_2 = -0.7480552821770290\n",
      "x_3 =  0.5787305673752152,\t fx_3 = -0.2460741361041660\n",
      "x_4 =  0.7122602716894387,\t fx_4 =  0.0188877351504679\n",
      "x_5 =  0.7027416429227225,\t fx_5 = -0.0009621985404364\n",
      "x_6 =  0.7032047416326741,\t fx_6 = -0.0000002051330335\n",
      "x_7 =  0.7032048403631312,\t fx_7 = -0.0000000000000094\n",
      "x_8 =  0.7032048403631358,\t fx_8 =  0.0000000000000002\n",
      "\n"
     ]
    },
    {
     "data": {
      "text/plain": [
       "0.7032048403631358"
      ]
     },
     "execution_count": 236,
     "metadata": {},
     "output_type": "execute_result"
    }
   ],
   "source": [
    "x_6_3 = find_zero(f6, 0.1, Order2(), verbose=true)"
   ]
  },
  {
   "cell_type": "code",
   "execution_count": 237,
   "metadata": {},
   "outputs": [
    {
     "data": {
      "text/plain": [
       "true"
      ]
     },
     "execution_count": 237,
     "metadata": {},
     "output_type": "execute_result"
    }
   ],
   "source": [
    "f6(prevfloat(x_6_3)) * f6(x_6_3) < 0.0 || f6(x_6_3) * f6(nextfloat(x_6_3)) < 0.0"
   ]
  },
  {
   "cell_type": "code",
   "execution_count": 238,
   "metadata": {},
   "outputs": [
    {
     "data": {
      "text/plain": [
       "6-element Array{Any,1}:\n",
       " [7, 12]   \n",
       " [6, 10]   \n",
       " [8, 12]   \n",
       " [5, 10, 0]\n",
       " [8, 12]   \n",
       " [8, 13]   "
      ]
     },
     "execution_count": 238,
     "metadata": {},
     "output_type": "execute_result"
    }
   ],
   "source": [
    "push!(results[3], [8, 13])"
   ]
  },
  {
   "cell_type": "code",
   "execution_count": 239,
   "metadata": {},
   "outputs": [
    {
     "data": {
      "text/plain": [
       "3-element Array{Any,1}:\n",
       " Any[[9, 11], [6, 8], [41, 43, 0], [8, 10, 0], [11, 13], [6, 8, 0]]\n",
       " Any[[6, 13], [5, 11], [7, 15, 0], [4, 9, 0], [6, 13], [6, 13]]    \n",
       " Any[[7, 12], [6, 10], [8, 12], [5, 10, 0], [8, 12], [8, 13]]      "
      ]
     },
     "execution_count": 239,
     "metadata": {},
     "output_type": "execute_result"
    }
   ],
   "source": [
    "results"
   ]
  },
  {
   "cell_type": "code",
   "execution_count": null,
   "metadata": {},
   "outputs": [],
   "source": []
  }
 ],
 "metadata": {
  "kernelspec": {
   "display_name": "Julia 1.1.0",
   "language": "julia",
   "name": "julia-1.1"
  },
  "language_info": {
   "file_extension": ".jl",
   "mimetype": "application/julia",
   "name": "julia",
   "version": "1.1.0"
  }
 },
 "nbformat": 4,
 "nbformat_minor": 2
}
